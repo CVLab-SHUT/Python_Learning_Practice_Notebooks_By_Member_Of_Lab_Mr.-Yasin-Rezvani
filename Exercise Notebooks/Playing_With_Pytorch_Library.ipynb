{
 "cells": [
  {
   "cell_type": "code",
   "execution_count": 78,
   "id": "64b0829a-d1d1-4414-b38c-1043ce2bddca",
   "metadata": {},
   "outputs": [],
   "source": [
    "# import require package to play with pytorch ^_^ Let's start \n",
    "import torch\n",
    "import torch.nn as nn\n",
    "import torch.nn.functional as F\n",
    "from torch.utils.data import DataLoader \n",
    "from torchvision import datasets, transforms\n",
    "from sklearn.metrics import confusion_matrix\n",
    "import matplotlib.pyplot as plt\n",
    "import pandas as pd\n",
    "import numpy as np"
   ]
  },
  {
   "cell_type": "code",
   "execution_count": 79,
   "id": "f1b1260a-7b80-405d-b5c4-1f06a78ad1bd",
   "metadata": {},
   "outputs": [
    {
     "data": {
      "text/plain": [
       "'2.2.1+cpu'"
      ]
     },
     "execution_count": 79,
     "metadata": {},
     "output_type": "execute_result"
    }
   ],
   "source": [
    "torch.__version__"
   ]
  },
  {
   "cell_type": "code",
   "execution_count": 80,
   "id": "b85425d2-c6ef-4bf9-9b27-d51b1dab182a",
   "metadata": {},
   "outputs": [],
   "source": [
    "arr = np.array([1,2,3,4,5])"
   ]
  },
  {
   "cell_type": "code",
   "execution_count": 81,
   "id": "47c27f4d-42ae-4f7e-bc77-c641723f84e2",
   "metadata": {},
   "outputs": [
    {
     "data": {
      "text/plain": [
       "array([1, 2, 3, 4, 5])"
      ]
     },
     "execution_count": 81,
     "metadata": {},
     "output_type": "execute_result"
    }
   ],
   "source": [
    "arr"
   ]
  },
  {
   "cell_type": "code",
   "execution_count": 82,
   "id": "f668f01e-58a0-42c1-b667-466dedae93b4",
   "metadata": {},
   "outputs": [
    {
     "data": {
      "text/plain": [
       "dtype('int32')"
      ]
     },
     "execution_count": 82,
     "metadata": {},
     "output_type": "execute_result"
    }
   ],
   "source": [
    "arr.dtype"
   ]
  },
  {
   "cell_type": "code",
   "execution_count": 83,
   "id": "a4def4d4-683b-424d-8aa2-e8317b11d83d",
   "metadata": {},
   "outputs": [
    {
     "data": {
      "text/plain": [
       "numpy.ndarray"
      ]
     },
     "execution_count": 83,
     "metadata": {},
     "output_type": "execute_result"
    }
   ],
   "source": [
    "type(arr)"
   ]
  },
  {
   "cell_type": "code",
   "execution_count": 84,
   "id": "5e3cc68d-92d2-40d7-bd0f-a07828ef5c10",
   "metadata": {},
   "outputs": [
    {
     "data": {
      "text/plain": [
       "tensor([1, 2, 3, 4, 5], dtype=torch.int32)"
      ]
     },
     "execution_count": 84,
     "metadata": {},
     "output_type": "execute_result"
    }
   ],
   "source": [
    "# indicate tensor in pytorch method 1\n",
    "torch.from_numpy(arr)"
   ]
  },
  {
   "cell_type": "code",
   "execution_count": 85,
   "id": "4f80ca5f-fa94-4323-ad2a-4e95eda88ff9",
   "metadata": {},
   "outputs": [],
   "source": [
    "# indicate tensor in pytorch method 2\n",
    "x = torch.as_tensor(arr)"
   ]
  },
  {
   "cell_type": "code",
   "execution_count": 86,
   "id": "154b4f08-151b-42d3-8cd4-904c39311e15",
   "metadata": {},
   "outputs": [
    {
     "data": {
      "text/plain": [
       "torch.int32"
      ]
     },
     "execution_count": 86,
     "metadata": {},
     "output_type": "execute_result"
    }
   ],
   "source": [
    "x.dtype"
   ]
  },
  {
   "cell_type": "code",
   "execution_count": 87,
   "id": "b1c6e376-84ba-4fdb-9a49-e50ad018210f",
   "metadata": {},
   "outputs": [],
   "source": [
    "arr2d = np.arange(0.0,12.0)"
   ]
  },
  {
   "cell_type": "code",
   "execution_count": 88,
   "id": "34088e1f-0575-4f5f-8e5f-6091996530cb",
   "metadata": {},
   "outputs": [
    {
     "data": {
      "text/plain": [
       "array([ 0.,  1.,  2.,  3.,  4.,  5.,  6.,  7.,  8.,  9., 10., 11.])"
      ]
     },
     "execution_count": 88,
     "metadata": {},
     "output_type": "execute_result"
    }
   ],
   "source": [
    "arr2d"
   ]
  },
  {
   "cell_type": "code",
   "execution_count": 89,
   "id": "38bf5d37-3205-48c5-aaee-fb7a4b57b8d6",
   "metadata": {},
   "outputs": [],
   "source": [
    "arr2d = arr2d.reshape(3,4)"
   ]
  },
  {
   "cell_type": "code",
   "execution_count": 90,
   "id": "d4f154bd-a0df-4085-9909-04cb26f06c21",
   "metadata": {},
   "outputs": [
    {
     "data": {
      "text/plain": [
       "array([[ 0.,  1.,  2.,  3.],\n",
       "       [ 4.,  5.,  6.,  7.],\n",
       "       [ 8.,  9., 10., 11.]])"
      ]
     },
     "execution_count": 90,
     "metadata": {},
     "output_type": "execute_result"
    }
   ],
   "source": [
    "arr2d"
   ]
  },
  {
   "cell_type": "code",
   "execution_count": 91,
   "id": "f0297064-9be3-4034-bf0f-b01fe2ecf547",
   "metadata": {},
   "outputs": [],
   "source": [
    "x2 = torch.as_tensor(arr2d)"
   ]
  },
  {
   "cell_type": "code",
   "execution_count": 92,
   "id": "e96a797a-1825-4b83-9b6c-4db93b7c2b68",
   "metadata": {},
   "outputs": [
    {
     "data": {
      "text/plain": [
       "tensor([[ 0.,  1.,  2.,  3.],\n",
       "        [ 4.,  5.,  6.,  7.],\n",
       "        [ 8.,  9., 10., 11.]], dtype=torch.float64)"
      ]
     },
     "execution_count": 92,
     "metadata": {},
     "output_type": "execute_result"
    }
   ],
   "source": [
    "x2"
   ]
  },
  {
   "cell_type": "code",
   "execution_count": 93,
   "id": "0ed21398-dd37-49ed-a8a8-6d053319c435",
   "metadata": {},
   "outputs": [],
   "source": [
    "arr[0] = 121212"
   ]
  },
  {
   "cell_type": "code",
   "execution_count": 94,
   "id": "2777c9bf-b246-4c6f-b97f-c8c01d7df2fa",
   "metadata": {},
   "outputs": [
    {
     "data": {
      "text/plain": [
       "tensor([121212,      2,      3,      4,      5], dtype=torch.int32)"
      ]
     },
     "execution_count": 94,
     "metadata": {},
     "output_type": "execute_result"
    }
   ],
   "source": [
    "# the data from tensor was change as array\n",
    "x"
   ]
  },
  {
   "cell_type": "code",
   "execution_count": 95,
   "id": "1e74485b-348a-4eca-bff2-f29c38042da0",
   "metadata": {},
   "outputs": [],
   "source": [
    "my_tensor = torch.tensor(arr2d)"
   ]
  },
  {
   "cell_type": "code",
   "execution_count": 96,
   "id": "f84c153d-f42d-418c-a003-5ea8ff936003",
   "metadata": {},
   "outputs": [
    {
     "data": {
      "text/plain": [
       "tensor([[ 0.,  1.,  2.,  3.],\n",
       "        [ 4.,  5.,  6.,  7.],\n",
       "        [ 8.,  9., 10., 11.]], dtype=torch.float64)"
      ]
     },
     "execution_count": 96,
     "metadata": {},
     "output_type": "execute_result"
    }
   ],
   "source": [
    "my_tensor"
   ]
  },
  {
   "cell_type": "code",
   "execution_count": 97,
   "id": "a5569bbe-e75c-4a50-ba60-21bd3b2ebfea",
   "metadata": {},
   "outputs": [],
   "source": [
    "arr2d[0][0] = 0"
   ]
  },
  {
   "cell_type": "code",
   "execution_count": 98,
   "id": "c2bd30c0-b3ea-46fb-979b-92a2f9429834",
   "metadata": {},
   "outputs": [
    {
     "data": {
      "text/plain": [
       "array([[ 0.,  1.,  2.,  3.],\n",
       "       [ 4.,  5.,  6.,  7.],\n",
       "       [ 8.,  9., 10., 11.]])"
      ]
     },
     "execution_count": 98,
     "metadata": {},
     "output_type": "execute_result"
    }
   ],
   "source": [
    "arr2d"
   ]
  },
  {
   "cell_type": "code",
   "execution_count": 99,
   "id": "c6aa86dc-457d-4a47-b4ee-0fb41d909057",
   "metadata": {},
   "outputs": [
    {
     "data": {
      "text/plain": [
       "tensor([[ 0.,  1.,  2.,  3.],\n",
       "        [ 4.,  5.,  6.,  7.],\n",
       "        [ 8.,  9., 10., 11.]], dtype=torch.float64)"
      ]
     },
     "execution_count": 99,
     "metadata": {},
     "output_type": "execute_result"
    }
   ],
   "source": [
    "# the torch.tensor() was not changed when the array was change due to torch.tensor() make a copy from array\n",
    "my_tensor"
   ]
  },
  {
   "cell_type": "code",
   "execution_count": 100,
   "id": "ca01f74f-d60a-4d4b-819b-99a129cf1380",
   "metadata": {},
   "outputs": [
    {
     "data": {
      "text/plain": [
       "dtype('int32')"
      ]
     },
     "execution_count": 100,
     "metadata": {},
     "output_type": "execute_result"
    }
   ],
   "source": [
    "arr.dtype"
   ]
  },
  {
   "cell_type": "code",
   "execution_count": 101,
   "id": "9e82ac97-73e7-432d-9cf5-c456f1a696b5",
   "metadata": {},
   "outputs": [
    {
     "data": {
      "text/plain": [
       "tensor([121212,      2,      3,      4,      5], dtype=torch.int32)"
      ]
     },
     "execution_count": 101,
     "metadata": {},
     "output_type": "execute_result"
    }
   ],
   "source": [
    "torch.tensor(arr)"
   ]
  },
  {
   "cell_type": "code",
   "execution_count": 102,
   "id": "e4bd17a5-ccac-4588-8b2d-da672b06d595",
   "metadata": {},
   "outputs": [],
   "source": [
    "my_float_tensor = torch.Tensor(arr)"
   ]
  },
  {
   "cell_type": "code",
   "execution_count": 103,
   "id": "ba9c2f54-0c77-412e-a84d-3534ca8881c9",
   "metadata": {},
   "outputs": [
    {
     "data": {
      "text/plain": [
       "tensor([1.2121e+05, 2.0000e+00, 3.0000e+00, 4.0000e+00, 5.0000e+00])"
      ]
     },
     "execution_count": 103,
     "metadata": {},
     "output_type": "execute_result"
    }
   ],
   "source": [
    "my_float_tensor"
   ]
  },
  {
   "cell_type": "code",
   "execution_count": 104,
   "id": "5032a511-10af-4305-9ae3-5f73e64ccd3c",
   "metadata": {},
   "outputs": [
    {
     "data": {
      "text/plain": [
       "torch.float32"
      ]
     },
     "execution_count": 104,
     "metadata": {},
     "output_type": "execute_result"
    }
   ],
   "source": [
    "# different  of torch.tensor() or torch.Tensor() just in data type int32 vs float32\n",
    "my_float_tensor.dtype"
   ]
  },
  {
   "cell_type": "code",
   "execution_count": 105,
   "id": "c6190a2e-494e-4684-a8cc-7cdec80397c5",
   "metadata": {},
   "outputs": [
    {
     "data": {
      "text/plain": [
       "tensor([[2.3694e-38, 2.3694e-38],\n",
       "        [2.3694e-38, 0.0000e+00]])"
      ]
     },
     "execution_count": 105,
     "metadata": {},
     "output_type": "execute_result"
    }
   ],
   "source": [
    "torch.empty(2,2)"
   ]
  },
  {
   "cell_type": "code",
   "execution_count": 106,
   "id": "d8370625-c779-419e-86e6-70b0ee9f9179",
   "metadata": {},
   "outputs": [
    {
     "data": {
      "text/plain": [
       "tensor([[0., 0., 0., 0.],\n",
       "        [0., 0., 0., 0.],\n",
       "        [0., 0., 0., 0.]], dtype=torch.float64)"
      ]
     },
     "execution_count": 106,
     "metadata": {},
     "output_type": "execute_result"
    }
   ],
   "source": [
    "torch.zeros(3,4,dtype=torch.float64)"
   ]
  },
  {
   "cell_type": "code",
   "execution_count": 107,
   "id": "103b36db-1129-45fa-a3b0-bd4582a719c5",
   "metadata": {},
   "outputs": [
    {
     "data": {
      "text/plain": [
       "tensor([[1., 1., 1., 1., 1., 1., 1., 1., 1., 1.],\n",
       "        [1., 1., 1., 1., 1., 1., 1., 1., 1., 1.]])"
      ]
     },
     "execution_count": 107,
     "metadata": {},
     "output_type": "execute_result"
    }
   ],
   "source": [
    "torch.ones(2,10)"
   ]
  },
  {
   "cell_type": "code",
   "execution_count": 108,
   "id": "07eaf5f2-7718-44d4-9e5c-4cc77aac7a07",
   "metadata": {},
   "outputs": [
    {
     "data": {
      "text/plain": [
       "tensor([[ 1,  3],\n",
       "        [ 5,  7],\n",
       "        [ 9, 11],\n",
       "        [13, 15],\n",
       "        [17, 19]])"
      ]
     },
     "execution_count": 108,
     "metadata": {},
     "output_type": "execute_result"
    }
   ],
   "source": [
    "torch.arange(1,20,2).reshape(5,2)"
   ]
  },
  {
   "cell_type": "code",
   "execution_count": 109,
   "id": "8800202d-791c-49ff-8773-df539b2e17c1",
   "metadata": {},
   "outputs": [
    {
     "data": {
      "text/plain": [
       "tensor([[ 0.0000,  1.8182,  3.6364,  5.4545],\n",
       "        [ 7.2727,  9.0909, 10.9091, 12.7273],\n",
       "        [14.5455, 16.3636, 18.1818, 20.0000]])"
      ]
     },
     "execution_count": 109,
     "metadata": {},
     "output_type": "execute_result"
    }
   ],
   "source": [
    "torch.linspace(0,20,12).reshape(3,4)"
   ]
  },
  {
   "cell_type": "code",
   "execution_count": 110,
   "id": "b7b526aa-eb02-404c-9a6c-b3386bc4f659",
   "metadata": {},
   "outputs": [
    {
     "data": {
      "text/plain": [
       "torch.float64"
      ]
     },
     "execution_count": 110,
     "metadata": {},
     "output_type": "execute_result"
    }
   ],
   "source": [
    "my_tensor.dtype"
   ]
  },
  {
   "cell_type": "code",
   "execution_count": 111,
   "id": "8e6e3ae6-f287-4ff3-b0c6-804f2f205361",
   "metadata": {},
   "outputs": [],
   "source": [
    "my_tensor = my_tensor.type(torch.int32)"
   ]
  },
  {
   "cell_type": "code",
   "execution_count": 112,
   "id": "ffaa76b7-b8ab-4d55-a732-7a2e2a0c3b07",
   "metadata": {},
   "outputs": [
    {
     "data": {
      "text/plain": [
       "torch.int32"
      ]
     },
     "execution_count": 112,
     "metadata": {},
     "output_type": "execute_result"
    }
   ],
   "source": [
    "# I change the data type of my tensor by torch.int32\n",
    "my_tensor.dtype"
   ]
  },
  {
   "cell_type": "code",
   "execution_count": 113,
   "id": "88b16e7c-9649-4c7e-b0f2-c12a0f91d1eb",
   "metadata": {},
   "outputs": [],
   "source": [
    "my_tensor_original = torch.zeros(3,5)"
   ]
  },
  {
   "cell_type": "code",
   "execution_count": 114,
   "id": "19b90afe-2b62-4296-90ca-1727171e80c2",
   "metadata": {},
   "outputs": [
    {
     "data": {
      "text/plain": [
       "tensor([[0., 0., 0., 0., 0.],\n",
       "        [0., 0., 0., 0., 0.],\n",
       "        [0., 0., 0., 0., 0.]])"
      ]
     },
     "execution_count": 114,
     "metadata": {},
     "output_type": "execute_result"
    }
   ],
   "source": [
    "my_tensor_original"
   ]
  },
  {
   "cell_type": "code",
   "execution_count": 115,
   "id": "0aebf1f6-84e1-4304-a98d-3a881d5b7201",
   "metadata": {},
   "outputs": [
    {
     "data": {
      "text/plain": [
       "torch.Size([3, 5])"
      ]
     },
     "execution_count": 115,
     "metadata": {},
     "output_type": "execute_result"
    }
   ],
   "source": [
    "my_tensor_original.size()"
   ]
  },
  {
   "cell_type": "code",
   "execution_count": 116,
   "id": "01fbd07e-2cf4-413e-920a-e967072c470b",
   "metadata": {},
   "outputs": [
    {
     "data": {
      "text/plain": [
       "tensor([[24., 65., 63., 18., 17.],\n",
       "        [42., 30., 65., 64., 34.],\n",
       "        [12., 78., 51., 81., 60.]])"
      ]
     },
     "execution_count": 116,
     "metadata": {},
     "output_type": "execute_result"
    }
   ],
   "source": [
    "torch.randint_like(my_tensor_original,low=10,high=100)"
   ]
  },
  {
   "cell_type": "code",
   "execution_count": 117,
   "id": "fa9862d7-279d-476e-bd71-8b17cb6f00e3",
   "metadata": {},
   "outputs": [
    {
     "data": {
      "text/plain": [
       "tensor([[-0.8931, -0.1447,  0.9534, -2.6251,  0.5982],\n",
       "        [ 0.7360, -0.7027,  0.4127, -0.5930, -0.8437],\n",
       "        [ 0.6537,  0.1320, -1.5606, -0.7590,  0.9112]])"
      ]
     },
     "execution_count": 117,
     "metadata": {},
     "output_type": "execute_result"
    }
   ],
   "source": [
    "# this generator once generate new number and after that repeat it due to torch.manual_seed()\n",
    "torch.manual_seed(85)\n",
    "torch.randn_like(my_tensor_original)"
   ]
  },
  {
   "cell_type": "code",
   "execution_count": 118,
   "id": "e8ef4b0b-e490-408e-ba3e-7c565e7657b9",
   "metadata": {},
   "outputs": [],
   "source": [
    "# define transforms.ToTensor() in transform variable for own convinience \n",
    "transform = transforms.ToTensor()"
   ]
  },
  {
   "cell_type": "code",
   "execution_count": null,
   "id": "53ef6255-2e26-49e6-969b-f486290df646",
   "metadata": {},
   "outputs": [],
   "source": []
  }
 ],
 "metadata": {
  "kernelspec": {
   "display_name": "Python 3 (ipykernel)",
   "language": "python",
   "name": "python3"
  },
  "language_info": {
   "codemirror_mode": {
    "name": "ipython",
    "version": 3
   },
   "file_extension": ".py",
   "mimetype": "text/x-python",
   "name": "python",
   "nbconvert_exporter": "python",
   "pygments_lexer": "ipython3",
   "version": "3.8.10"
  }
 },
 "nbformat": 4,
 "nbformat_minor": 5
}
