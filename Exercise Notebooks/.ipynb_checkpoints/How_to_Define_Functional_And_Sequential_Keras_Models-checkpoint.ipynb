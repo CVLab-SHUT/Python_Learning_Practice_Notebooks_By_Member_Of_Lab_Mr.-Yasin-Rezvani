{
 "cells": [
  {
   "cell_type": "code",
   "execution_count": 31,
   "id": "2286da04-e5d8-4eae-b9db-5bcda21ddb97",
   "metadata": {},
   "outputs": [],
   "source": [
    "# import requirement library to load dataset and define different type of models\n",
    "import tensorflow as tf\n",
    "from tensorflow.keras import layers, models, datasets"
   ]
  },
  {
   "cell_type": "code",
   "execution_count": 32,
   "id": "52100a00-d2e2-4a31-a4a6-c8556c9c9b3b",
   "metadata": {},
   "outputs": [],
   "source": [
    "# load MNIST dataset to use its data ro define model\n",
    "(x_train, y_train), (x_test, y_test) = datasets.mnist.load_data()"
   ]
  },
  {
   "cell_type": "code",
   "execution_count": 33,
   "id": "96b9f060-b640-493f-a0d4-975b52db42b9",
   "metadata": {},
   "outputs": [],
   "source": [
    "x_train = x_train / 255\n",
    "y_train = y_train"
   ]
  },
  {
   "cell_type": "code",
   "execution_count": 34,
   "id": "4b26bd3a-83ea-4b75-b593-473001ea6986",
   "metadata": {},
   "outputs": [],
   "source": [
    "# define sequential model and add convolutional layers\n",
    "model = models.Sequential()\n",
    "\n",
    "model.add(layers.Input(shape=(28, 28, 1)))\n",
    "model.add(layers.Conv2D(32, (5, 5), activation=\"relu\"))\n",
    "model.add(layers.Conv2D(32, (5, 5), activation=\"relu\"))\n",
    "model.add(layers.MaxPooling2D())\n",
    "model.add(layers.Flatten())\n",
    "\n",
    "model.add(layers.Dense(10, activation=\"softmax\"))"
   ]
  },
  {
   "cell_type": "code",
   "execution_count": 35,
   "id": "df4ed04d-a161-4ba7-93e2-6b6c57f45b6e",
   "metadata": {},
   "outputs": [
    {
     "name": "stdout",
     "output_type": "stream",
     "text": [
      "Model: \"sequential_1\"\n",
      "_________________________________________________________________\n",
      " Layer (type)                Output Shape              Param #   \n",
      "=================================================================\n",
      " conv2d_2 (Conv2D)           (None, 24, 24, 32)        832       \n",
      "                                                                 \n",
      " conv2d_3 (Conv2D)           (None, 20, 20, 32)        25632     \n",
      "                                                                 \n",
      " max_pooling2d_1 (MaxPoolin  (None, 10, 10, 32)        0         \n",
      " g2D)                                                            \n",
      "                                                                 \n",
      " flatten_1 (Flatten)         (None, 3200)              0         \n",
      "                                                                 \n",
      " dense_1 (Dense)             (None, 10)                32010     \n",
      "                                                                 \n",
      "=================================================================\n",
      "Total params: 58474 (228.41 KB)\n",
      "Trainable params: 58474 (228.41 KB)\n",
      "Non-trainable params: 0 (0.00 Byte)\n",
      "_________________________________________________________________\n"
     ]
    }
   ],
   "source": [
    "# show interface of layer of defined sequential model \n",
    "model.summary()"
   ]
  },
  {
   "cell_type": "code",
   "execution_count": 45,
   "id": "3e5918f7-a903-465b-9b96-2c4459afb653",
   "metadata": {},
   "outputs": [
    {
     "name": "stdout",
     "output_type": "stream",
     "text": [
      "You must install pydot (`pip install pydot`) and install graphviz (see instructions at https://graphviz.gitlab.io/download/) for plot_model to work.\n"
     ]
    }
   ],
   "source": [
    "# show plot of layers seem like diagram or UML chart to show defined model\n",
    "import graphviz\n",
    "tf.keras.utils.plot_model(model, to_file='model_plot.png',\n",
    "                          show_shapes=True, show_layer_names=True)"
   ]
  }
 ],
 "metadata": {
  "kernelspec": {
   "display_name": "Python 3 (ipykernel)",
   "language": "python",
   "name": "python3"
  },
  "language_info": {
   "codemirror_mode": {
    "name": "ipython",
    "version": 3
   },
   "file_extension": ".py",
   "mimetype": "text/x-python",
   "name": "python",
   "nbconvert_exporter": "python",
   "pygments_lexer": "ipython3",
   "version": "3.8.10"
  }
 },
 "nbformat": 4,
 "nbformat_minor": 5
}
