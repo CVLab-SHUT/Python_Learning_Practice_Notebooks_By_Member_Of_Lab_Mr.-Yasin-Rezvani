{
 "cells": [
  {
   "cell_type": "code",
   "execution_count": 2,
   "id": "64b0829a-d1d1-4414-b38c-1043ce2bddca",
   "metadata": {},
   "outputs": [],
   "source": [
    "import torch"
   ]
  },
  {
   "cell_type": "code",
   "execution_count": 4,
   "id": "63341707-7772-48cb-b8df-9dba2eec7000",
   "metadata": {},
   "outputs": [],
   "source": [
    "import numpy as np"
   ]
  },
  {
   "cell_type": "code",
   "execution_count": 6,
   "id": "f1b1260a-7b80-405d-b5c4-1f06a78ad1bd",
   "metadata": {},
   "outputs": [
    {
     "data": {
      "text/plain": [
       "'2.2.1+cpu'"
      ]
     },
     "execution_count": 6,
     "metadata": {},
     "output_type": "execute_result"
    }
   ],
   "source": [
    "torch.__version__"
   ]
  },
  {
   "cell_type": "code",
   "execution_count": 8,
   "id": "b85425d2-c6ef-4bf9-9b27-d51b1dab182a",
   "metadata": {},
   "outputs": [],
   "source": [
    "arr = np.array([1,2,3,4,5])"
   ]
  },
  {
   "cell_type": "code",
   "execution_count": 9,
   "id": "47c27f4d-42ae-4f7e-bc77-c641723f84e2",
   "metadata": {},
   "outputs": [
    {
     "data": {
      "text/plain": [
       "array([1, 2, 3, 4, 5])"
      ]
     },
     "execution_count": 9,
     "metadata": {},
     "output_type": "execute_result"
    }
   ],
   "source": [
    "arr"
   ]
  },
  {
   "cell_type": "code",
   "execution_count": 12,
   "id": "f668f01e-58a0-42c1-b667-466dedae93b4",
   "metadata": {},
   "outputs": [
    {
     "data": {
      "text/plain": [
       "dtype('int32')"
      ]
     },
     "execution_count": 12,
     "metadata": {},
     "output_type": "execute_result"
    }
   ],
   "source": [
    "arr.dtype"
   ]
  },
  {
   "cell_type": "code",
   "execution_count": 13,
   "id": "a4def4d4-683b-424d-8aa2-e8317b11d83d",
   "metadata": {},
   "outputs": [
    {
     "data": {
      "text/plain": [
       "numpy.ndarray"
      ]
     },
     "execution_count": 13,
     "metadata": {},
     "output_type": "execute_result"
    }
   ],
   "source": [
    "type(arr)"
   ]
  },
  {
   "cell_type": "code",
   "execution_count": 15,
   "id": "5e3cc68d-92d2-40d7-bd0f-a07828ef5c10",
   "metadata": {},
   "outputs": [
    {
     "data": {
      "text/plain": [
       "tensor([1, 2, 3, 4, 5], dtype=torch.int32)"
      ]
     },
     "execution_count": 15,
     "metadata": {},
     "output_type": "execute_result"
    }
   ],
   "source": [
    "# indicate tensor in pytorch method 1\n",
    "torch.from_numpy(arr)"
   ]
  },
  {
   "cell_type": "code",
   "execution_count": 17,
   "id": "4f80ca5f-fa94-4323-ad2a-4e95eda88ff9",
   "metadata": {},
   "outputs": [],
   "source": [
    "# indicate tensor in pytorch method 2\n",
    "x = torch.as_tensor(arr)"
   ]
  },
  {
   "cell_type": "code",
   "execution_count": 19,
   "id": "154b4f08-151b-42d3-8cd4-904c39311e15",
   "metadata": {},
   "outputs": [
    {
     "data": {
      "text/plain": [
       "torch.int32"
      ]
     },
     "execution_count": 19,
     "metadata": {},
     "output_type": "execute_result"
    }
   ],
   "source": [
    "x.dtype"
   ]
  },
  {
   "cell_type": "code",
   "execution_count": 36,
   "id": "b1c6e376-84ba-4fdb-9a49-e50ad018210f",
   "metadata": {},
   "outputs": [],
   "source": [
    "arr2d = np.arange(0.0,12.0)"
   ]
  },
  {
   "cell_type": "code",
   "execution_count": 37,
   "id": "34088e1f-0575-4f5f-8e5f-6091996530cb",
   "metadata": {},
   "outputs": [
    {
     "data": {
      "text/plain": [
       "array([ 0.,  1.,  2.,  3.,  4.,  5.,  6.,  7.,  8.,  9., 10., 11.])"
      ]
     },
     "execution_count": 37,
     "metadata": {},
     "output_type": "execute_result"
    }
   ],
   "source": [
    "arr2d"
   ]
  },
  {
   "cell_type": "code",
   "execution_count": 38,
   "id": "38bf5d37-3205-48c5-aaee-fb7a4b57b8d6",
   "metadata": {},
   "outputs": [],
   "source": [
    "arr2d = arr2d.reshape(3,4)"
   ]
  },
  {
   "cell_type": "code",
   "execution_count": 39,
   "id": "d4f154bd-a0df-4085-9909-04cb26f06c21",
   "metadata": {},
   "outputs": [
    {
     "data": {
      "text/plain": [
       "array([[ 0.,  1.,  2.,  3.],\n",
       "       [ 4.,  5.,  6.,  7.],\n",
       "       [ 8.,  9., 10., 11.]])"
      ]
     },
     "execution_count": 39,
     "metadata": {},
     "output_type": "execute_result"
    }
   ],
   "source": [
    "arr2d"
   ]
  },
  {
   "cell_type": "code",
   "execution_count": 40,
   "id": "f0297064-9be3-4034-bf0f-b01fe2ecf547",
   "metadata": {},
   "outputs": [],
   "source": [
    "x2 = torch.as_tensor(arr2d)"
   ]
  },
  {
   "cell_type": "code",
   "execution_count": 41,
   "id": "e96a797a-1825-4b83-9b6c-4db93b7c2b68",
   "metadata": {},
   "outputs": [
    {
     "data": {
      "text/plain": [
       "tensor([[ 0.,  1.,  2.,  3.],\n",
       "        [ 4.,  5.,  6.,  7.],\n",
       "        [ 8.,  9., 10., 11.]], dtype=torch.float64)"
      ]
     },
     "execution_count": 41,
     "metadata": {},
     "output_type": "execute_result"
    }
   ],
   "source": [
    "x2"
   ]
  },
  {
   "cell_type": "code",
   "execution_count": 48,
   "id": "0ed21398-dd37-49ed-a8a8-6d053319c435",
   "metadata": {},
   "outputs": [],
   "source": [
    "arr[0] = 121212"
   ]
  },
  {
   "cell_type": "code",
   "execution_count": 51,
   "id": "2777c9bf-b246-4c6f-b97f-c8c01d7df2fa",
   "metadata": {},
   "outputs": [
    {
     "data": {
      "text/plain": [
       "tensor([121212,      2,      3,      4,      5], dtype=torch.int32)"
      ]
     },
     "execution_count": 51,
     "metadata": {},
     "output_type": "execute_result"
    }
   ],
   "source": [
    "# the data from tensor was change as array\n",
    "x"
   ]
  },
  {
   "cell_type": "code",
   "execution_count": 54,
   "id": "1e74485b-348a-4eca-bff2-f29c38042da0",
   "metadata": {},
   "outputs": [],
   "source": [
    "my_tensor = torch.tensor(arr2d)"
   ]
  },
  {
   "cell_type": "code",
   "execution_count": 55,
   "id": "f84c153d-f42d-418c-a003-5ea8ff936003",
   "metadata": {},
   "outputs": [
    {
     "data": {
      "text/plain": [
       "tensor([[1.2121e+05, 1.2121e+05, 1.2121e+05, 1.2121e+05],\n",
       "        [4.0000e+00, 5.0000e+00, 6.0000e+00, 7.0000e+00],\n",
       "        [8.0000e+00, 9.0000e+00, 1.0000e+01, 1.1000e+01]], dtype=torch.float64)"
      ]
     },
     "execution_count": 55,
     "metadata": {},
     "output_type": "execute_result"
    }
   ],
   "source": [
    "my_tensor"
   ]
  },
  {
   "cell_type": "code",
   "execution_count": 57,
   "id": "a5569bbe-e75c-4a50-ba60-21bd3b2ebfea",
   "metadata": {},
   "outputs": [],
   "source": [
    "arr2d[0][0] = 0"
   ]
  },
  {
   "cell_type": "code",
   "execution_count": 58,
   "id": "c2bd30c0-b3ea-46fb-979b-92a2f9429834",
   "metadata": {},
   "outputs": [
    {
     "data": {
      "text/plain": [
       "array([[0.00000e+00, 1.21212e+05, 1.21212e+05, 1.21212e+05],\n",
       "       [4.00000e+00, 5.00000e+00, 6.00000e+00, 7.00000e+00],\n",
       "       [8.00000e+00, 9.00000e+00, 1.00000e+01, 1.10000e+01]])"
      ]
     },
     "execution_count": 58,
     "metadata": {},
     "output_type": "execute_result"
    }
   ],
   "source": [
    "arr2d"
   ]
  },
  {
   "cell_type": "code",
   "execution_count": 60,
   "id": "c6aa86dc-457d-4a47-b4ee-0fb41d909057",
   "metadata": {},
   "outputs": [
    {
     "data": {
      "text/plain": [
       "tensor([[1.2121e+05, 1.2121e+05, 1.2121e+05, 1.2121e+05],\n",
       "        [4.0000e+00, 5.0000e+00, 6.0000e+00, 7.0000e+00],\n",
       "        [8.0000e+00, 9.0000e+00, 1.0000e+01, 1.1000e+01]], dtype=torch.float64)"
      ]
     },
     "execution_count": 60,
     "metadata": {},
     "output_type": "execute_result"
    }
   ],
   "source": [
    "# the torch.tensor() was not changed when the array was change due to torch.tensor() make a copy from array\n",
    "my_tensor"
   ]
  },
  {
   "cell_type": "code",
   "execution_count": null,
   "id": "ca01f74f-d60a-4d4b-819b-99a129cf1380",
   "metadata": {},
   "outputs": [],
   "source": []
  }
 ],
 "metadata": {
  "kernelspec": {
   "display_name": "Python 3 (ipykernel)",
   "language": "python",
   "name": "python3"
  },
  "language_info": {
   "codemirror_mode": {
    "name": "ipython",
    "version": 3
   },
   "file_extension": ".py",
   "mimetype": "text/x-python",
   "name": "python",
   "nbconvert_exporter": "python",
   "pygments_lexer": "ipython3",
   "version": "3.8.10"
  }
 },
 "nbformat": 4,
 "nbformat_minor": 5
}
