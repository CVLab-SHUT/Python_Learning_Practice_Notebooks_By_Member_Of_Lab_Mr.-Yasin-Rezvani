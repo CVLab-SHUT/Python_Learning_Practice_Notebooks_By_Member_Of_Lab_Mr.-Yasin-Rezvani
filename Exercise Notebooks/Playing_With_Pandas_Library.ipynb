{
 "cells": [
  {
   "cell_type": "code",
   "execution_count": 4,
   "id": "48a07bb8-f9e8-4541-919b-d778b29656b8",
   "metadata": {},
   "outputs": [],
   "source": [
    "import numpy as np\n",
    "import pandas as pd"
   ]
  },
  {
   "cell_type": "code",
   "execution_count": 5,
   "id": "f96359dc-67d0-4ccb-947b-4bf5a35e3bab",
   "metadata": {},
   "outputs": [],
   "source": [
    "indexes = ['Iran','b','c']\n",
    "list_py = [10,20,30]\n",
    "dic = {'a':10 , 'b':20 , 'c':30}"
   ]
  },
  {
   "cell_type": "code",
   "execution_count": 6,
   "id": "797086b0-6c95-4fef-aaf4-815b6cb3395b",
   "metadata": {},
   "outputs": [],
   "source": [
    "sample = pd.Series(list_py,indexes)"
   ]
  },
  {
   "cell_type": "code",
   "execution_count": 7,
   "id": "a3a1bdce-a31a-43b7-bf38-f57fcb012447",
   "metadata": {},
   "outputs": [
    {
     "data": {
      "text/plain": [
       "Iran    10\n",
       "b       20\n",
       "c       30\n",
       "dtype: int64"
      ]
     },
     "execution_count": 7,
     "metadata": {},
     "output_type": "execute_result"
    }
   ],
   "source": [
    "sample"
   ]
  },
  {
   "cell_type": "code",
   "execution_count": 8,
   "id": "b9bc6fb5-7708-4e69-bf86-1b8283f65a09",
   "metadata": {},
   "outputs": [],
   "source": [
    "covid19_data = pd.Series(data = [2000,400,1220,587,54789], index = ['Iran' , 'Usa' , 'India' , 'China' , 'France'])"
   ]
  },
  {
   "cell_type": "code",
   "execution_count": 9,
   "id": "3ae586c2-a698-4e96-9e22-64c6b8502c0b",
   "metadata": {},
   "outputs": [
    {
     "data": {
      "text/plain": [
       "Iran        4000\n",
       "Usa          800\n",
       "India       2440\n",
       "China       1174\n",
       "France    109578\n",
       "dtype: int64"
      ]
     },
     "execution_count": 9,
     "metadata": {},
     "output_type": "execute_result"
    }
   ],
   "source": [
    "covid19_data * 2"
   ]
  },
  {
   "cell_type": "code",
   "execution_count": 10,
   "id": "ddf4203a-b31c-41e4-bfa3-f27064bcbc86",
   "metadata": {},
   "outputs": [
    {
     "data": {
      "text/plain": [
       "China        NaN\n",
       "France       NaN\n",
       "India        NaN\n",
       "Iran      2010.0\n",
       "Usa          NaN\n",
       "b            NaN\n",
       "c            NaN\n",
       "dtype: float64"
      ]
     },
     "execution_count": 10,
     "metadata": {},
     "output_type": "execute_result"
    }
   ],
   "source": [
    "covid19_data + sample"
   ]
  },
  {
   "cell_type": "code",
   "execution_count": 11,
   "id": "86ce2fda-ff76-4a16-9ad2-6e049730e893",
   "metadata": {},
   "outputs": [],
   "source": [
    "columns = ['Q','W','E','R','T']"
   ]
  },
  {
   "cell_type": "code",
   "execution_count": 12,
   "id": "69210f6c-03f1-4194-b03a-a686e6a32f62",
   "metadata": {},
   "outputs": [],
   "source": [
    "index = ['A','B','C','D']"
   ]
  },
  {
   "cell_type": "code",
   "execution_count": 19,
   "id": "5da7d476-a805-4ba4-91a1-f33e70672e1c",
   "metadata": {},
   "outputs": [],
   "source": [
    "data = np.random.randint(-100 , 100 ,  (4,5))"
   ]
  },
  {
   "cell_type": "code",
   "execution_count": 20,
   "id": "33a008b7-0eba-498d-a0d7-2739c9479946",
   "metadata": {},
   "outputs": [
    {
     "data": {
      "text/plain": [
       "array([[ 26,  54, -71,  89, -19],\n",
       "       [-21,   7,  39, -70,  17],\n",
       "       [ 84,  80, -47,  77, -46],\n",
       "       [ -8,  47, -92,  62, -62]])"
      ]
     },
     "execution_count": 20,
     "metadata": {},
     "output_type": "execute_result"
    }
   ],
   "source": [
    "data"
   ]
  },
  {
   "cell_type": "code",
   "execution_count": null,
   "id": "b32ef7d2-08bb-446e-b78f-27fd8bea0c29",
   "metadata": {},
   "outputs": [],
   "source": [
    "df = pd.DataFrame()"
   ]
  }
 ],
 "metadata": {
  "kernelspec": {
   "display_name": "Python 3 (ipykernel)",
   "language": "python",
   "name": "python3"
  },
  "language_info": {
   "codemirror_mode": {
    "name": "ipython",
    "version": 3
   },
   "file_extension": ".py",
   "mimetype": "text/x-python",
   "name": "python",
   "nbconvert_exporter": "python",
   "pygments_lexer": "ipython3",
   "version": "3.8.10"
  }
 },
 "nbformat": 4,
 "nbformat_minor": 5
}
