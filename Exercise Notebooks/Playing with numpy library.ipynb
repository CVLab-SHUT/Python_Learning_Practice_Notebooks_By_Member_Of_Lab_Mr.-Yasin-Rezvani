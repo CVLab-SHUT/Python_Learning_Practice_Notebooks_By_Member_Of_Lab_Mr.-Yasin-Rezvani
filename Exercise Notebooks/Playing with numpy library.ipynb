{
 "cells": [
  {
   "cell_type": "code",
   "execution_count": 143,
   "id": "b9499a42-604e-41af-889d-140cec4baace",
   "metadata": {},
   "outputs": [],
   "source": [
    "import numpy as np"
   ]
  },
  {
   "cell_type": "code",
   "execution_count": 144,
   "id": "38d272a3-447f-4636-8341-76827f10a53a",
   "metadata": {},
   "outputs": [],
   "source": [
    "first_array = np.array([[10,20,30],[40,50,60]])"
   ]
  },
  {
   "cell_type": "code",
   "execution_count": 145,
   "id": "454e89e1-c805-4845-9e84-0ae931dfd351",
   "metadata": {},
   "outputs": [
    {
     "name": "stdout",
     "output_type": "stream",
     "text": [
      "[[10 20 30]\n",
      " [40 50 60]]\n"
     ]
    }
   ],
   "source": [
    "print(first_array)"
   ]
  },
  {
   "cell_type": "code",
   "execution_count": 146,
   "id": "087623e2-973f-4208-9335-5557b11d42c6",
   "metadata": {},
   "outputs": [
    {
     "name": "stdout",
     "output_type": "stream",
     "text": [
      "[10 20 30]\n",
      "[40 50 60]\n"
     ]
    }
   ],
   "source": [
    "for i in first_array:\n",
    "    print(i)"
   ]
  },
  {
   "cell_type": "code",
   "execution_count": 147,
   "id": "ce319ee7-24f1-4446-aaa8-90d8b548cefd",
   "metadata": {},
   "outputs": [
    {
     "name": "stdout",
     "output_type": "stream",
     "text": [
      "10\n",
      "20\n",
      "30\n",
      "40\n",
      "50\n",
      "60\n"
     ]
    }
   ],
   "source": [
    "for i in first_array:\n",
    "    for j in i: \n",
    "        print(j)"
   ]
  },
  {
   "cell_type": "code",
   "execution_count": 148,
   "id": "b6f37ae7-e18a-46ca-8945-16beed12a5cf",
   "metadata": {},
   "outputs": [
    {
     "data": {
      "text/plain": [
       "numpy.ndarray"
      ]
     },
     "execution_count": 148,
     "metadata": {},
     "output_type": "execute_result"
    }
   ],
   "source": [
    "type(first_array)"
   ]
  },
  {
   "cell_type": "code",
   "execution_count": 149,
   "id": "8df5ae2f-4686-4ea3-a1c6-5399d4baa8f7",
   "metadata": {},
   "outputs": [],
   "source": [
    "second_array = np.array(range(100))"
   ]
  },
  {
   "cell_type": "code",
   "execution_count": 150,
   "id": "2fe72892-2c3c-4511-ac1c-3c448c5c06c5",
   "metadata": {},
   "outputs": [
    {
     "name": "stdout",
     "output_type": "stream",
     "text": [
      "[[ 0  1  2  3  4  5  6  7  8  9]\n",
      " [10 11 12 13 14 15 16 17 18 19]\n",
      " [20 21 22 23 24 25 26 27 28 29]\n",
      " [30 31 32 33 34 35 36 37 38 39]\n",
      " [40 41 42 43 44 45 46 47 48 49]\n",
      " [50 51 52 53 54 55 56 57 58 59]\n",
      " [60 61 62 63 64 65 66 67 68 69]\n",
      " [70 71 72 73 74 75 76 77 78 79]\n",
      " [80 81 82 83 84 85 86 87 88 89]\n",
      " [90 91 92 93 94 95 96 97 98 99]]\n"
     ]
    }
   ],
   "source": [
    "print(second_array.reshape(10,10))"
   ]
  },
  {
   "cell_type": "code",
   "execution_count": 151,
   "id": "063b49a8-c352-4551-8a27-27287ca1d8df",
   "metadata": {},
   "outputs": [],
   "source": [
    "third_array = np.array([[[0,1],[2,3]],[[4,5],[6,7]]])"
   ]
  },
  {
   "cell_type": "code",
   "execution_count": 152,
   "id": "75c84eba-6475-4b62-8268-448d1c54f44b",
   "metadata": {},
   "outputs": [
    {
     "name": "stdout",
     "output_type": "stream",
     "text": [
      "0\n",
      "1\n",
      "2\n",
      "3\n",
      "4\n",
      "5\n",
      "6\n",
      "7\n"
     ]
    }
   ],
   "source": [
    "for i in third_array:\n",
    "    for j in i:\n",
    "        for k in j:\n",
    "            print(k)"
   ]
  },
  {
   "cell_type": "code",
   "execution_count": 153,
   "id": "a115da36-4f4f-46fa-acd0-e6b0adb34b3d",
   "metadata": {},
   "outputs": [
    {
     "name": "stdout",
     "output_type": "stream",
     "text": [
      "0\n",
      "1\n",
      "2\n",
      "3\n",
      "4\n",
      "5\n",
      "6\n",
      "7\n"
     ]
    }
   ],
   "source": [
    "for i in np.nditer(third_array):\n",
    "    print(i)"
   ]
  },
  {
   "cell_type": "code",
   "execution_count": 154,
   "id": "743b8459-08b7-47e7-ad8b-d62a953ac6df",
   "metadata": {},
   "outputs": [
    {
     "name": "stdout",
     "output_type": "stream",
     "text": [
      "(0, 0, 0) 0\n",
      "(0, 0, 1) 1\n",
      "(0, 1, 0) 2\n",
      "(0, 1, 1) 3\n",
      "(1, 0, 0) 4\n",
      "(1, 0, 1) 5\n",
      "(1, 1, 0) 6\n",
      "(1, 1, 1) 7\n"
     ]
    }
   ],
   "source": [
    "# hey, binary to decimal system, I'm lucky :)\n",
    "for i,j in np.ndenumerate(third_array):\n",
    "    print(i,j)"
   ]
  },
  {
   "cell_type": "code",
   "execution_count": 155,
   "id": "9dfdf998-bc9f-420f-b9bb-32644c931ab7",
   "metadata": {},
   "outputs": [],
   "source": [
    "python_list = [[1,2] , [3,4] , [5,6]]"
   ]
  },
  {
   "cell_type": "code",
   "execution_count": 156,
   "id": "eaf4b23c-b1ab-4d0f-8b12-07a12cf5b8a5",
   "metadata": {},
   "outputs": [
    {
     "data": {
      "text/plain": [
       "array([[1, 2],\n",
       "       [3, 4],\n",
       "       [5, 6]])"
      ]
     },
     "execution_count": 156,
     "metadata": {},
     "output_type": "execute_result"
    }
   ],
   "source": [
    "np.array(python_list)"
   ]
  },
  {
   "cell_type": "code",
   "execution_count": 157,
   "id": "e56dbf39-4f4a-42ff-80fb-bb66001a4565",
   "metadata": {},
   "outputs": [
    {
     "data": {
      "text/plain": [
       "array([ 0,  2,  4,  6,  8, 10])"
      ]
     },
     "execution_count": 157,
     "metadata": {},
     "output_type": "execute_result"
    }
   ],
   "source": [
    "np.arange(0,11,2)"
   ]
  },
  {
   "cell_type": "code",
   "execution_count": 158,
   "id": "99989246-c773-4893-b9c6-1b4c9d27c2fe",
   "metadata": {},
   "outputs": [
    {
     "data": {
      "text/plain": [
       "array([0, 0, 0, 0, 0, 0, 0, 0, 0, 0])"
      ]
     },
     "execution_count": 158,
     "metadata": {},
     "output_type": "execute_result"
    }
   ],
   "source": [
    "np.zeros(10 , int)"
   ]
  },
  {
   "cell_type": "code",
   "execution_count": 159,
   "id": "fca3b98f-0da3-4c82-ae40-300f132603e8",
   "metadata": {},
   "outputs": [
    {
     "data": {
      "text/plain": [
       "array([[0, 0, 0],\n",
       "       [0, 0, 0],\n",
       "       [0, 0, 0]])"
      ]
     },
     "execution_count": 159,
     "metadata": {},
     "output_type": "execute_result"
    }
   ],
   "source": [
    "np.zeros((3,3) , int)"
   ]
  },
  {
   "cell_type": "code",
   "execution_count": 160,
   "id": "e268c25d-4581-4441-9c4f-e956316e9bfc",
   "metadata": {},
   "outputs": [
    {
     "data": {
      "text/plain": [
       "array([[[1., 1., 1., 1.],\n",
       "        [1., 1., 1., 1.]],\n",
       "\n",
       "       [[1., 1., 1., 1.],\n",
       "        [1., 1., 1., 1.]],\n",
       "\n",
       "       [[1., 1., 1., 1.],\n",
       "        [1., 1., 1., 1.]],\n",
       "\n",
       "       [[1., 1., 1., 1.],\n",
       "        [1., 1., 1., 1.]],\n",
       "\n",
       "       [[1., 1., 1., 1.],\n",
       "        [1., 1., 1., 1.]]])"
      ]
     },
     "execution_count": 160,
     "metadata": {},
     "output_type": "execute_result"
    }
   ],
   "source": [
    "np.ones((5,2,4))"
   ]
  },
  {
   "cell_type": "code",
   "execution_count": 161,
   "id": "3b116d19-1650-46c5-8257-369c50b23cf2",
   "metadata": {},
   "outputs": [
    {
     "data": {
      "text/plain": [
       "array([[1, 0, 0],\n",
       "       [0, 1, 0],\n",
       "       [0, 0, 1]])"
      ]
     },
     "execution_count": 161,
     "metadata": {},
     "output_type": "execute_result"
    }
   ],
   "source": [
    "#diagonal matrices\n",
    "np.eye(3,dtype=int)"
   ]
  },
  {
   "cell_type": "code",
   "execution_count": 162,
   "id": "14348881-36f8-4385-929a-767be93da987",
   "metadata": {},
   "outputs": [
    {
     "data": {
      "text/plain": [
       "array([[0.52477466, 0.39986097, 0.04666566],\n",
       "       [0.97375552, 0.23277134, 0.09060643],\n",
       "       [0.61838601, 0.38246199, 0.98323089]])"
      ]
     },
     "execution_count": 162,
     "metadata": {},
     "output_type": "execute_result"
    }
   ],
   "source": [
    "#between 0 and 1\n",
    "np.random.rand(3,3)"
   ]
  },
  {
   "cell_type": "code",
   "execution_count": 163,
   "id": "90199006-29a6-489c-ae4a-589652d6292d",
   "metadata": {},
   "outputs": [
    {
     "data": {
      "text/plain": [
       "array([[ 1.13433927, -0.10474555, -0.52512285,  1.91277127],\n",
       "       [-2.02671962,  1.11942361,  0.77919263, -1.10109776]])"
      ]
     },
     "execution_count": 163,
     "metadata": {},
     "output_type": "execute_result"
    }
   ],
   "source": [
    "# standard distribution contain variance number(negetive)\n",
    "np.random.randn(2,4)"
   ]
  },
  {
   "cell_type": "code",
   "execution_count": 164,
   "id": "47667242-00bb-40d2-b3a7-2632f4190950",
   "metadata": {},
   "outputs": [
    {
     "data": {
      "text/plain": [
       "array([[43,  7, 46, 34, 13],\n",
       "       [16, 35, 49, 39,  3],\n",
       "       [ 1,  5, 41,  3, 28]])"
      ]
     },
     "execution_count": 164,
     "metadata": {},
     "output_type": "execute_result"
    }
   ],
   "source": [
    "np.random.randint(0,50,(3,5))"
   ]
  },
  {
   "cell_type": "code",
   "execution_count": 165,
   "id": "e099b25c-c09a-403a-ad76-260fb4ebf380",
   "metadata": {},
   "outputs": [
    {
     "data": {
      "text/plain": [
       "array([51, 92, 14, 71, 60, 20, 82, 86, 74, 74])"
      ]
     },
     "execution_count": 165,
     "metadata": {},
     "output_type": "execute_result"
    }
   ],
   "source": [
    "# but this section doesn't change any compile and default value with np.random.seed()\n",
    "# especially in machine learning algorithms\n",
    "np.random.seed(42)\n",
    "np.random.randint(0,100,10)"
   ]
  },
  {
   "cell_type": "code",
   "execution_count": 166,
   "id": "33039e74-390f-4f16-a61e-e081aac46ead",
   "metadata": {},
   "outputs": [
    {
     "data": {
      "text/plain": [
       "array([87, 99, 23,  2, 21, 52,  1, 87, 29, 37])"
      ]
     },
     "execution_count": 166,
     "metadata": {},
     "output_type": "execute_result"
    }
   ],
   "source": [
    "# in any compile reproduce new value\n",
    "np.random.randint(0,100,10)"
   ]
  },
  {
   "cell_type": "code",
   "execution_count": 167,
   "id": "1b0e1455-9b5b-4b9d-b813-0395cbdac563",
   "metadata": {},
   "outputs": [],
   "source": [
    "ex_arr = np.random.randint(0,100,10)"
   ]
  },
  {
   "cell_type": "code",
   "execution_count": 168,
   "id": "12543062-2799-4d00-8280-3dbb20dc2345",
   "metadata": {},
   "outputs": [
    {
     "data": {
      "text/plain": [
       "numpy.ndarray"
      ]
     },
     "execution_count": 168,
     "metadata": {},
     "output_type": "execute_result"
    }
   ],
   "source": [
    "type(ex_arr)"
   ]
  },
  {
   "cell_type": "code",
   "execution_count": 169,
   "id": "29f55460-b5f3-4b10-af0a-96086e975a57",
   "metadata": {},
   "outputs": [
    {
     "data": {
      "text/plain": [
       "dtype('int32')"
      ]
     },
     "execution_count": 169,
     "metadata": {},
     "output_type": "execute_result"
    }
   ],
   "source": [
    "ex_arr.dtype"
   ]
  },
  {
   "cell_type": "code",
   "execution_count": 170,
   "id": "4e4f3fa4-059e-43b7-ac97-fa60aa53ba6f",
   "metadata": {},
   "outputs": [
    {
     "data": {
      "text/plain": [
       "(10,)"
      ]
     },
     "execution_count": 170,
     "metadata": {},
     "output_type": "execute_result"
    }
   ],
   "source": [
    "ex_arr.shape"
   ]
  },
  {
   "cell_type": "code",
   "execution_count": 171,
   "id": "7f1ffe8c-23a0-4d38-82d8-df14d8450f1a",
   "metadata": {},
   "outputs": [
    {
     "data": {
      "text/plain": [
       "array([[ 1, 63, 59, 20, 32],\n",
       "       [75, 57, 21, 88, 48]])"
      ]
     },
     "execution_count": 171,
     "metadata": {},
     "output_type": "execute_result"
    }
   ],
   "source": [
    "ex_arr.reshape(2,5)"
   ]
  },
  {
   "cell_type": "code",
   "execution_count": 172,
   "id": "adc377f2-3d76-430c-bb28-f30e99e6494f",
   "metadata": {},
   "outputs": [
    {
     "data": {
      "text/plain": [
       "88"
      ]
     },
     "execution_count": 172,
     "metadata": {},
     "output_type": "execute_result"
    }
   ],
   "source": [
    "ex_arr.max()"
   ]
  },
  {
   "cell_type": "code",
   "execution_count": 173,
   "id": "63c679b1-d835-4235-906d-1394a39c2df5",
   "metadata": {},
   "outputs": [
    {
     "data": {
      "text/plain": [
       "8"
      ]
     },
     "execution_count": 173,
     "metadata": {},
     "output_type": "execute_result"
    }
   ],
   "source": [
    "ex_arr.argmax()"
   ]
  },
  {
   "cell_type": "code",
   "execution_count": 174,
   "id": "01281f3f-5c31-400e-bd6d-8ef06210b964",
   "metadata": {},
   "outputs": [],
   "source": [
    "arr_2d = np.array([[1,2,3],[4,5,6],[7,8,9]])"
   ]
  },
  {
   "cell_type": "code",
   "execution_count": 175,
   "id": "4acc3789-fcca-4b5c-85d8-e33468c908c1",
   "metadata": {},
   "outputs": [
    {
     "data": {
      "text/plain": [
       "(3, 3)"
      ]
     },
     "execution_count": 175,
     "metadata": {},
     "output_type": "execute_result"
    }
   ],
   "source": [
    "arr_2d.shape"
   ]
  },
  {
   "cell_type": "code",
   "execution_count": 176,
   "id": "fb9f7640-d7f7-4706-bde2-c336c792ee5f",
   "metadata": {},
   "outputs": [
    {
     "data": {
      "text/plain": [
       "array([[4, 5, 6]])"
      ]
     },
     "execution_count": 176,
     "metadata": {},
     "output_type": "execute_result"
    }
   ],
   "source": [
    "arr_2d[1:2]"
   ]
  },
  {
   "cell_type": "code",
   "execution_count": 177,
   "id": "7006585b-a31e-4bec-8504-672431ada2aa",
   "metadata": {},
   "outputs": [],
   "source": [
    "arr_copy = arr_2d.copy()"
   ]
  },
  {
   "cell_type": "code",
   "execution_count": 178,
   "id": "50733767-33f8-4665-8340-3fef829da337",
   "metadata": {},
   "outputs": [
    {
     "data": {
      "text/plain": [
       "array([[4, 5],\n",
       "       [7, 8]])"
      ]
     },
     "execution_count": 178,
     "metadata": {},
     "output_type": "execute_result"
    }
   ],
   "source": [
    "arr_copy[1:,:2]"
   ]
  },
  {
   "cell_type": "code",
   "execution_count": 179,
   "id": "df1c8e69-8a8f-4c4a-9335-4eac25fe8bde",
   "metadata": {},
   "outputs": [],
   "source": [
    "arr_bool = arr_copy > 4"
   ]
  },
  {
   "cell_type": "code",
   "execution_count": 180,
   "id": "c9efd0d5-d984-4f91-b2d2-a46049540e07",
   "metadata": {},
   "outputs": [
    {
     "data": {
      "text/plain": [
       "array([5, 6, 7, 8, 9])"
      ]
     },
     "execution_count": 180,
     "metadata": {},
     "output_type": "execute_result"
    }
   ],
   "source": [
    "arr_copy[arr_bool]"
   ]
  },
  {
   "cell_type": "code",
   "execution_count": 185,
   "id": "4c753625-9fed-4846-a8db-fe8ab190eaae",
   "metadata": {},
   "outputs": [
    {
     "data": {
      "text/plain": [
       "45"
      ]
     },
     "execution_count": 185,
     "metadata": {},
     "output_type": "execute_result"
    }
   ],
   "source": [
    "arr_copy.sum()"
   ]
  },
  {
   "cell_type": "code",
   "execution_count": 186,
   "id": "eb4be50c-2fe0-4a58-81c0-54156e9aeb1d",
   "metadata": {},
   "outputs": [
    {
     "data": {
      "text/plain": [
       "5.0"
      ]
     },
     "execution_count": 186,
     "metadata": {},
     "output_type": "execute_result"
    }
   ],
   "source": [
    "arr_copy.mean()"
   ]
  },
  {
   "cell_type": "code",
   "execution_count": 187,
   "id": "279c5632-78aa-481c-b26e-54d4b1679a2c",
   "metadata": {},
   "outputs": [],
   "source": [
    "arr_5_5 = np.arange(25).reshape(5,5)"
   ]
  },
  {
   "cell_type": "code",
   "execution_count": 188,
   "id": "36d0b85e-30cf-471a-a032-cb0a2ebc5c66",
   "metadata": {},
   "outputs": [
    {
     "data": {
      "text/plain": [
       "array([[ 0,  1,  2,  3,  4],\n",
       "       [ 5,  6,  7,  8,  9],\n",
       "       [10, 11, 12, 13, 14],\n",
       "       [15, 16, 17, 18, 19],\n",
       "       [20, 21, 22, 23, 24]])"
      ]
     },
     "execution_count": 188,
     "metadata": {},
     "output_type": "execute_result"
    }
   ],
   "source": [
    "arr_5_5"
   ]
  },
  {
   "cell_type": "code",
   "execution_count": 190,
   "id": "0ef86885-5728-456b-a970-8d5cb2531147",
   "metadata": {},
   "outputs": [
    {
     "data": {
      "text/plain": [
       "array([50, 55, 60, 65, 70])"
      ]
     },
     "execution_count": 190,
     "metadata": {},
     "output_type": "execute_result"
    }
   ],
   "source": [
    "# column by column \n",
    "arr_5_5.sum(axis = 0)"
   ]
  },
  {
   "cell_type": "code",
   "execution_count": 191,
   "id": "c0f647f1-4f5d-43e0-b67d-4cf99c9ede17",
   "metadata": {},
   "outputs": [
    {
     "data": {
      "text/plain": [
       "array([ 10,  35,  60,  85, 110])"
      ]
     },
     "execution_count": 191,
     "metadata": {},
     "output_type": "execute_result"
    }
   ],
   "source": [
    "# row by row\n",
    "arr_5_5.sum(axis = 1)"
   ]
  },
  {
   "cell_type": "code",
   "execution_count": 192,
   "id": "057bff41-68bc-4f28-876f-f724e251ade3",
   "metadata": {},
   "outputs": [
    {
     "data": {
      "text/plain": [
       "array([ 2.,  7., 12., 17., 22.])"
      ]
     },
     "execution_count": 192,
     "metadata": {},
     "output_type": "execute_result"
    }
   ],
   "source": [
    "# average of first row \n",
    "arr_5_5.mean(axis=1)"
   ]
  },
  {
   "cell_type": "code",
   "execution_count": null,
   "id": "bbac4955-4e1b-47ff-9419-40f7804ef064",
   "metadata": {},
   "outputs": [],
   "source": []
  }
 ],
 "metadata": {
  "kernelspec": {
   "display_name": "Python 3 (ipykernel)",
   "language": "python",
   "name": "python3"
  },
  "language_info": {
   "codemirror_mode": {
    "name": "ipython",
    "version": 3
   },
   "file_extension": ".py",
   "mimetype": "text/x-python",
   "name": "python",
   "nbconvert_exporter": "python",
   "pygments_lexer": "ipython3",
   "version": "3.8.10"
  }
 },
 "nbformat": 4,
 "nbformat_minor": 5
}
