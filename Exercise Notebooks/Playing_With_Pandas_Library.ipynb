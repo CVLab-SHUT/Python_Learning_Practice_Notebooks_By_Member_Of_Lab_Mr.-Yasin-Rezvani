{
 "cells": [
  {
   "cell_type": "code",
   "execution_count": 3,
   "id": "48a07bb8-f9e8-4541-919b-d778b29656b8",
   "metadata": {},
   "outputs": [],
   "source": [
    "import numpy as np\n",
    "import pandas as pd"
   ]
  },
  {
   "cell_type": "code",
   "execution_count": 2,
   "id": "f96359dc-67d0-4ccb-947b-4bf5a35e3bab",
   "metadata": {},
   "outputs": [],
   "source": [
    "indexes = ['a','b','c']\n",
    "list_py = [10,20,30]\n",
    "dic = {'a':10 , 'b':20 , 'c':30}"
   ]
  },
  {
   "cell_type": "code",
   "execution_count": 11,
   "id": "797086b0-6c95-4fef-aaf4-815b6cb3395b",
   "metadata": {},
   "outputs": [
    {
     "data": {
      "text/plain": [
       "a    10\n",
       "b    20\n",
       "c    30\n",
       "dtype: int64"
      ]
     },
     "execution_count": 11,
     "metadata": {},
     "output_type": "execute_result"
    }
   ],
   "source": [
    "samplepd.Series(list_py,indexes)"
   ]
  },
  {
   "cell_type": "code",
   "execution_count": 14,
   "id": "b9bc6fb5-7708-4e69-bf86-1b8283f65a09",
   "metadata": {},
   "outputs": [],
   "source": [
    "covid19_data = pd.Series(data = [2000,400,1220,587,54789], index = ['Iran' , 'Usa' , 'India' , 'China' , 'France'])"
   ]
  },
  {
   "cell_type": "code",
   "execution_count": 18,
   "id": "3ae586c2-a698-4e96-9e22-64c6b8502c0b",
   "metadata": {},
   "outputs": [
    {
     "data": {
      "text/plain": [
       "Iran        4000\n",
       "Usa          800\n",
       "India       2440\n",
       "China       1174\n",
       "France    109578\n",
       "dtype: int64"
      ]
     },
     "execution_count": 18,
     "metadata": {},
     "output_type": "execute_result"
    }
   ],
   "source": [
    "covid19_data * 2"
   ]
  },
  {
   "cell_type": "code",
   "execution_count": null,
   "id": "ddf4203a-b31c-41e4-bfa3-f27064bcbc86",
   "metadata": {},
   "outputs": [],
   "source": []
  }
 ],
 "metadata": {
  "kernelspec": {
   "display_name": "Python 3 (ipykernel)",
   "language": "python",
   "name": "python3"
  },
  "language_info": {
   "codemirror_mode": {
    "name": "ipython",
    "version": 3
   },
   "file_extension": ".py",
   "mimetype": "text/x-python",
   "name": "python",
   "nbconvert_exporter": "python",
   "pygments_lexer": "ipython3",
   "version": "3.8.10"
  }
 },
 "nbformat": 4,
 "nbformat_minor": 5
}
