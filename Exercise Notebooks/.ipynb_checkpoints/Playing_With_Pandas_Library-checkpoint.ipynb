{
 "cells": [
  {
   "cell_type": "code",
   "execution_count": 1,
   "id": "48a07bb8-f9e8-4541-919b-d778b29656b8",
   "metadata": {},
   "outputs": [],
   "source": [
    "import numpy as np\n",
    "import pandas as pd"
   ]
  },
  {
   "cell_type": "code",
   "execution_count": 2,
   "id": "f96359dc-67d0-4ccb-947b-4bf5a35e3bab",
   "metadata": {},
   "outputs": [],
   "source": [
    "indexes = ['Iran','b','c']\n",
    "list_py = [10,20,30]\n",
    "dic = {'a':10 , 'b':20 , 'c':30}"
   ]
  },
  {
   "cell_type": "code",
   "execution_count": 3,
   "id": "797086b0-6c95-4fef-aaf4-815b6cb3395b",
   "metadata": {},
   "outputs": [],
   "source": [
    "sample = pd.Series(list_py,indexes)"
   ]
  },
  {
   "cell_type": "code",
   "execution_count": 4,
   "id": "a3a1bdce-a31a-43b7-bf38-f57fcb012447",
   "metadata": {},
   "outputs": [
    {
     "data": {
      "text/plain": [
       "Iran    10\n",
       "b       20\n",
       "c       30\n",
       "dtype: int64"
      ]
     },
     "execution_count": 4,
     "metadata": {},
     "output_type": "execute_result"
    }
   ],
   "source": [
    "sample"
   ]
  },
  {
   "cell_type": "code",
   "execution_count": 5,
   "id": "b9bc6fb5-7708-4e69-bf86-1b8283f65a09",
   "metadata": {},
   "outputs": [],
   "source": [
    "covid19_data = pd.Series(data = [2000,400,1220,587,54789], index = ['Iran' , 'Usa' , 'India' , 'China' , 'France'])"
   ]
  },
  {
   "cell_type": "code",
   "execution_count": 6,
   "id": "3ae586c2-a698-4e96-9e22-64c6b8502c0b",
   "metadata": {},
   "outputs": [
    {
     "data": {
      "text/plain": [
       "Iran        4000\n",
       "Usa          800\n",
       "India       2440\n",
       "China       1174\n",
       "France    109578\n",
       "dtype: int64"
      ]
     },
     "execution_count": 6,
     "metadata": {},
     "output_type": "execute_result"
    }
   ],
   "source": [
    "covid19_data * 2"
   ]
  },
  {
   "cell_type": "code",
   "execution_count": 7,
   "id": "ddf4203a-b31c-41e4-bfa3-f27064bcbc86",
   "metadata": {},
   "outputs": [
    {
     "data": {
      "text/plain": [
       "China        NaN\n",
       "France       NaN\n",
       "India        NaN\n",
       "Iran      2010.0\n",
       "Usa          NaN\n",
       "b            NaN\n",
       "c            NaN\n",
       "dtype: float64"
      ]
     },
     "execution_count": 7,
     "metadata": {},
     "output_type": "execute_result"
    }
   ],
   "source": [
    "covid19_data + sample"
   ]
  },
  {
   "cell_type": "code",
   "execution_count": 8,
   "id": "86ce2fda-ff76-4a16-9ad2-6e049730e893",
   "metadata": {},
   "outputs": [],
   "source": [
    "columns = ['Q','W','E','R','T']"
   ]
  },
  {
   "cell_type": "code",
   "execution_count": 9,
   "id": "69210f6c-03f1-4194-b03a-a686e6a32f62",
   "metadata": {},
   "outputs": [],
   "source": [
    "index = ['A','B','C','D']"
   ]
  },
  {
   "cell_type": "code",
   "execution_count": 10,
   "id": "5da7d476-a805-4ba4-91a1-f33e70672e1c",
   "metadata": {},
   "outputs": [],
   "source": [
    "data = np.random.randint(-100 , 100 ,  (4,5))"
   ]
  },
  {
   "cell_type": "code",
   "execution_count": 11,
   "id": "33a008b7-0eba-498d-a0d7-2739c9479946",
   "metadata": {},
   "outputs": [
    {
     "data": {
      "text/plain": [
       "array([[ -30,   68, -100,   21,  -70],\n",
       "       [  24,  -64,   -6,  -11,  -86],\n",
       "       [  59,   61,   43,   70,  -73],\n",
       "       [ -22,  -31,   47,   76,  -64]])"
      ]
     },
     "execution_count": 11,
     "metadata": {},
     "output_type": "execute_result"
    }
   ],
   "source": [
    "data"
   ]
  },
  {
   "cell_type": "code",
   "execution_count": 13,
   "id": "b32ef7d2-08bb-446e-b78f-27fd8bea0c29",
   "metadata": {},
   "outputs": [],
   "source": [
    "df = pd.DataFrame(data,index,columns)"
   ]
  },
  {
   "cell_type": "code",
   "execution_count": 77,
   "id": "3395716c-ed1f-4946-ae1d-9d4ad01017ea",
   "metadata": {},
   "outputs": [
    {
     "data": {
      "text/html": [
       "<div>\n",
       "<style scoped>\n",
       "    .dataframe tbody tr th:only-of-type {\n",
       "        vertical-align: middle;\n",
       "    }\n",
       "\n",
       "    .dataframe tbody tr th {\n",
       "        vertical-align: top;\n",
       "    }\n",
       "\n",
       "    .dataframe thead th {\n",
       "        text-align: right;\n",
       "    }\n",
       "</style>\n",
       "<table border=\"1\" class=\"dataframe\">\n",
       "  <thead>\n",
       "    <tr style=\"text-align: right;\">\n",
       "      <th></th>\n",
       "      <th>W</th>\n",
       "      <th>E</th>\n",
       "      <th>R</th>\n",
       "      <th>T</th>\n",
       "      <th>new columns</th>\n",
       "    </tr>\n",
       "  </thead>\n",
       "  <tbody>\n",
       "    <tr>\n",
       "      <th>A</th>\n",
       "      <td>68</td>\n",
       "      <td>-100</td>\n",
       "      <td>21</td>\n",
       "      <td>-70</td>\n",
       "      <td>38</td>\n",
       "    </tr>\n",
       "    <tr>\n",
       "      <th>B</th>\n",
       "      <td>-64</td>\n",
       "      <td>-6</td>\n",
       "      <td>-11</td>\n",
       "      <td>-86</td>\n",
       "      <td>-40</td>\n",
       "    </tr>\n",
       "    <tr>\n",
       "      <th>C</th>\n",
       "      <td>61</td>\n",
       "      <td>43</td>\n",
       "      <td>70</td>\n",
       "      <td>-73</td>\n",
       "      <td>120</td>\n",
       "    </tr>\n",
       "    <tr>\n",
       "      <th>D</th>\n",
       "      <td>-31</td>\n",
       "      <td>47</td>\n",
       "      <td>76</td>\n",
       "      <td>-64</td>\n",
       "      <td>-53</td>\n",
       "    </tr>\n",
       "  </tbody>\n",
       "</table>\n",
       "</div>"
      ],
      "text/plain": [
       "    W    E   R   T  new columns\n",
       "A  68 -100  21 -70           38\n",
       "B -64   -6 -11 -86          -40\n",
       "C  61   43  70 -73          120\n",
       "D -31   47  76 -64          -53"
      ]
     },
     "execution_count": 77,
     "metadata": {},
     "output_type": "execute_result"
    }
   ],
   "source": [
    "df"
   ]
  },
  {
   "cell_type": "code",
   "execution_count": 16,
   "id": "076eb2bf-1456-49cd-84af-21af5db29e6e",
   "metadata": {},
   "outputs": [
    {
     "data": {
      "text/plain": [
       "pandas.core.frame.DataFrame"
      ]
     },
     "execution_count": 16,
     "metadata": {},
     "output_type": "execute_result"
    }
   ],
   "source": [
    "type(df)"
   ]
  },
  {
   "cell_type": "code",
   "execution_count": 82,
   "id": "b88220a9-4a5b-45fa-840b-01970023b776",
   "metadata": {},
   "outputs": [
    {
     "data": {
      "text/plain": [
       "A    68\n",
       "B   -64\n",
       "C    61\n",
       "D   -31\n",
       "Name: W, dtype: int32"
      ]
     },
     "execution_count": 82,
     "metadata": {},
     "output_type": "execute_result"
    }
   ],
   "source": [
    "df['W']"
   ]
  },
  {
   "cell_type": "code",
   "execution_count": 83,
   "id": "bcaf846e-128b-4a7b-8b8e-561445f36d8b",
   "metadata": {},
   "outputs": [
    {
     "data": {
      "text/html": [
       "<div>\n",
       "<style scoped>\n",
       "    .dataframe tbody tr th:only-of-type {\n",
       "        vertical-align: middle;\n",
       "    }\n",
       "\n",
       "    .dataframe tbody tr th {\n",
       "        vertical-align: top;\n",
       "    }\n",
       "\n",
       "    .dataframe thead th {\n",
       "        text-align: right;\n",
       "    }\n",
       "</style>\n",
       "<table border=\"1\" class=\"dataframe\">\n",
       "  <thead>\n",
       "    <tr style=\"text-align: right;\">\n",
       "      <th></th>\n",
       "      <th>W</th>\n",
       "      <th>new columns</th>\n",
       "    </tr>\n",
       "  </thead>\n",
       "  <tbody>\n",
       "    <tr>\n",
       "      <th>A</th>\n",
       "      <td>68</td>\n",
       "      <td>38</td>\n",
       "    </tr>\n",
       "    <tr>\n",
       "      <th>B</th>\n",
       "      <td>-64</td>\n",
       "      <td>-40</td>\n",
       "    </tr>\n",
       "    <tr>\n",
       "      <th>C</th>\n",
       "      <td>61</td>\n",
       "      <td>120</td>\n",
       "    </tr>\n",
       "    <tr>\n",
       "      <th>D</th>\n",
       "      <td>-31</td>\n",
       "      <td>-53</td>\n",
       "    </tr>\n",
       "  </tbody>\n",
       "</table>\n",
       "</div>"
      ],
      "text/plain": [
       "    W  new columns\n",
       "A  68           38\n",
       "B -64          -40\n",
       "C  61          120\n",
       "D -31          -53"
      ]
     },
     "execution_count": 83,
     "metadata": {},
     "output_type": "execute_result"
    }
   ],
   "source": [
    "df[['W','new columns']]"
   ]
  },
  {
   "cell_type": "code",
   "execution_count": 33,
   "id": "9372c2ba-0141-4544-814c-55e9f5b54236",
   "metadata": {},
   "outputs": [
    {
     "data": {
      "text/plain": [
       "pandas.core.series.Series"
      ]
     },
     "execution_count": 33,
     "metadata": {},
     "output_type": "execute_result"
    }
   ],
   "source": [
    "type(df['Q'])"
   ]
  },
  {
   "cell_type": "code",
   "execution_count": 35,
   "id": "e57e3462-64f8-454e-a124-7ec9e5b3250c",
   "metadata": {},
   "outputs": [],
   "source": [
    "df['new columns'] = df['Q'] + df[\"W\"]"
   ]
  },
  {
   "cell_type": "code",
   "execution_count": 36,
   "id": "c5947415-49e1-47bd-91f7-f6c159cb2f74",
   "metadata": {},
   "outputs": [
    {
     "data": {
      "text/html": [
       "<div>\n",
       "<style scoped>\n",
       "    .dataframe tbody tr th:only-of-type {\n",
       "        vertical-align: middle;\n",
       "    }\n",
       "\n",
       "    .dataframe tbody tr th {\n",
       "        vertical-align: top;\n",
       "    }\n",
       "\n",
       "    .dataframe thead th {\n",
       "        text-align: right;\n",
       "    }\n",
       "</style>\n",
       "<table border=\"1\" class=\"dataframe\">\n",
       "  <thead>\n",
       "    <tr style=\"text-align: right;\">\n",
       "      <th></th>\n",
       "      <th>Q</th>\n",
       "      <th>W</th>\n",
       "      <th>E</th>\n",
       "      <th>R</th>\n",
       "      <th>T</th>\n",
       "      <th>new columns</th>\n",
       "    </tr>\n",
       "  </thead>\n",
       "  <tbody>\n",
       "    <tr>\n",
       "      <th>A</th>\n",
       "      <td>-30</td>\n",
       "      <td>68</td>\n",
       "      <td>-100</td>\n",
       "      <td>21</td>\n",
       "      <td>-70</td>\n",
       "      <td>38</td>\n",
       "    </tr>\n",
       "    <tr>\n",
       "      <th>B</th>\n",
       "      <td>24</td>\n",
       "      <td>-64</td>\n",
       "      <td>-6</td>\n",
       "      <td>-11</td>\n",
       "      <td>-86</td>\n",
       "      <td>-40</td>\n",
       "    </tr>\n",
       "    <tr>\n",
       "      <th>C</th>\n",
       "      <td>59</td>\n",
       "      <td>61</td>\n",
       "      <td>43</td>\n",
       "      <td>70</td>\n",
       "      <td>-73</td>\n",
       "      <td>120</td>\n",
       "    </tr>\n",
       "    <tr>\n",
       "      <th>D</th>\n",
       "      <td>-22</td>\n",
       "      <td>-31</td>\n",
       "      <td>47</td>\n",
       "      <td>76</td>\n",
       "      <td>-64</td>\n",
       "      <td>-53</td>\n",
       "    </tr>\n",
       "  </tbody>\n",
       "</table>\n",
       "</div>"
      ],
      "text/plain": [
       "    Q   W    E   R   T  new columns\n",
       "A -30  68 -100  21 -70           38\n",
       "B  24 -64   -6 -11 -86          -40\n",
       "C  59  61   43  70 -73          120\n",
       "D -22 -31   47  76 -64          -53"
      ]
     },
     "execution_count": 36,
     "metadata": {},
     "output_type": "execute_result"
    }
   ],
   "source": [
    "df"
   ]
  },
  {
   "cell_type": "code",
   "execution_count": 38,
   "id": "71f3a358-c518-4318-96d8-27928efcb957",
   "metadata": {},
   "outputs": [
    {
     "data": {
      "text/html": [
       "<div>\n",
       "<style scoped>\n",
       "    .dataframe tbody tr th:only-of-type {\n",
       "        vertical-align: middle;\n",
       "    }\n",
       "\n",
       "    .dataframe tbody tr th {\n",
       "        vertical-align: top;\n",
       "    }\n",
       "\n",
       "    .dataframe thead th {\n",
       "        text-align: right;\n",
       "    }\n",
       "</style>\n",
       "<table border=\"1\" class=\"dataframe\">\n",
       "  <thead>\n",
       "    <tr style=\"text-align: right;\">\n",
       "      <th></th>\n",
       "      <th>W</th>\n",
       "      <th>E</th>\n",
       "      <th>R</th>\n",
       "      <th>T</th>\n",
       "      <th>new columns</th>\n",
       "    </tr>\n",
       "  </thead>\n",
       "  <tbody>\n",
       "    <tr>\n",
       "      <th>A</th>\n",
       "      <td>68</td>\n",
       "      <td>-100</td>\n",
       "      <td>21</td>\n",
       "      <td>-70</td>\n",
       "      <td>38</td>\n",
       "    </tr>\n",
       "    <tr>\n",
       "      <th>B</th>\n",
       "      <td>-64</td>\n",
       "      <td>-6</td>\n",
       "      <td>-11</td>\n",
       "      <td>-86</td>\n",
       "      <td>-40</td>\n",
       "    </tr>\n",
       "    <tr>\n",
       "      <th>C</th>\n",
       "      <td>61</td>\n",
       "      <td>43</td>\n",
       "      <td>70</td>\n",
       "      <td>-73</td>\n",
       "      <td>120</td>\n",
       "    </tr>\n",
       "    <tr>\n",
       "      <th>D</th>\n",
       "      <td>-31</td>\n",
       "      <td>47</td>\n",
       "      <td>76</td>\n",
       "      <td>-64</td>\n",
       "      <td>-53</td>\n",
       "    </tr>\n",
       "  </tbody>\n",
       "</table>\n",
       "</div>"
      ],
      "text/plain": [
       "    W    E   R   T  new columns\n",
       "A  68 -100  21 -70           38\n",
       "B -64   -6 -11 -86          -40\n",
       "C  61   43  70 -73          120\n",
       "D -31   47  76 -64          -53"
      ]
     },
     "execution_count": 38,
     "metadata": {},
     "output_type": "execute_result"
    }
   ],
   "source": [
    "df.drop('Q', axis = 1)"
   ]
  },
  {
   "cell_type": "code",
   "execution_count": 40,
   "id": "5ce3e75c-221c-4f01-8487-196a274dda3e",
   "metadata": {},
   "outputs": [
    {
     "data": {
      "text/html": [
       "<div>\n",
       "<style scoped>\n",
       "    .dataframe tbody tr th:only-of-type {\n",
       "        vertical-align: middle;\n",
       "    }\n",
       "\n",
       "    .dataframe tbody tr th {\n",
       "        vertical-align: top;\n",
       "    }\n",
       "\n",
       "    .dataframe thead th {\n",
       "        text-align: right;\n",
       "    }\n",
       "</style>\n",
       "<table border=\"1\" class=\"dataframe\">\n",
       "  <thead>\n",
       "    <tr style=\"text-align: right;\">\n",
       "      <th></th>\n",
       "      <th>Q</th>\n",
       "      <th>W</th>\n",
       "      <th>E</th>\n",
       "      <th>R</th>\n",
       "      <th>T</th>\n",
       "      <th>new columns</th>\n",
       "    </tr>\n",
       "  </thead>\n",
       "  <tbody>\n",
       "    <tr>\n",
       "      <th>A</th>\n",
       "      <td>-30</td>\n",
       "      <td>68</td>\n",
       "      <td>-100</td>\n",
       "      <td>21</td>\n",
       "      <td>-70</td>\n",
       "      <td>38</td>\n",
       "    </tr>\n",
       "    <tr>\n",
       "      <th>B</th>\n",
       "      <td>24</td>\n",
       "      <td>-64</td>\n",
       "      <td>-6</td>\n",
       "      <td>-11</td>\n",
       "      <td>-86</td>\n",
       "      <td>-40</td>\n",
       "    </tr>\n",
       "    <tr>\n",
       "      <th>C</th>\n",
       "      <td>59</td>\n",
       "      <td>61</td>\n",
       "      <td>43</td>\n",
       "      <td>70</td>\n",
       "      <td>-73</td>\n",
       "      <td>120</td>\n",
       "    </tr>\n",
       "    <tr>\n",
       "      <th>D</th>\n",
       "      <td>-22</td>\n",
       "      <td>-31</td>\n",
       "      <td>47</td>\n",
       "      <td>76</td>\n",
       "      <td>-64</td>\n",
       "      <td>-53</td>\n",
       "    </tr>\n",
       "  </tbody>\n",
       "</table>\n",
       "</div>"
      ],
      "text/plain": [
       "    Q   W    E   R   T  new columns\n",
       "A -30  68 -100  21 -70           38\n",
       "B  24 -64   -6 -11 -86          -40\n",
       "C  59  61   43  70 -73          120\n",
       "D -22 -31   47  76 -64          -53"
      ]
     },
     "execution_count": 40,
     "metadata": {},
     "output_type": "execute_result"
    }
   ],
   "source": [
    "df"
   ]
  },
  {
   "cell_type": "code",
   "execution_count": 41,
   "id": "aafcbed5-db35-4b7b-9365-c449fb365fe2",
   "metadata": {},
   "outputs": [],
   "source": [
    "df = df.drop('Q',axis=1)"
   ]
  },
  {
   "cell_type": "code",
   "execution_count": 42,
   "id": "ec0ce096-607a-41fb-bbdb-c14aec7effa7",
   "metadata": {},
   "outputs": [
    {
     "data": {
      "text/html": [
       "<div>\n",
       "<style scoped>\n",
       "    .dataframe tbody tr th:only-of-type {\n",
       "        vertical-align: middle;\n",
       "    }\n",
       "\n",
       "    .dataframe tbody tr th {\n",
       "        vertical-align: top;\n",
       "    }\n",
       "\n",
       "    .dataframe thead th {\n",
       "        text-align: right;\n",
       "    }\n",
       "</style>\n",
       "<table border=\"1\" class=\"dataframe\">\n",
       "  <thead>\n",
       "    <tr style=\"text-align: right;\">\n",
       "      <th></th>\n",
       "      <th>W</th>\n",
       "      <th>E</th>\n",
       "      <th>R</th>\n",
       "      <th>T</th>\n",
       "      <th>new columns</th>\n",
       "    </tr>\n",
       "  </thead>\n",
       "  <tbody>\n",
       "    <tr>\n",
       "      <th>A</th>\n",
       "      <td>68</td>\n",
       "      <td>-100</td>\n",
       "      <td>21</td>\n",
       "      <td>-70</td>\n",
       "      <td>38</td>\n",
       "    </tr>\n",
       "    <tr>\n",
       "      <th>B</th>\n",
       "      <td>-64</td>\n",
       "      <td>-6</td>\n",
       "      <td>-11</td>\n",
       "      <td>-86</td>\n",
       "      <td>-40</td>\n",
       "    </tr>\n",
       "    <tr>\n",
       "      <th>C</th>\n",
       "      <td>61</td>\n",
       "      <td>43</td>\n",
       "      <td>70</td>\n",
       "      <td>-73</td>\n",
       "      <td>120</td>\n",
       "    </tr>\n",
       "    <tr>\n",
       "      <th>D</th>\n",
       "      <td>-31</td>\n",
       "      <td>47</td>\n",
       "      <td>76</td>\n",
       "      <td>-64</td>\n",
       "      <td>-53</td>\n",
       "    </tr>\n",
       "  </tbody>\n",
       "</table>\n",
       "</div>"
      ],
      "text/plain": [
       "    W    E   R   T  new columns\n",
       "A  68 -100  21 -70           38\n",
       "B -64   -6 -11 -86          -40\n",
       "C  61   43  70 -73          120\n",
       "D -31   47  76 -64          -53"
      ]
     },
     "execution_count": 42,
     "metadata": {},
     "output_type": "execute_result"
    }
   ],
   "source": [
    "df"
   ]
  },
  {
   "cell_type": "code",
   "execution_count": 44,
   "id": "a98e6248-7ed1-4d73-b402-c70935e1dcf8",
   "metadata": {},
   "outputs": [
    {
     "data": {
      "text/plain": [
       "W               68\n",
       "E             -100\n",
       "R               21\n",
       "T              -70\n",
       "new columns     38\n",
       "Name: A, dtype: int32"
      ]
     },
     "execution_count": 44,
     "metadata": {},
     "output_type": "execute_result"
    }
   ],
   "source": [
    "df.loc['A']"
   ]
  },
  {
   "cell_type": "code",
   "execution_count": 51,
   "id": "fdba8062-52cd-45a3-b405-2c12439b2624",
   "metadata": {},
   "outputs": [
    {
     "data": {
      "text/plain": [
       "pandas.core.frame.DataFrame"
      ]
     },
     "execution_count": 51,
     "metadata": {},
     "output_type": "execute_result"
    }
   ],
   "source": [
    "type(df.loc[['A','B']])"
   ]
  },
  {
   "cell_type": "code",
   "execution_count": 53,
   "id": "9d625c43-c619-4f50-947c-feceef05d344",
   "metadata": {},
   "outputs": [
    {
     "data": {
      "text/html": [
       "<div>\n",
       "<style scoped>\n",
       "    .dataframe tbody tr th:only-of-type {\n",
       "        vertical-align: middle;\n",
       "    }\n",
       "\n",
       "    .dataframe tbody tr th {\n",
       "        vertical-align: top;\n",
       "    }\n",
       "\n",
       "    .dataframe thead th {\n",
       "        text-align: right;\n",
       "    }\n",
       "</style>\n",
       "<table border=\"1\" class=\"dataframe\">\n",
       "  <thead>\n",
       "    <tr style=\"text-align: right;\">\n",
       "      <th></th>\n",
       "      <th>W</th>\n",
       "      <th>E</th>\n",
       "      <th>R</th>\n",
       "      <th>T</th>\n",
       "      <th>new columns</th>\n",
       "    </tr>\n",
       "  </thead>\n",
       "  <tbody>\n",
       "    <tr>\n",
       "      <th>A</th>\n",
       "      <td>68</td>\n",
       "      <td>-100</td>\n",
       "      <td>21</td>\n",
       "      <td>-70</td>\n",
       "      <td>38</td>\n",
       "    </tr>\n",
       "    <tr>\n",
       "      <th>B</th>\n",
       "      <td>-64</td>\n",
       "      <td>-6</td>\n",
       "      <td>-11</td>\n",
       "      <td>-86</td>\n",
       "      <td>-40</td>\n",
       "    </tr>\n",
       "  </tbody>\n",
       "</table>\n",
       "</div>"
      ],
      "text/plain": [
       "    W    E   R   T  new columns\n",
       "A  68 -100  21 -70           38\n",
       "B -64   -6 -11 -86          -40"
      ]
     },
     "execution_count": 53,
     "metadata": {},
     "output_type": "execute_result"
    }
   ],
   "source": [
    "df.loc[[\"A\",\"B\"]]"
   ]
  },
  {
   "cell_type": "code",
   "execution_count": 56,
   "id": "0136ebe8-a6a6-4ff0-be93-26243d8eb857",
   "metadata": {},
   "outputs": [],
   "source": [
    "df_new = df.drop('A')"
   ]
  },
  {
   "cell_type": "code",
   "execution_count": 58,
   "id": "16470bda-67d4-4a99-ba43-809f0589e9de",
   "metadata": {},
   "outputs": [
    {
     "data": {
      "text/html": [
       "<div>\n",
       "<style scoped>\n",
       "    .dataframe tbody tr th:only-of-type {\n",
       "        vertical-align: middle;\n",
       "    }\n",
       "\n",
       "    .dataframe tbody tr th {\n",
       "        vertical-align: top;\n",
       "    }\n",
       "\n",
       "    .dataframe thead th {\n",
       "        text-align: right;\n",
       "    }\n",
       "</style>\n",
       "<table border=\"1\" class=\"dataframe\">\n",
       "  <thead>\n",
       "    <tr style=\"text-align: right;\">\n",
       "      <th></th>\n",
       "      <th>W</th>\n",
       "      <th>E</th>\n",
       "      <th>R</th>\n",
       "      <th>T</th>\n",
       "      <th>new columns</th>\n",
       "    </tr>\n",
       "  </thead>\n",
       "  <tbody>\n",
       "    <tr>\n",
       "      <th>B</th>\n",
       "      <td>-64</td>\n",
       "      <td>-6</td>\n",
       "      <td>-11</td>\n",
       "      <td>-86</td>\n",
       "      <td>-40</td>\n",
       "    </tr>\n",
       "    <tr>\n",
       "      <th>C</th>\n",
       "      <td>61</td>\n",
       "      <td>43</td>\n",
       "      <td>70</td>\n",
       "      <td>-73</td>\n",
       "      <td>120</td>\n",
       "    </tr>\n",
       "    <tr>\n",
       "      <th>D</th>\n",
       "      <td>-31</td>\n",
       "      <td>47</td>\n",
       "      <td>76</td>\n",
       "      <td>-64</td>\n",
       "      <td>-53</td>\n",
       "    </tr>\n",
       "  </tbody>\n",
       "</table>\n",
       "</div>"
      ],
      "text/plain": [
       "    W   E   R   T  new columns\n",
       "B -64  -6 -11 -86          -40\n",
       "C  61  43  70 -73          120\n",
       "D -31  47  76 -64          -53"
      ]
     },
     "execution_count": 58,
     "metadata": {},
     "output_type": "execute_result"
    }
   ],
   "source": [
    "df_new"
   ]
  },
  {
   "cell_type": "code",
   "execution_count": 67,
   "id": "8dde15a9-efba-471a-8fc9-ce3c26bc429e",
   "metadata": {},
   "outputs": [
    {
     "data": {
      "text/html": [
       "<div>\n",
       "<style scoped>\n",
       "    .dataframe tbody tr th:only-of-type {\n",
       "        vertical-align: middle;\n",
       "    }\n",
       "\n",
       "    .dataframe tbody tr th {\n",
       "        vertical-align: top;\n",
       "    }\n",
       "\n",
       "    .dataframe thead th {\n",
       "        text-align: right;\n",
       "    }\n",
       "</style>\n",
       "<table border=\"1\" class=\"dataframe\">\n",
       "  <thead>\n",
       "    <tr style=\"text-align: right;\">\n",
       "      <th></th>\n",
       "      <th>R</th>\n",
       "      <th>T</th>\n",
       "      <th>new columns</th>\n",
       "    </tr>\n",
       "  </thead>\n",
       "  <tbody>\n",
       "    <tr>\n",
       "      <th>A</th>\n",
       "      <td>21</td>\n",
       "      <td>-70</td>\n",
       "      <td>38</td>\n",
       "    </tr>\n",
       "    <tr>\n",
       "      <th>B</th>\n",
       "      <td>-11</td>\n",
       "      <td>-86</td>\n",
       "      <td>-40</td>\n",
       "    </tr>\n",
       "  </tbody>\n",
       "</table>\n",
       "</div>"
      ],
      "text/plain": [
       "    R   T  new columns\n",
       "A  21 -70           38\n",
       "B -11 -86          -40"
      ]
     },
     "execution_count": 67,
     "metadata": {},
     "output_type": "execute_result"
    }
   ],
   "source": [
    "df.iloc[0:2,2:]"
   ]
  },
  {
   "cell_type": "code",
   "execution_count": 84,
   "id": "289bfa2c-393c-4cfc-ae04-0e790a508010",
   "metadata": {},
   "outputs": [
    {
     "data": {
      "text/html": [
       "<div>\n",
       "<style scoped>\n",
       "    .dataframe tbody tr th:only-of-type {\n",
       "        vertical-align: middle;\n",
       "    }\n",
       "\n",
       "    .dataframe tbody tr th {\n",
       "        vertical-align: top;\n",
       "    }\n",
       "\n",
       "    .dataframe thead th {\n",
       "        text-align: right;\n",
       "    }\n",
       "</style>\n",
       "<table border=\"1\" class=\"dataframe\">\n",
       "  <thead>\n",
       "    <tr style=\"text-align: right;\">\n",
       "      <th></th>\n",
       "      <th>W</th>\n",
       "      <th>new columns</th>\n",
       "    </tr>\n",
       "  </thead>\n",
       "  <tbody>\n",
       "    <tr>\n",
       "      <th>A</th>\n",
       "      <td>68</td>\n",
       "      <td>38</td>\n",
       "    </tr>\n",
       "    <tr>\n",
       "      <th>B</th>\n",
       "      <td>-64</td>\n",
       "      <td>-40</td>\n",
       "    </tr>\n",
       "  </tbody>\n",
       "</table>\n",
       "</div>"
      ],
      "text/plain": [
       "    W  new columns\n",
       "A  68           38\n",
       "B -64          -40"
      ]
     },
     "execution_count": 84,
     "metadata": {},
     "output_type": "execute_result"
    }
   ],
   "source": [
    "df.loc[['A','B'],['W','new columns']]"
   ]
  },
  {
   "cell_type": "code",
   "execution_count": 89,
   "id": "0bb8f375-9044-4d20-853f-4056df328215",
   "metadata": {},
   "outputs": [
    {
     "data": {
      "text/html": [
       "<div>\n",
       "<style scoped>\n",
       "    .dataframe tbody tr th:only-of-type {\n",
       "        vertical-align: middle;\n",
       "    }\n",
       "\n",
       "    .dataframe tbody tr th {\n",
       "        vertical-align: top;\n",
       "    }\n",
       "\n",
       "    .dataframe thead th {\n",
       "        text-align: right;\n",
       "    }\n",
       "</style>\n",
       "<table border=\"1\" class=\"dataframe\">\n",
       "  <thead>\n",
       "    <tr style=\"text-align: right;\">\n",
       "      <th></th>\n",
       "      <th>new columns</th>\n",
       "    </tr>\n",
       "  </thead>\n",
       "  <tbody>\n",
       "    <tr>\n",
       "      <th>D</th>\n",
       "      <td>-53</td>\n",
       "    </tr>\n",
       "  </tbody>\n",
       "</table>\n",
       "</div>"
      ],
      "text/plain": [
       "   new columns\n",
       "D          -53"
      ]
     },
     "execution_count": 89,
     "metadata": {},
     "output_type": "execute_result"
    }
   ],
   "source": [
    "df.iloc[-1:,-1:]"
   ]
  },
  {
   "cell_type": "code",
   "execution_count": 90,
   "id": "c9eae1c7-de20-42bf-b308-129f613e81df",
   "metadata": {},
   "outputs": [
    {
     "data": {
      "text/html": [
       "<div>\n",
       "<style scoped>\n",
       "    .dataframe tbody tr th:only-of-type {\n",
       "        vertical-align: middle;\n",
       "    }\n",
       "\n",
       "    .dataframe tbody tr th {\n",
       "        vertical-align: top;\n",
       "    }\n",
       "\n",
       "    .dataframe thead th {\n",
       "        text-align: right;\n",
       "    }\n",
       "</style>\n",
       "<table border=\"1\" class=\"dataframe\">\n",
       "  <thead>\n",
       "    <tr style=\"text-align: right;\">\n",
       "      <th></th>\n",
       "      <th>W</th>\n",
       "      <th>E</th>\n",
       "      <th>R</th>\n",
       "      <th>T</th>\n",
       "      <th>new columns</th>\n",
       "    </tr>\n",
       "  </thead>\n",
       "  <tbody>\n",
       "    <tr>\n",
       "      <th>D</th>\n",
       "      <td>-31</td>\n",
       "      <td>47</td>\n",
       "      <td>76</td>\n",
       "      <td>-64</td>\n",
       "      <td>-53</td>\n",
       "    </tr>\n",
       "  </tbody>\n",
       "</table>\n",
       "</div>"
      ],
      "text/plain": [
       "    W   E   R   T  new columns\n",
       "D -31  47  76 -64          -53"
      ]
     },
     "execution_count": 90,
     "metadata": {},
     "output_type": "execute_result"
    }
   ],
   "source": [
    "df.iloc[-1:]"
   ]
  },
  {
   "cell_type": "code",
   "execution_count": 91,
   "id": "72ae497e-ce1c-45b3-bd02-e55ea3cce9e5",
   "metadata": {},
   "outputs": [
    {
     "data": {
      "text/html": [
       "<div>\n",
       "<style scoped>\n",
       "    .dataframe tbody tr th:only-of-type {\n",
       "        vertical-align: middle;\n",
       "    }\n",
       "\n",
       "    .dataframe tbody tr th {\n",
       "        vertical-align: top;\n",
       "    }\n",
       "\n",
       "    .dataframe thead th {\n",
       "        text-align: right;\n",
       "    }\n",
       "</style>\n",
       "<table border=\"1\" class=\"dataframe\">\n",
       "  <thead>\n",
       "    <tr style=\"text-align: right;\">\n",
       "      <th></th>\n",
       "      <th>W</th>\n",
       "      <th>E</th>\n",
       "      <th>R</th>\n",
       "      <th>T</th>\n",
       "      <th>new columns</th>\n",
       "    </tr>\n",
       "  </thead>\n",
       "  <tbody>\n",
       "    <tr>\n",
       "      <th>A</th>\n",
       "      <td>68</td>\n",
       "      <td>-100</td>\n",
       "      <td>21</td>\n",
       "      <td>-70</td>\n",
       "      <td>38</td>\n",
       "    </tr>\n",
       "    <tr>\n",
       "      <th>B</th>\n",
       "      <td>-64</td>\n",
       "      <td>-6</td>\n",
       "      <td>-11</td>\n",
       "      <td>-86</td>\n",
       "      <td>-40</td>\n",
       "    </tr>\n",
       "    <tr>\n",
       "      <th>C</th>\n",
       "      <td>61</td>\n",
       "      <td>43</td>\n",
       "      <td>70</td>\n",
       "      <td>-73</td>\n",
       "      <td>120</td>\n",
       "    </tr>\n",
       "    <tr>\n",
       "      <th>D</th>\n",
       "      <td>-31</td>\n",
       "      <td>47</td>\n",
       "      <td>76</td>\n",
       "      <td>-64</td>\n",
       "      <td>-53</td>\n",
       "    </tr>\n",
       "  </tbody>\n",
       "</table>\n",
       "</div>"
      ],
      "text/plain": [
       "    W    E   R   T  new columns\n",
       "A  68 -100  21 -70           38\n",
       "B -64   -6 -11 -86          -40\n",
       "C  61   43  70 -73          120\n",
       "D -31   47  76 -64          -53"
      ]
     },
     "execution_count": 91,
     "metadata": {},
     "output_type": "execute_result"
    }
   ],
   "source": [
    "df"
   ]
  },
  {
   "cell_type": "code",
   "execution_count": 92,
   "id": "d8034400-42d7-4e1a-a3cf-a1aec74c9b13",
   "metadata": {},
   "outputs": [
    {
     "data": {
      "text/html": [
       "<div>\n",
       "<style scoped>\n",
       "    .dataframe tbody tr th:only-of-type {\n",
       "        vertical-align: middle;\n",
       "    }\n",
       "\n",
       "    .dataframe tbody tr th {\n",
       "        vertical-align: top;\n",
       "    }\n",
       "\n",
       "    .dataframe thead th {\n",
       "        text-align: right;\n",
       "    }\n",
       "</style>\n",
       "<table border=\"1\" class=\"dataframe\">\n",
       "  <thead>\n",
       "    <tr style=\"text-align: right;\">\n",
       "      <th></th>\n",
       "      <th>W</th>\n",
       "      <th>E</th>\n",
       "      <th>R</th>\n",
       "      <th>T</th>\n",
       "      <th>new columns</th>\n",
       "    </tr>\n",
       "  </thead>\n",
       "  <tbody>\n",
       "    <tr>\n",
       "      <th>A</th>\n",
       "      <td>True</td>\n",
       "      <td>False</td>\n",
       "      <td>True</td>\n",
       "      <td>False</td>\n",
       "      <td>True</td>\n",
       "    </tr>\n",
       "    <tr>\n",
       "      <th>B</th>\n",
       "      <td>False</td>\n",
       "      <td>False</td>\n",
       "      <td>False</td>\n",
       "      <td>False</td>\n",
       "      <td>False</td>\n",
       "    </tr>\n",
       "    <tr>\n",
       "      <th>C</th>\n",
       "      <td>True</td>\n",
       "      <td>True</td>\n",
       "      <td>True</td>\n",
       "      <td>False</td>\n",
       "      <td>True</td>\n",
       "    </tr>\n",
       "    <tr>\n",
       "      <th>D</th>\n",
       "      <td>False</td>\n",
       "      <td>True</td>\n",
       "      <td>True</td>\n",
       "      <td>False</td>\n",
       "      <td>False</td>\n",
       "    </tr>\n",
       "  </tbody>\n",
       "</table>\n",
       "</div>"
      ],
      "text/plain": [
       "       W      E      R      T  new columns\n",
       "A   True  False   True  False         True\n",
       "B  False  False  False  False        False\n",
       "C   True   True   True  False         True\n",
       "D  False   True   True  False        False"
      ]
     },
     "execution_count": 92,
     "metadata": {},
     "output_type": "execute_result"
    }
   ],
   "source": [
    "df >= 0"
   ]
  },
  {
   "cell_type": "code",
   "execution_count": 93,
   "id": "ac60924a-3608-474c-96a8-396c2bc65291",
   "metadata": {},
   "outputs": [
    {
     "data": {
      "text/html": [
       "<div>\n",
       "<style scoped>\n",
       "    .dataframe tbody tr th:only-of-type {\n",
       "        vertical-align: middle;\n",
       "    }\n",
       "\n",
       "    .dataframe tbody tr th {\n",
       "        vertical-align: top;\n",
       "    }\n",
       "\n",
       "    .dataframe thead th {\n",
       "        text-align: right;\n",
       "    }\n",
       "</style>\n",
       "<table border=\"1\" class=\"dataframe\">\n",
       "  <thead>\n",
       "    <tr style=\"text-align: right;\">\n",
       "      <th></th>\n",
       "      <th>W</th>\n",
       "      <th>E</th>\n",
       "      <th>R</th>\n",
       "      <th>T</th>\n",
       "      <th>new columns</th>\n",
       "    </tr>\n",
       "  </thead>\n",
       "  <tbody>\n",
       "    <tr>\n",
       "      <th>A</th>\n",
       "      <td>68.0</td>\n",
       "      <td>NaN</td>\n",
       "      <td>21.0</td>\n",
       "      <td>NaN</td>\n",
       "      <td>38.0</td>\n",
       "    </tr>\n",
       "    <tr>\n",
       "      <th>B</th>\n",
       "      <td>NaN</td>\n",
       "      <td>NaN</td>\n",
       "      <td>NaN</td>\n",
       "      <td>NaN</td>\n",
       "      <td>NaN</td>\n",
       "    </tr>\n",
       "    <tr>\n",
       "      <th>C</th>\n",
       "      <td>61.0</td>\n",
       "      <td>43.0</td>\n",
       "      <td>70.0</td>\n",
       "      <td>NaN</td>\n",
       "      <td>120.0</td>\n",
       "    </tr>\n",
       "    <tr>\n",
       "      <th>D</th>\n",
       "      <td>NaN</td>\n",
       "      <td>47.0</td>\n",
       "      <td>76.0</td>\n",
       "      <td>NaN</td>\n",
       "      <td>NaN</td>\n",
       "    </tr>\n",
       "  </tbody>\n",
       "</table>\n",
       "</div>"
      ],
      "text/plain": [
       "      W     E     R   T  new columns\n",
       "A  68.0   NaN  21.0 NaN         38.0\n",
       "B   NaN   NaN   NaN NaN          NaN\n",
       "C  61.0  43.0  70.0 NaN        120.0\n",
       "D   NaN  47.0  76.0 NaN          NaN"
      ]
     },
     "execution_count": 93,
     "metadata": {},
     "output_type": "execute_result"
    }
   ],
   "source": [
    "df[df >= 0]"
   ]
  },
  {
   "cell_type": "code",
   "execution_count": 98,
   "id": "fb7d44d4-b172-4d55-9c80-84d2ed4dfba8",
   "metadata": {},
   "outputs": [
    {
     "data": {
      "text/html": [
       "<div>\n",
       "<style scoped>\n",
       "    .dataframe tbody tr th:only-of-type {\n",
       "        vertical-align: middle;\n",
       "    }\n",
       "\n",
       "    .dataframe tbody tr th {\n",
       "        vertical-align: top;\n",
       "    }\n",
       "\n",
       "    .dataframe thead th {\n",
       "        text-align: right;\n",
       "    }\n",
       "</style>\n",
       "<table border=\"1\" class=\"dataframe\">\n",
       "  <thead>\n",
       "    <tr style=\"text-align: right;\">\n",
       "      <th></th>\n",
       "      <th>W</th>\n",
       "      <th>E</th>\n",
       "      <th>R</th>\n",
       "      <th>T</th>\n",
       "      <th>new columns</th>\n",
       "    </tr>\n",
       "  </thead>\n",
       "  <tbody>\n",
       "    <tr>\n",
       "      <th>A</th>\n",
       "      <td>68</td>\n",
       "      <td>-100</td>\n",
       "      <td>21</td>\n",
       "      <td>-70</td>\n",
       "      <td>38</td>\n",
       "    </tr>\n",
       "  </tbody>\n",
       "</table>\n",
       "</div>"
      ],
      "text/plain": [
       "    W    E   R   T  new columns\n",
       "A  68 -100  21 -70           38"
      ]
     },
     "execution_count": 98,
     "metadata": {},
     "output_type": "execute_result"
    }
   ],
   "source": [
    "df[df['W'] > 0].iloc[:1]"
   ]
  },
  {
   "cell_type": "code",
   "execution_count": 99,
   "id": "d16a7b07-26d6-4a11-81a9-1b00f4a09a3d",
   "metadata": {},
   "outputs": [
    {
     "data": {
      "text/plain": [
       "Index(['W', 'E', 'R', 'T', 'new columns'], dtype='object')"
      ]
     },
     "execution_count": 99,
     "metadata": {},
     "output_type": "execute_result"
    }
   ],
   "source": [
    "df.columns"
   ]
  },
  {
   "cell_type": "code",
   "execution_count": 103,
   "id": "acf09749-36b6-4b0e-a470-9feea19bf224",
   "metadata": {},
   "outputs": [
    {
     "data": {
      "text/html": [
       "<div>\n",
       "<style scoped>\n",
       "    .dataframe tbody tr th:only-of-type {\n",
       "        vertical-align: middle;\n",
       "    }\n",
       "\n",
       "    .dataframe tbody tr th {\n",
       "        vertical-align: top;\n",
       "    }\n",
       "\n",
       "    .dataframe thead th {\n",
       "        text-align: right;\n",
       "    }\n",
       "</style>\n",
       "<table border=\"1\" class=\"dataframe\">\n",
       "  <thead>\n",
       "    <tr style=\"text-align: right;\">\n",
       "      <th></th>\n",
       "      <th>W</th>\n",
       "      <th>E</th>\n",
       "      <th>R</th>\n",
       "      <th>T</th>\n",
       "      <th>new columns</th>\n",
       "    </tr>\n",
       "  </thead>\n",
       "  <tbody>\n",
       "    <tr>\n",
       "      <th>A</th>\n",
       "      <td>68</td>\n",
       "      <td>-100</td>\n",
       "      <td>21</td>\n",
       "      <td>-70</td>\n",
       "      <td>38</td>\n",
       "    </tr>\n",
       "    <tr>\n",
       "      <th>C</th>\n",
       "      <td>61</td>\n",
       "      <td>43</td>\n",
       "      <td>70</td>\n",
       "      <td>-73</td>\n",
       "      <td>120</td>\n",
       "    </tr>\n",
       "  </tbody>\n",
       "</table>\n",
       "</div>"
      ],
      "text/plain": [
       "    W    E   R   T  new columns\n",
       "A  68 -100  21 -70           38\n",
       "C  61   43  70 -73          120"
      ]
     },
     "execution_count": 103,
     "metadata": {},
     "output_type": "execute_result"
    }
   ],
   "source": [
    "df[(df['W'] > 1) & (df['new columns'] >= 0)]"
   ]
  },
  {
   "cell_type": "code",
   "execution_count": 104,
   "id": "33b7b0a3-8a82-414d-975f-2d0966ffcf34",
   "metadata": {},
   "outputs": [
    {
     "data": {
      "text/html": [
       "<div>\n",
       "<style scoped>\n",
       "    .dataframe tbody tr th:only-of-type {\n",
       "        vertical-align: middle;\n",
       "    }\n",
       "\n",
       "    .dataframe tbody tr th {\n",
       "        vertical-align: top;\n",
       "    }\n",
       "\n",
       "    .dataframe thead th {\n",
       "        text-align: right;\n",
       "    }\n",
       "</style>\n",
       "<table border=\"1\" class=\"dataframe\">\n",
       "  <thead>\n",
       "    <tr style=\"text-align: right;\">\n",
       "      <th></th>\n",
       "      <th>index</th>\n",
       "      <th>W</th>\n",
       "      <th>E</th>\n",
       "      <th>R</th>\n",
       "      <th>T</th>\n",
       "      <th>new columns</th>\n",
       "    </tr>\n",
       "  </thead>\n",
       "  <tbody>\n",
       "    <tr>\n",
       "      <th>0</th>\n",
       "      <td>A</td>\n",
       "      <td>68</td>\n",
       "      <td>-100</td>\n",
       "      <td>21</td>\n",
       "      <td>-70</td>\n",
       "      <td>38</td>\n",
       "    </tr>\n",
       "    <tr>\n",
       "      <th>1</th>\n",
       "      <td>B</td>\n",
       "      <td>-64</td>\n",
       "      <td>-6</td>\n",
       "      <td>-11</td>\n",
       "      <td>-86</td>\n",
       "      <td>-40</td>\n",
       "    </tr>\n",
       "    <tr>\n",
       "      <th>2</th>\n",
       "      <td>C</td>\n",
       "      <td>61</td>\n",
       "      <td>43</td>\n",
       "      <td>70</td>\n",
       "      <td>-73</td>\n",
       "      <td>120</td>\n",
       "    </tr>\n",
       "    <tr>\n",
       "      <th>3</th>\n",
       "      <td>D</td>\n",
       "      <td>-31</td>\n",
       "      <td>47</td>\n",
       "      <td>76</td>\n",
       "      <td>-64</td>\n",
       "      <td>-53</td>\n",
       "    </tr>\n",
       "  </tbody>\n",
       "</table>\n",
       "</div>"
      ],
      "text/plain": [
       "  index   W    E   R   T  new columns\n",
       "0     A  68 -100  21 -70           38\n",
       "1     B -64   -6 -11 -86          -40\n",
       "2     C  61   43  70 -73          120\n",
       "3     D -31   47  76 -64          -53"
      ]
     },
     "execution_count": 104,
     "metadata": {},
     "output_type": "execute_result"
    }
   ],
   "source": [
    "df.reset_index()"
   ]
  },
  {
   "cell_type": "code",
   "execution_count": 105,
   "id": "06a33bf2-ee42-4a2c-bfe1-b4e2264634bb",
   "metadata": {},
   "outputs": [],
   "source": [
    "index_states = ['Bastam', 'Shahrood', 'Bonab', 'Tabriz']"
   ]
  },
  {
   "cell_type": "code",
   "execution_count": 107,
   "id": "7d34b1fb-d4a6-47ad-be01-5ad7803f620a",
   "metadata": {},
   "outputs": [
    {
     "ename": "KeyError",
     "evalue": "\"None of ['Bastam', 'Shahrood', 'Bonab', 'Tabriz'] are in the columns\"",
     "output_type": "error",
     "traceback": [
      "\u001b[1;31m---------------------------------------------------------------------------\u001b[0m",
      "\u001b[1;31mKeyError\u001b[0m                                  Traceback (most recent call last)",
      "\u001b[1;32m~\\AppData\\Local\\Temp\\ipykernel_4332\\3885251277.py\u001b[0m in \u001b[0;36m?\u001b[1;34m()\u001b[0m\n\u001b[1;32m----> 1\u001b[1;33m \u001b[0mdf\u001b[0m \u001b[1;33m=\u001b[0m \u001b[0mdf\u001b[0m\u001b[1;33m.\u001b[0m\u001b[0mset_index\u001b[0m\u001b[1;33m(\u001b[0m\u001b[0mStates\u001b[0m\u001b[1;33m)\u001b[0m\u001b[1;33m\u001b[0m\u001b[1;33m\u001b[0m\u001b[0m\n\u001b[0m",
      "\u001b[1;32mc:\\users\\yasin\\appdata\\local\\programs\\python\\python38\\lib\\site-packages\\pandas\\core\\frame.py\u001b[0m in \u001b[0;36m?\u001b[1;34m(self, keys, drop, append, inplace, verify_integrity)\u001b[0m\n\u001b[0;32m   5855\u001b[0m                     \u001b[1;32mif\u001b[0m \u001b[1;32mnot\u001b[0m \u001b[0mfound\u001b[0m\u001b[1;33m:\u001b[0m\u001b[1;33m\u001b[0m\u001b[1;33m\u001b[0m\u001b[0m\n\u001b[0;32m   5856\u001b[0m                         \u001b[0mmissing\u001b[0m\u001b[1;33m.\u001b[0m\u001b[0mappend\u001b[0m\u001b[1;33m(\u001b[0m\u001b[0mcol\u001b[0m\u001b[1;33m)\u001b[0m\u001b[1;33m\u001b[0m\u001b[1;33m\u001b[0m\u001b[0m\n\u001b[0;32m   5857\u001b[0m \u001b[1;33m\u001b[0m\u001b[0m\n\u001b[0;32m   5858\u001b[0m         \u001b[1;32mif\u001b[0m \u001b[0mmissing\u001b[0m\u001b[1;33m:\u001b[0m\u001b[1;33m\u001b[0m\u001b[1;33m\u001b[0m\u001b[0m\n\u001b[1;32m-> 5859\u001b[1;33m             \u001b[1;32mraise\u001b[0m \u001b[0mKeyError\u001b[0m\u001b[1;33m(\u001b[0m\u001b[1;34mf\"None of {missing} are in the columns\"\u001b[0m\u001b[1;33m)\u001b[0m\u001b[1;33m\u001b[0m\u001b[1;33m\u001b[0m\u001b[0m\n\u001b[0m\u001b[0;32m   5860\u001b[0m \u001b[1;33m\u001b[0m\u001b[0m\n\u001b[0;32m   5861\u001b[0m         \u001b[1;32mif\u001b[0m \u001b[0minplace\u001b[0m\u001b[1;33m:\u001b[0m\u001b[1;33m\u001b[0m\u001b[1;33m\u001b[0m\u001b[0m\n\u001b[0;32m   5862\u001b[0m             \u001b[0mframe\u001b[0m \u001b[1;33m=\u001b[0m \u001b[0mself\u001b[0m\u001b[1;33m\u001b[0m\u001b[1;33m\u001b[0m\u001b[0m\n",
      "\u001b[1;31mKeyError\u001b[0m: \"None of ['Bastam', 'Shahrood', 'Bonab', 'Tabriz'] are in the columns\""
     ]
    }
   ],
   "source": [
    "df['States'] = index_"
   ]
  },
  {
   "cell_type": "code",
   "execution_count": null,
   "id": "6840459d-2c35-48ff-bb4d-585d46a64dd3",
   "metadata": {},
   "outputs": [],
   "source": []
  }
 ],
 "metadata": {
  "kernelspec": {
   "display_name": "Python 3 (ipykernel)",
   "language": "python",
   "name": "python3"
  },
  "language_info": {
   "codemirror_mode": {
    "name": "ipython",
    "version": 3
   },
   "file_extension": ".py",
   "mimetype": "text/x-python",
   "name": "python",
   "nbconvert_exporter": "python",
   "pygments_lexer": "ipython3",
   "version": "3.8.10"
  }
 },
 "nbformat": 4,
 "nbformat_minor": 5
}
