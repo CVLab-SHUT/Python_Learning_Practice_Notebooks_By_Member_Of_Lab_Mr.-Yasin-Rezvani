{
  "cells": [
    {
      "cell_type": "markdown",
      "metadata": {
        "id": "view-in-github",
        "colab_type": "text"
      },
      "source": [
        "<a href=\"https://colab.research.google.com/github/YasinRezvani/Python_Learning_Practice_Notebooks/blob/master/Exercise%20Notebooks/Playing%20with%20numpy%20library.ipynb\" target=\"_parent\"><img src=\"https://colab.research.google.com/assets/colab-badge.svg\" alt=\"Open In Colab\"/></a>"
      ]
    },
    {
      "cell_type": "code",
      "execution_count": null,
      "id": "b9499a42-604e-41af-889d-140cec4baace",
      "metadata": {
        "id": "b9499a42-604e-41af-889d-140cec4baace"
      },
      "outputs": [],
      "source": [
        "import numpy as np"
      ]
    },
    {
      "cell_type": "code",
      "execution_count": null,
      "id": "38d272a3-447f-4636-8341-76827f10a53a",
      "metadata": {
        "id": "38d272a3-447f-4636-8341-76827f10a53a"
      },
      "outputs": [],
      "source": [
        "first_array = np.array([[10,20,30],[40,50,60]])"
      ]
    },
    {
      "cell_type": "code",
      "execution_count": null,
      "id": "454e89e1-c805-4845-9e84-0ae931dfd351",
      "metadata": {
        "id": "454e89e1-c805-4845-9e84-0ae931dfd351",
        "outputId": "d6260d48-2a61-468a-d2c8-84a66a50ffcd"
      },
      "outputs": [
        {
          "name": "stdout",
          "output_type": "stream",
          "text": [
            "[[10 20 30]\n",
            " [40 50 60]]\n"
          ]
        }
      ],
      "source": [
        "print(first_array)"
      ]
    },
    {
      "cell_type": "code",
      "execution_count": null,
      "id": "087623e2-973f-4208-9335-5557b11d42c6",
      "metadata": {
        "id": "087623e2-973f-4208-9335-5557b11d42c6",
        "outputId": "0ceae09c-051c-4adf-c6d0-c0a284d1bf45"
      },
      "outputs": [
        {
          "name": "stdout",
          "output_type": "stream",
          "text": [
            "[10 20 30]\n",
            "[40 50 60]\n"
          ]
        }
      ],
      "source": [
        "for i in first_array:\n",
        "    print(i)"
      ]
    },
    {
      "cell_type": "code",
      "execution_count": null,
      "id": "ce319ee7-24f1-4446-aaa8-90d8b548cefd",
      "metadata": {
        "id": "ce319ee7-24f1-4446-aaa8-90d8b548cefd",
        "outputId": "437c3ab4-4ffa-4fec-a503-9ccbcb41e1b0"
      },
      "outputs": [
        {
          "name": "stdout",
          "output_type": "stream",
          "text": [
            "10\n",
            "20\n",
            "30\n",
            "40\n",
            "50\n",
            "60\n"
          ]
        }
      ],
      "source": [
        "for i in first_array:\n",
        "    for j in i:\n",
        "        print(j)"
      ]
    },
    {
      "cell_type": "code",
      "execution_count": null,
      "id": "b6f37ae7-e18a-46ca-8945-16beed12a5cf",
      "metadata": {
        "id": "b6f37ae7-e18a-46ca-8945-16beed12a5cf",
        "outputId": "cea6f585-573c-4e79-e14b-88c7cda159ff"
      },
      "outputs": [
        {
          "data": {
            "text/plain": [
              "numpy.ndarray"
            ]
          },
          "execution_count": 8,
          "metadata": {},
          "output_type": "execute_result"
        }
      ],
      "source": [
        "type(first_array)"
      ]
    },
    {
      "cell_type": "code",
      "execution_count": null,
      "id": "8df5ae2f-4686-4ea3-a1c6-5399d4baa8f7",
      "metadata": {
        "id": "8df5ae2f-4686-4ea3-a1c6-5399d4baa8f7"
      },
      "outputs": [],
      "source": [
        "second_array = np.array(range(100))"
      ]
    },
    {
      "cell_type": "code",
      "execution_count": null,
      "id": "2fe72892-2c3c-4511-ac1c-3c448c5c06c5",
      "metadata": {
        "id": "2fe72892-2c3c-4511-ac1c-3c448c5c06c5",
        "outputId": "e7a6c211-07d9-4aa7-e7c3-f4604e23a989"
      },
      "outputs": [
        {
          "name": "stdout",
          "output_type": "stream",
          "text": [
            "[[ 0  1  2  3  4  5  6  7  8  9]\n",
            " [10 11 12 13 14 15 16 17 18 19]\n",
            " [20 21 22 23 24 25 26 27 28 29]\n",
            " [30 31 32 33 34 35 36 37 38 39]\n",
            " [40 41 42 43 44 45 46 47 48 49]\n",
            " [50 51 52 53 54 55 56 57 58 59]\n",
            " [60 61 62 63 64 65 66 67 68 69]\n",
            " [70 71 72 73 74 75 76 77 78 79]\n",
            " [80 81 82 83 84 85 86 87 88 89]\n",
            " [90 91 92 93 94 95 96 97 98 99]]\n"
          ]
        }
      ],
      "source": [
        "print(second_array.reshape(10,10))"
      ]
    },
    {
      "cell_type": "code",
      "execution_count": null,
      "id": "063b49a8-c352-4551-8a27-27287ca1d8df",
      "metadata": {
        "id": "063b49a8-c352-4551-8a27-27287ca1d8df"
      },
      "outputs": [],
      "source": [
        "third_array = np.array([[[0,1],[2,3]],[[4,5],[6,7]]])"
      ]
    },
    {
      "cell_type": "code",
      "execution_count": null,
      "id": "75c84eba-6475-4b62-8268-448d1c54f44b",
      "metadata": {
        "id": "75c84eba-6475-4b62-8268-448d1c54f44b",
        "outputId": "1cfa2184-1537-49db-9b19-426046a42cf1"
      },
      "outputs": [
        {
          "name": "stdout",
          "output_type": "stream",
          "text": [
            "0\n",
            "1\n",
            "2\n",
            "3\n",
            "4\n",
            "5\n",
            "6\n",
            "7\n"
          ]
        }
      ],
      "source": [
        "for i in third_array:\n",
        "    for j in i:\n",
        "        for k in j:\n",
        "            print(k)"
      ]
    },
    {
      "cell_type": "code",
      "execution_count": null,
      "id": "a115da36-4f4f-46fa-acd0-e6b0adb34b3d",
      "metadata": {
        "id": "a115da36-4f4f-46fa-acd0-e6b0adb34b3d",
        "outputId": "08145421-083a-42e9-e0e9-6d0bfda6e028"
      },
      "outputs": [
        {
          "name": "stdout",
          "output_type": "stream",
          "text": [
            "0\n",
            "1\n",
            "2\n",
            "3\n",
            "4\n",
            "5\n",
            "6\n",
            "7\n"
          ]
        }
      ],
      "source": [
        "for i in np.nditer(third_array):\n",
        "    print(i)"
      ]
    },
    {
      "cell_type": "code",
      "execution_count": null,
      "id": "743b8459-08b7-47e7-ad8b-d62a953ac6df",
      "metadata": {
        "id": "743b8459-08b7-47e7-ad8b-d62a953ac6df",
        "outputId": "9bc41ba6-2561-410f-8e35-cb6deae75291"
      },
      "outputs": [
        {
          "name": "stdout",
          "output_type": "stream",
          "text": [
            "(0, 0, 0) 0\n",
            "(0, 0, 1) 1\n",
            "(0, 1, 0) 2\n",
            "(0, 1, 1) 3\n",
            "(1, 0, 0) 4\n",
            "(1, 0, 1) 5\n",
            "(1, 1, 0) 6\n",
            "(1, 1, 1) 7\n"
          ]
        }
      ],
      "source": [
        "# hey, binary to decimal system, I'm lucky :)\n",
        "for i,j in np.ndenumerate(third_array):\n",
        "    print(i,j)"
      ]
    },
    {
      "cell_type": "code",
      "execution_count": null,
      "id": "9dfdf998-bc9f-420f-b9bb-32644c931ab7",
      "metadata": {
        "id": "9dfdf998-bc9f-420f-b9bb-32644c931ab7"
      },
      "outputs": [],
      "source": [
        "python_list = [[1,2] , [3,4] , [5,6]]"
      ]
    },
    {
      "cell_type": "code",
      "execution_count": null,
      "id": "eaf4b23c-b1ab-4d0f-8b12-07a12cf5b8a5",
      "metadata": {
        "id": "eaf4b23c-b1ab-4d0f-8b12-07a12cf5b8a5",
        "outputId": "a8a32c3a-0246-42e8-b613-1bc5d4754035"
      },
      "outputs": [
        {
          "data": {
            "text/plain": [
              "array([[1, 2],\n",
              "       [3, 4],\n",
              "       [5, 6]])"
            ]
          },
          "execution_count": 18,
          "metadata": {},
          "output_type": "execute_result"
        }
      ],
      "source": [
        "np.array(python_list)"
      ]
    },
    {
      "cell_type": "code",
      "execution_count": null,
      "id": "e56dbf39-4f4a-42ff-80fb-bb66001a4565",
      "metadata": {
        "id": "e56dbf39-4f4a-42ff-80fb-bb66001a4565",
        "outputId": "55a5c9bf-43a1-4838-d721-7bb3764c897d"
      },
      "outputs": [
        {
          "data": {
            "text/plain": [
              "array([ 0,  2,  4,  6,  8, 10])"
            ]
          },
          "execution_count": 20,
          "metadata": {},
          "output_type": "execute_result"
        }
      ],
      "source": [
        "np.arange(0,11,2)"
      ]
    },
    {
      "cell_type": "code",
      "execution_count": null,
      "id": "99989246-c773-4893-b9c6-1b4c9d27c2fe",
      "metadata": {
        "id": "99989246-c773-4893-b9c6-1b4c9d27c2fe",
        "outputId": "5a3c2e0e-6cdb-4cbb-cc89-e75086c5f0d5"
      },
      "outputs": [
        {
          "data": {
            "text/plain": [
              "array([0, 0, 0, 0, 0, 0, 0, 0, 0, 0])"
            ]
          },
          "execution_count": 25,
          "metadata": {},
          "output_type": "execute_result"
        }
      ],
      "source": [
        "np.zeros(10 , int)"
      ]
    },
    {
      "cell_type": "code",
      "execution_count": null,
      "id": "fca3b98f-0da3-4c82-ae40-300f132603e8",
      "metadata": {
        "id": "fca3b98f-0da3-4c82-ae40-300f132603e8",
        "outputId": "9e4dd4f1-7008-4fe9-c98f-c58b41b235f5"
      },
      "outputs": [
        {
          "data": {
            "text/plain": [
              "array([[0, 0, 0],\n",
              "       [0, 0, 0],\n",
              "       [0, 0, 0]])"
            ]
          },
          "execution_count": 26,
          "metadata": {},
          "output_type": "execute_result"
        }
      ],
      "source": [
        "np.zeros((3,3) , int)"
      ]
    },
    {
      "cell_type": "code",
      "execution_count": null,
      "id": "e268c25d-4581-4441-9c4f-e956316e9bfc",
      "metadata": {
        "id": "e268c25d-4581-4441-9c4f-e956316e9bfc",
        "outputId": "6c27867b-4625-4657-8f3b-9357248ddf76"
      },
      "outputs": [
        {
          "data": {
            "text/plain": [
              "array([[[1., 1., 1., 1.],\n",
              "        [1., 1., 1., 1.]],\n",
              "\n",
              "       [[1., 1., 1., 1.],\n",
              "        [1., 1., 1., 1.]],\n",
              "\n",
              "       [[1., 1., 1., 1.],\n",
              "        [1., 1., 1., 1.]],\n",
              "\n",
              "       [[1., 1., 1., 1.],\n",
              "        [1., 1., 1., 1.]],\n",
              "\n",
              "       [[1., 1., 1., 1.],\n",
              "        [1., 1., 1., 1.]]])"
            ]
          },
          "execution_count": 29,
          "metadata": {},
          "output_type": "execute_result"
        }
      ],
      "source": [
        "np.ones((5,2,4))"
      ]
    },
    {
      "cell_type": "code",
      "execution_count": null,
      "id": "3b116d19-1650-46c5-8257-369c50b23cf2",
      "metadata": {
        "id": "3b116d19-1650-46c5-8257-369c50b23cf2",
        "outputId": "84b21206-6544-457b-fe77-e28f523d225e"
      },
      "outputs": [
        {
          "data": {
            "text/plain": [
              "array([[1, 0, 0],\n",
              "       [0, 1, 0],\n",
              "       [0, 0, 1]])"
            ]
          },
          "execution_count": 37,
          "metadata": {},
          "output_type": "execute_result"
        }
      ],
      "source": [
        "#diagonal matrices\n",
        "np.eye(3,dtype=int)"
      ]
    },
    {
      "cell_type": "code",
      "execution_count": null,
      "id": "14348881-36f8-4385-929a-767be93da987",
      "metadata": {
        "id": "14348881-36f8-4385-929a-767be93da987",
        "outputId": "9eaa6d62-6c92-4b7d-cf75-1fcb1e9244c5"
      },
      "outputs": [
        {
          "data": {
            "text/plain": [
              "array([[0.52647355, 0.47632649, 0.08134257],\n",
              "       [0.36880024, 0.70807117, 0.52883203],\n",
              "       [0.81149216, 0.96332086, 0.71166799]])"
            ]
          },
          "execution_count": 43,
          "metadata": {},
          "output_type": "execute_result"
        }
      ],
      "source": [
        "#between 0 and 1\n",
        "np.random.rand(3,3)"
      ]
    },
    {
      "cell_type": "code",
      "execution_count": null,
      "id": "90199006-29a6-489c-ae4a-589652d6292d",
      "metadata": {
        "id": "90199006-29a6-489c-ae4a-589652d6292d",
        "outputId": "29f00b37-8bba-4c11-ad08-7777f0a77d85"
      },
      "outputs": [
        {
          "data": {
            "text/plain": [
              "array([[ 0.78823706,  0.62388191,  0.01946724,  1.53333519],\n",
              "       [ 0.05829164, -1.9194897 ,  0.72540658,  0.99360274]])"
            ]
          },
          "execution_count": 45,
          "metadata": {},
          "output_type": "execute_result"
        }
      ],
      "source": [
        "# standard distribution contain variance number(negetive)\n",
        "np.random.randn(2,4)"
      ]
    },
    {
      "cell_type": "code",
      "execution_count": null,
      "id": "47667242-00bb-40d2-b3a7-2632f4190950",
      "metadata": {
        "id": "47667242-00bb-40d2-b3a7-2632f4190950",
        "outputId": "872fef5c-da48-4782-df9a-e2feb9640828"
      },
      "outputs": [
        {
          "data": {
            "text/plain": [
              "array([[14, 23, 14,  6, 12],\n",
              "       [30, 20,  7,  1, 21],\n",
              "       [48, 24, 15, 35, 45]])"
            ]
          },
          "execution_count": 49,
          "metadata": {},
          "output_type": "execute_result"
        }
      ],
      "source": [
        "np.random.randint(0,50,(3,5))"
      ]
    },
    {
      "cell_type": "code",
      "execution_count": null,
      "id": "e099b25c-c09a-403a-ad76-260fb4ebf380",
      "metadata": {
        "id": "e099b25c-c09a-403a-ad76-260fb4ebf380",
        "outputId": "98877175-7a58-43e3-9a04-787b417dd5de"
      },
      "outputs": [
        {
          "data": {
            "text/plain": [
              "array([51, 92, 14, 71, 60, 20, 82, 86, 74, 74])"
            ]
          },
          "execution_count": 68,
          "metadata": {},
          "output_type": "execute_result"
        }
      ],
      "source": [
        "# but this section doesn't change any compile and default value with np.random.seed()\n",
        "# especially in machine learning algorithms\n",
        "np.random.seed(42)\n",
        "np.random.randint(0,100,10)"
      ]
    },
    {
      "cell_type": "code",
      "execution_count": null,
      "id": "33039e74-390f-4f16-a61e-e081aac46ead",
      "metadata": {
        "id": "33039e74-390f-4f16-a61e-e081aac46ead",
        "outputId": "3d407953-d41a-4d14-fc5f-cd958ee2c6bc"
      },
      "outputs": [
        {
          "data": {
            "text/plain": [
              "array([87, 99, 23,  2, 21, 52,  1, 87, 29, 37])"
            ]
          },
          "execution_count": 69,
          "metadata": {},
          "output_type": "execute_result"
        }
      ],
      "source": [
        "# in any compile reproduce new value\n",
        "np.random.randint(0,100,10)"
      ]
    },
    {
      "cell_type": "code",
      "execution_count": null,
      "id": "1b0e1455-9b5b-4b9d-b813-0395cbdac563",
      "metadata": {
        "id": "1b0e1455-9b5b-4b9d-b813-0395cbdac563"
      },
      "outputs": [],
      "source": [
        "ex_arr = np.random.randint(0,100,10)"
      ]
    },
    {
      "cell_type": "code",
      "execution_count": null,
      "id": "12543062-2799-4d00-8280-3dbb20dc2345",
      "metadata": {
        "id": "12543062-2799-4d00-8280-3dbb20dc2345",
        "outputId": "665a79f5-4bc5-4acf-c174-3d42056e61ad"
      },
      "outputs": [
        {
          "data": {
            "text/plain": [
              "numpy.ndarray"
            ]
          },
          "execution_count": 78,
          "metadata": {},
          "output_type": "execute_result"
        }
      ],
      "source": [
        "type(ex_arr)"
      ]
    },
    {
      "cell_type": "code",
      "execution_count": null,
      "id": "29f55460-b5f3-4b10-af0a-96086e975a57",
      "metadata": {
        "id": "29f55460-b5f3-4b10-af0a-96086e975a57",
        "outputId": "5ba66602-9672-4a32-fa10-a9c6d5286268"
      },
      "outputs": [
        {
          "data": {
            "text/plain": [
              "dtype('int32')"
            ]
          },
          "execution_count": 80,
          "metadata": {},
          "output_type": "execute_result"
        }
      ],
      "source": [
        "ex_arr.dtype"
      ]
    },
    {
      "cell_type": "code",
      "execution_count": null,
      "id": "4e4f3fa4-059e-43b7-ac97-fa60aa53ba6f",
      "metadata": {
        "id": "4e4f3fa4-059e-43b7-ac97-fa60aa53ba6f",
        "outputId": "35755f69-c772-4721-c6f2-eccbcd07e169"
      },
      "outputs": [
        {
          "data": {
            "text/plain": [
              "(10,)"
            ]
          },
          "execution_count": 81,
          "metadata": {},
          "output_type": "execute_result"
        }
      ],
      "source": [
        "ex_arr.shape"
      ]
    },
    {
      "cell_type": "code",
      "execution_count": null,
      "id": "7f1ffe8c-23a0-4d38-82d8-df14d8450f1a",
      "metadata": {
        "id": "7f1ffe8c-23a0-4d38-82d8-df14d8450f1a",
        "outputId": "6af60897-8320-4f57-95af-d6f31e998e3c"
      },
      "outputs": [
        {
          "data": {
            "text/plain": [
              "array([[ 1, 63, 59, 20, 32],\n",
              "       [75, 57, 21, 88, 48]])"
            ]
          },
          "execution_count": 99,
          "metadata": {},
          "output_type": "execute_result"
        }
      ],
      "source": [
        "ex_arr.reshape(2,5)"
      ]
    },
    {
      "cell_type": "code",
      "execution_count": null,
      "id": "adc377f2-3d76-430c-bb28-f30e99e6494f",
      "metadata": {
        "id": "adc377f2-3d76-430c-bb28-f30e99e6494f",
        "outputId": "b5e09d11-fad8-4201-cd7d-199373928822"
      },
      "outputs": [
        {
          "data": {
            "text/plain": [
              "88"
            ]
          },
          "execution_count": 100,
          "metadata": {},
          "output_type": "execute_result"
        }
      ],
      "source": [
        "ex_arr.max()"
      ]
    },
    {
      "cell_type": "code",
      "execution_count": null,
      "id": "63c679b1-d835-4235-906d-1394a39c2df5",
      "metadata": {
        "id": "63c679b1-d835-4235-906d-1394a39c2df5",
        "outputId": "35e1278e-7df2-41c7-a2a3-588aa0cba7ac"
      },
      "outputs": [
        {
          "data": {
            "text/plain": [
              "8"
            ]
          },
          "execution_count": 101,
          "metadata": {},
          "output_type": "execute_result"
        }
      ],
      "source": [
        "ex_arr.argmax()"
      ]
    },
    {
      "cell_type": "code",
      "execution_count": 2,
      "id": "01281f3f-5c31-400e-bd6d-8ef06210b964",
      "metadata": {
        "id": "01281f3f-5c31-400e-bd6d-8ef06210b964"
      },
      "outputs": [],
      "source": [
        "import matplotlib"
      ]
    }
  ],
  "metadata": {
    "kernelspec": {
      "display_name": "Python 3 (ipykernel)",
      "language": "python",
      "name": "python3"
    },
    "language_info": {
      "codemirror_mode": {
        "name": "ipython",
        "version": 3
      },
      "file_extension": ".py",
      "mimetype": "text/x-python",
      "name": "python",
      "nbconvert_exporter": "python",
      "pygments_lexer": "ipython3",
      "version": "3.8.10"
    },
    "colab": {
      "provenance": [],
      "include_colab_link": true
    }
  },
  "nbformat": 4,
  "nbformat_minor": 5
}