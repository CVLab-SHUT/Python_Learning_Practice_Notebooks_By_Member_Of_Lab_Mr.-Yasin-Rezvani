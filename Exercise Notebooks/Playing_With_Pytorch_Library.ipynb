{
 "cells": [
  {
   "cell_type": "code",
   "execution_count": 66,
   "id": "64b0829a-d1d1-4414-b38c-1043ce2bddca",
   "metadata": {},
   "outputs": [],
   "source": [
    "# import require package to play with pytorch ^_^ Let's start \n",
    "import torch\n",
    "import torch.nn as nn\n",
    "import torch.nn.functional as F\n",
    "from torch.utils.data import DataLoader \n",
    "from torchvision import datasets, transforms\n",
    "from sklearn.metrics import confusion_matrix\n",
    "import matplotlib.pyplot as plt\n",
    "import pandas as pd\n",
    "import numpy as np"
   ]
  },
  {
   "cell_type": "code",
   "execution_count": 67,
   "id": "f1b1260a-7b80-405d-b5c4-1f06a78ad1bd",
   "metadata": {},
   "outputs": [
    {
     "data": {
      "text/plain": [
       "'2.2.1+cpu'"
      ]
     },
     "execution_count": 67,
     "metadata": {},
     "output_type": "execute_result"
    }
   ],
   "source": [
    "torch.__version__"
   ]
  },
  {
   "cell_type": "code",
   "execution_count": 68,
   "id": "b85425d2-c6ef-4bf9-9b27-d51b1dab182a",
   "metadata": {},
   "outputs": [],
   "source": [
    "arr = np.array([1,2,3,4,5])"
   ]
  },
  {
   "cell_type": "code",
   "execution_count": 69,
   "id": "47c27f4d-42ae-4f7e-bc77-c641723f84e2",
   "metadata": {},
   "outputs": [
    {
     "data": {
      "text/plain": [
       "array([   1,    2,    3,    4,    5])"
      ]
     },
     "execution_count": 69,
     "metadata": {},
     "output_type": "execute_result"
    }
   ],
   "source": [
    "arr"
   ]
  },
  {
   "cell_type": "code",
   "execution_count": 70,
   "id": "f668f01e-58a0-42c1-b667-466dedae93b4",
   "metadata": {},
   "outputs": [
    {
     "data": {
      "text/plain": [
       "dtype('int32')"
      ]
     },
     "execution_count": 70,
     "metadata": {},
     "output_type": "execute_result"
    }
   ],
   "source": [
    "arr.dtype"
   ]
  },
  {
   "cell_type": "code",
   "execution_count": 71,
   "id": "a4def4d4-683b-424d-8aa2-e8317b11d83d",
   "metadata": {},
   "outputs": [
    {
     "data": {
      "text/plain": [
       "numpy.ndarray"
      ]
     },
     "execution_count": 71,
     "metadata": {},
     "output_type": "execute_result"
    }
   ],
   "source": [
    "type(arr)"
   ]
  },
  {
   "cell_type": "code",
   "execution_count": 72,
   "id": "5e3cc68d-92d2-40d7-bd0f-a07828ef5c10",
   "metadata": {},
   "outputs": [
    {
     "data": {
      "text/plain": [
       "tensor([1, 2, 3, 4, 5], dtype=torch.int32)"
      ]
     },
     "execution_count": 72,
     "metadata": {},
     "output_type": "execute_result"
    }
   ],
   "source": [
    "# indicate tensor in pytorch method 1\n",
    "torch.from_numpy(arr)"
   ]
  },
  {
   "cell_type": "code",
   "execution_count": 73,
   "id": "4f80ca5f-fa94-4323-ad2a-4e95eda88ff9",
   "metadata": {},
   "outputs": [],
   "source": [
    "# indicate tensor in pytorch method 2\n",
    "x = torch.as_tensor(arr)"
   ]
  },
  {
   "cell_type": "code",
   "execution_count": 74,
   "id": "154b4f08-151b-42d3-8cd4-904c39311e15",
   "metadata": {},
   "outputs": [
    {
     "data": {
      "text/plain": [
       "torch.int32"
      ]
     },
     "execution_count": 74,
     "metadata": {},
     "output_type": "execute_result"
    }
   ],
   "source": [
    "x.dtype"
   ]
  },
  {
   "cell_type": "code",
   "execution_count": 75,
   "id": "b1c6e376-84ba-4fdb-9a49-e50ad018210f",
   "metadata": {},
   "outputs": [],
   "source": [
    "arr2d = np.arange(0.0,12.0)"
   ]
  },
  {
   "cell_type": "code",
   "execution_count": 76,
   "id": "34088e1f-0575-4f5f-8e5f-6091996530cb",
   "metadata": {},
   "outputs": [
    {
     "data": {
      "text/plain": [
       "array([ 0.,  1.,  2.,  3.,  4.,  5.,  6.,  7.,  8.,  9., 10., 11.])"
      ]
     },
     "execution_count": 76,
     "metadata": {},
     "output_type": "execute_result"
    }
   ],
   "source": [
    "arr2d"
   ]
  },
  {
   "cell_type": "code",
   "execution_count": 77,
   "id": "38bf5d37-3205-48c5-aaee-fb7a4b57b8d6",
   "metadata": {},
   "outputs": [],
   "source": [
    "arr2d = arr2d.reshape(3,4)"
   ]
  },
  {
   "cell_type": "code",
   "execution_count": 78,
   "id": "d4f154bd-a0df-4085-9909-04cb26f06c21",
   "metadata": {},
   "outputs": [
    {
     "data": {
      "text/plain": [
       "array([[ 0.,  1.,  2.,  3.],\n",
       "       [ 4.,  5.,  6.,  7.],\n",
       "       [ 8.,  9., 10., 11.]])"
      ]
     },
     "execution_count": 78,
     "metadata": {},
     "output_type": "execute_result"
    }
   ],
   "source": [
    "arr2d"
   ]
  },
  {
   "cell_type": "code",
   "execution_count": 79,
   "id": "f0297064-9be3-4034-bf0f-b01fe2ecf547",
   "metadata": {},
   "outputs": [],
   "source": [
    "x2 = torch.as_tensor(arr2d)"
   ]
  },
  {
   "cell_type": "code",
   "execution_count": 80,
   "id": "e96a797a-1825-4b83-9b6c-4db93b7c2b68",
   "metadata": {},
   "outputs": [
    {
     "data": {
      "text/plain": [
       "tensor([[ 0.,  1.,  2.,  3.],\n",
       "        [ 4.,  5.,  6.,  7.],\n",
       "        [ 8.,  9., 10., 11.]], dtype=torch.float64)"
      ]
     },
     "execution_count": 80,
     "metadata": {},
     "output_type": "execute_result"
    }
   ],
   "source": [
    "x2"
   ]
  },
  {
   "cell_type": "code",
   "execution_count": 81,
   "id": "0ed21398-dd37-49ed-a8a8-6d053319c435",
   "metadata": {},
   "outputs": [],
   "source": [
    "arr[0] = 121212"
   ]
  },
  {
   "cell_type": "code",
   "execution_count": 82,
   "id": "2777c9bf-b246-4c6f-b97f-c8c01d7df2fa",
   "metadata": {},
   "outputs": [
    {
     "data": {
      "text/plain": [
       "tensor([121212,      2,      3,      4,      5], dtype=torch.int32)"
      ]
     },
     "execution_count": 82,
     "metadata": {},
     "output_type": "execute_result"
    }
   ],
   "source": [
    "# the data from tensor was change as array\n",
    "x"
   ]
  },
  {
   "cell_type": "code",
   "execution_count": 83,
   "id": "1e74485b-348a-4eca-bff2-f29c38042da0",
   "metadata": {},
   "outputs": [],
   "source": [
    "my_tensor = torch.tensor(arr2d)"
   ]
  },
  {
   "cell_type": "code",
   "execution_count": 84,
   "id": "f84c153d-f42d-418c-a003-5ea8ff936003",
   "metadata": {},
   "outputs": [
    {
     "data": {
      "text/plain": [
       "tensor([[ 0.,  1.,  2.,  3.],\n",
       "        [ 4.,  5.,  6.,  7.],\n",
       "        [ 8.,  9., 10., 11.]], dtype=torch.float64)"
      ]
     },
     "execution_count": 84,
     "metadata": {},
     "output_type": "execute_result"
    }
   ],
   "source": [
    "my_tensor"
   ]
  },
  {
   "cell_type": "code",
   "execution_count": 85,
   "id": "a5569bbe-e75c-4a50-ba60-21bd3b2ebfea",
   "metadata": {},
   "outputs": [],
   "source": [
    "arr2d[0][0] = 0"
   ]
  },
  {
   "cell_type": "code",
   "execution_count": 86,
   "id": "c2bd30c0-b3ea-46fb-979b-92a2f9429834",
   "metadata": {},
   "outputs": [
    {
     "data": {
      "text/plain": [
       "array([[ 0.,  1.,  2.,  3.],\n",
       "       [ 4.,  5.,  6.,  7.],\n",
       "       [ 8.,  9., 10., 11.]])"
      ]
     },
     "execution_count": 86,
     "metadata": {},
     "output_type": "execute_result"
    }
   ],
   "source": [
    "arr2d"
   ]
  },
  {
   "cell_type": "code",
   "execution_count": 87,
   "id": "c6aa86dc-457d-4a47-b4ee-0fb41d909057",
   "metadata": {},
   "outputs": [
    {
     "data": {
      "text/plain": [
       "tensor([[ 0.,  1.,  2.,  3.],\n",
       "        [ 4.,  5.,  6.,  7.],\n",
       "        [ 8.,  9., 10., 11.]], dtype=torch.float64)"
      ]
     },
     "execution_count": 87,
     "metadata": {},
     "output_type": "execute_result"
    }
   ],
   "source": [
    "# the torch.tensor() was not changed when the array was change due to torch.tensor() make a copy from array\n",
    "my_tensor"
   ]
  },
  {
   "cell_type": "code",
   "execution_count": 88,
   "id": "ca01f74f-d60a-4d4b-819b-99a129cf1380",
   "metadata": {},
   "outputs": [
    {
     "data": {
      "text/plain": [
       "dtype('int32')"
      ]
     },
     "execution_count": 88,
     "metadata": {},
     "output_type": "execute_result"
    }
   ],
   "source": [
    "arr.dtype"
   ]
  },
  {
   "cell_type": "code",
   "execution_count": 89,
   "id": "9e82ac97-73e7-432d-9cf5-c456f1a696b5",
   "metadata": {},
   "outputs": [
    {
     "data": {
      "text/plain": [
       "tensor([121212,      2,      3,      4,      5], dtype=torch.int32)"
      ]
     },
     "execution_count": 89,
     "metadata": {},
     "output_type": "execute_result"
    }
   ],
   "source": [
    "torch.tensor(arr)"
   ]
  },
  {
   "cell_type": "code",
   "execution_count": 90,
   "id": "e4bd17a5-ccac-4588-8b2d-da672b06d595",
   "metadata": {},
   "outputs": [],
   "source": [
    "my_float_tensor = torch.Tensor(arr)"
   ]
  },
  {
   "cell_type": "code",
   "execution_count": 91,
   "id": "ba9c2f54-0c77-412e-a84d-3534ca8881c9",
   "metadata": {},
   "outputs": [
    {
     "data": {
      "text/plain": [
       "tensor([1.2121e+05, 2.0000e+00, 3.0000e+00, 4.0000e+00, 5.0000e+00])"
      ]
     },
     "execution_count": 91,
     "metadata": {},
     "output_type": "execute_result"
    }
   ],
   "source": [
    "my_float_tensor"
   ]
  },
  {
   "cell_type": "code",
   "execution_count": 92,
   "id": "5032a511-10af-4305-9ae3-5f73e64ccd3c",
   "metadata": {},
   "outputs": [
    {
     "data": {
      "text/plain": [
       "torch.float32"
      ]
     },
     "execution_count": 92,
     "metadata": {},
     "output_type": "execute_result"
    }
   ],
   "source": [
    "# different  of torch.tensor() or torch.Tensor() just in data type int32 vs float32\n",
    "my_float_tensor.dtype"
   ]
  },
  {
   "cell_type": "code",
   "execution_count": 93,
   "id": "c6190a2e-494e-4684-a8cc-7cdec80397c5",
   "metadata": {},
   "outputs": [
    {
     "data": {
      "text/plain": [
       "tensor([[inf, 0.],\n",
       "        [0., 0.]])"
      ]
     },
     "execution_count": 93,
     "metadata": {},
     "output_type": "execute_result"
    }
   ],
   "source": [
    "torch.empty(2,2)"
   ]
  },
  {
   "cell_type": "code",
   "execution_count": 94,
   "id": "d8370625-c779-419e-86e6-70b0ee9f9179",
   "metadata": {},
   "outputs": [
    {
     "data": {
      "text/plain": [
       "tensor([[0., 0., 0., 0.],\n",
       "        [0., 0., 0., 0.],\n",
       "        [0., 0., 0., 0.]], dtype=torch.float64)"
      ]
     },
     "execution_count": 94,
     "metadata": {},
     "output_type": "execute_result"
    }
   ],
   "source": [
    "torch.zeros(3,4,dtype=torch.float64)"
   ]
  },
  {
   "cell_type": "code",
   "execution_count": 95,
   "id": "103b36db-1129-45fa-a3b0-bd4582a719c5",
   "metadata": {},
   "outputs": [
    {
     "data": {
      "text/plain": [
       "tensor([[1., 1., 1., 1., 1., 1., 1., 1., 1., 1.],\n",
       "        [1., 1., 1., 1., 1., 1., 1., 1., 1., 1.]])"
      ]
     },
     "execution_count": 95,
     "metadata": {},
     "output_type": "execute_result"
    }
   ],
   "source": [
    "torch.ones(2,10)"
   ]
  },
  {
   "cell_type": "code",
   "execution_count": 96,
   "id": "07eaf5f2-7718-44d4-9e5c-4cc77aac7a07",
   "metadata": {},
   "outputs": [
    {
     "data": {
      "text/plain": [
       "tensor([[ 1,  3],\n",
       "        [ 5,  7],\n",
       "        [ 9, 11],\n",
       "        [13, 15],\n",
       "        [17, 19]])"
      ]
     },
     "execution_count": 96,
     "metadata": {},
     "output_type": "execute_result"
    }
   ],
   "source": [
    "torch.arange(1,20,2).reshape(5,2)"
   ]
  },
  {
   "cell_type": "code",
   "execution_count": 97,
   "id": "8800202d-791c-49ff-8773-df539b2e17c1",
   "metadata": {},
   "outputs": [
    {
     "data": {
      "text/plain": [
       "tensor([[ 0.0000,  1.8182,  3.6364,  5.4545],\n",
       "        [ 7.2727,  9.0909, 10.9091, 12.7273],\n",
       "        [14.5455, 16.3636, 18.1818, 20.0000]])"
      ]
     },
     "execution_count": 97,
     "metadata": {},
     "output_type": "execute_result"
    }
   ],
   "source": [
    "torch.linspace(0,20,12).reshape(3,4)"
   ]
  },
  {
   "cell_type": "code",
   "execution_count": 98,
   "id": "b7b526aa-eb02-404c-9a6c-b3386bc4f659",
   "metadata": {},
   "outputs": [
    {
     "data": {
      "text/plain": [
       "torch.float64"
      ]
     },
     "execution_count": 98,
     "metadata": {},
     "output_type": "execute_result"
    }
   ],
   "source": [
    "my_tensor.dtype"
   ]
  },
  {
   "cell_type": "code",
   "execution_count": 99,
   "id": "8e6e3ae6-f287-4ff3-b0c6-804f2f205361",
   "metadata": {},
   "outputs": [],
   "source": [
    "my_tensor = my_tensor.type(torch.int32)"
   ]
  },
  {
   "cell_type": "code",
   "execution_count": 100,
   "id": "ffaa76b7-b8ab-4d55-a732-7a2e2a0c3b07",
   "metadata": {},
   "outputs": [
    {
     "data": {
      "text/plain": [
       "torch.int32"
      ]
     },
     "execution_count": 100,
     "metadata": {},
     "output_type": "execute_result"
    }
   ],
   "source": [
    "# I change the data type of my tensor by torch.int32\n",
    "my_tensor.dtype"
   ]
  },
  {
   "cell_type": "code",
   "execution_count": 101,
   "id": "88b16e7c-9649-4c7e-b0f2-c12a0f91d1eb",
   "metadata": {},
   "outputs": [],
   "source": [
    "my_tensor_original = torch.zeros(3,5)"
   ]
  },
  {
   "cell_type": "code",
   "execution_count": 102,
   "id": "19b90afe-2b62-4296-90ca-1727171e80c2",
   "metadata": {},
   "outputs": [
    {
     "data": {
      "text/plain": [
       "tensor([[0., 0., 0., 0., 0.],\n",
       "        [0., 0., 0., 0., 0.],\n",
       "        [0., 0., 0., 0., 0.]])"
      ]
     },
     "execution_count": 102,
     "metadata": {},
     "output_type": "execute_result"
    }
   ],
   "source": [
    "my_tensor_original"
   ]
  },
  {
   "cell_type": "code",
   "execution_count": 103,
   "id": "0aebf1f6-84e1-4304-a98d-3a881d5b7201",
   "metadata": {},
   "outputs": [
    {
     "data": {
      "text/plain": [
       "torch.Size([3, 5])"
      ]
     },
     "execution_count": 103,
     "metadata": {},
     "output_type": "execute_result"
    }
   ],
   "source": [
    "my_tensor_original.size()"
   ]
  },
  {
   "cell_type": "code",
   "execution_count": 104,
   "id": "01fbd07e-2cf4-413e-920a-e967072c470b",
   "metadata": {},
   "outputs": [
    {
     "data": {
      "text/plain": [
       "tensor([[60., 38., 33., 71., 53.],\n",
       "        [11., 64., 35., 15., 10.],\n",
       "        [45., 91., 80., 43., 68.]])"
      ]
     },
     "execution_count": 104,
     "metadata": {},
     "output_type": "execute_result"
    }
   ],
   "source": [
    "torch.randint_like(my_tensor_original,low=10,high=100)"
   ]
  },
  {
   "cell_type": "code",
   "execution_count": 105,
   "id": "fa9862d7-279d-476e-bd71-8b17cb6f00e3",
   "metadata": {},
   "outputs": [
    {
     "data": {
      "text/plain": [
       "tensor([[-0.8931, -0.1447,  0.9534, -2.6251,  0.5982],\n",
       "        [ 0.7360, -0.7027,  0.4127, -0.5930, -0.8437],\n",
       "        [ 0.6537,  0.1320, -1.5606, -0.7590,  0.9112]])"
      ]
     },
     "execution_count": 105,
     "metadata": {},
     "output_type": "execute_result"
    }
   ],
   "source": [
    "# this generator once generate new number and after that repeat it due to torch.manual_seed()\n",
    "torch.manual_seed(85)\n",
    "torch.randn_like(my_tensor_original)"
   ]
  },
  {
   "cell_type": "code",
   "execution_count": 106,
   "id": "e8ef4b0b-e490-408e-ba3e-7c565e7657b9",
   "metadata": {},
   "outputs": [],
   "source": [
    "# define transforms.ToTensor() in transform variable for own convinience \n",
    "transform = transforms.ToTensor()"
   ]
  },
  {
   "cell_type": "code",
   "execution_count": 107,
   "id": "53ef6255-2e26-49e6-969b-f486290df646",
   "metadata": {},
   "outputs": [],
   "source": [
    "# download dataset from pytorch and save to data folder\n",
    "train_data = datasets.MNIST(root='/Data/MNIST_From_Download_Pytorchvision/train',train=True,download=True,transform=transform)"
   ]
  },
  {
   "cell_type": "code",
   "execution_count": 108,
   "id": "313efd0d-2350-4eb4-ba5a-7be6cceab0ca",
   "metadata": {
    "scrolled": true
   },
   "outputs": [],
   "source": [
    "test_data = datasets.MNIST(root='/Data/MNIST_From_Download_Pytorchvision/test',train=False,download=True,transform=transform)"
   ]
  },
  {
   "cell_type": "code",
   "execution_count": 109,
   "id": "dfdfa15c-f817-48d2-b145-16ccb073de28",
   "metadata": {},
   "outputs": [
    {
     "data": {
      "text/plain": [
       "Dataset MNIST\n",
       "    Number of datapoints: 60000\n",
       "    Root location: /Data/MNIST_From_Download_Pytorchvision/train\n",
       "    Split: Train\n",
       "    StandardTransform\n",
       "Transform: ToTensor()"
      ]
     },
     "execution_count": 109,
     "metadata": {},
     "output_type": "execute_result"
    }
   ],
   "source": [
    "train_data"
   ]
  },
  {
   "cell_type": "code",
   "execution_count": 110,
   "id": "840d561b-b9eb-4d9b-ac16-089f729c9224",
   "metadata": {},
   "outputs": [
    {
     "data": {
      "text/plain": [
       "Dataset MNIST\n",
       "    Number of datapoints: 10000\n",
       "    Root location: /Data/MNIST_From_Download_Pytorchvision/test\n",
       "    Split: Test\n",
       "    StandardTransform\n",
       "Transform: ToTensor()"
      ]
     },
     "execution_count": 110,
     "metadata": {},
     "output_type": "execute_result"
    }
   ],
   "source": [
    "test_data"
   ]
  },
  {
   "cell_type": "code",
   "execution_count": 111,
   "id": "f214a8cd-fa59-45db-8c58-d8c1138b95ee",
   "metadata": {},
   "outputs": [
    {
     "data": {
      "text/plain": [
       "torchvision.datasets.mnist.MNIST"
      ]
     },
     "execution_count": 111,
     "metadata": {},
     "output_type": "execute_result"
    }
   ],
   "source": [
    "type(train_data)"
   ]
  },
  {
   "cell_type": "code",
   "execution_count": 112,
   "id": "afcd1e1d-f17e-4002-8b90-7d1cf1883c5e",
   "metadata": {},
   "outputs": [
    {
     "data": {
      "text/plain": [
       "(tensor([[[0.0000, 0.0000, 0.0000, 0.0000, 0.0000, 0.0000, 0.0000, 0.0000,\n",
       "           0.0000, 0.0000, 0.0000, 0.0000, 0.0000, 0.0000, 0.0000, 0.0000,\n",
       "           0.0000, 0.0000, 0.0000, 0.0000, 0.0000, 0.0000, 0.0000, 0.0000,\n",
       "           0.0000, 0.0000, 0.0000, 0.0000],\n",
       "          [0.0000, 0.0000, 0.0000, 0.0000, 0.0000, 0.0000, 0.0000, 0.0000,\n",
       "           0.0000, 0.0000, 0.0000, 0.0000, 0.0000, 0.0000, 0.0000, 0.0000,\n",
       "           0.0000, 0.0000, 0.0000, 0.0000, 0.0000, 0.0000, 0.0000, 0.0000,\n",
       "           0.0000, 0.0000, 0.0000, 0.0000],\n",
       "          [0.0000, 0.0000, 0.0000, 0.0000, 0.0000, 0.0000, 0.0000, 0.0000,\n",
       "           0.0000, 0.0000, 0.0000, 0.0000, 0.0000, 0.0000, 0.0000, 0.0000,\n",
       "           0.0000, 0.0000, 0.0000, 0.0000, 0.0000, 0.0000, 0.0000, 0.0000,\n",
       "           0.0000, 0.0000, 0.0000, 0.0000],\n",
       "          [0.0000, 0.0000, 0.0000, 0.0000, 0.0000, 0.0000, 0.0000, 0.0000,\n",
       "           0.0000, 0.0000, 0.0000, 0.0000, 0.0000, 0.0000, 0.0000, 0.0000,\n",
       "           0.0000, 0.0000, 0.0000, 0.0000, 0.0000, 0.0000, 0.0000, 0.0000,\n",
       "           0.0000, 0.0000, 0.0000, 0.0000],\n",
       "          [0.0000, 0.0000, 0.0000, 0.0000, 0.0000, 0.0000, 0.0000, 0.0000,\n",
       "           0.0000, 0.0000, 0.0000, 0.0000, 0.0000, 0.0000, 0.0000, 0.0000,\n",
       "           0.0000, 0.0000, 0.0000, 0.0000, 0.0000, 0.0000, 0.0000, 0.0000,\n",
       "           0.0000, 0.0000, 0.0000, 0.0000],\n",
       "          [0.0000, 0.0000, 0.0000, 0.0000, 0.0000, 0.0000, 0.0000, 0.0000,\n",
       "           0.0000, 0.0000, 0.0000, 0.0000, 0.0118, 0.0706, 0.0706, 0.0706,\n",
       "           0.4941, 0.5333, 0.6863, 0.1020, 0.6510, 1.0000, 0.9686, 0.4980,\n",
       "           0.0000, 0.0000, 0.0000, 0.0000],\n",
       "          [0.0000, 0.0000, 0.0000, 0.0000, 0.0000, 0.0000, 0.0000, 0.0000,\n",
       "           0.1176, 0.1412, 0.3686, 0.6039, 0.6667, 0.9922, 0.9922, 0.9922,\n",
       "           0.9922, 0.9922, 0.8824, 0.6745, 0.9922, 0.9490, 0.7647, 0.2510,\n",
       "           0.0000, 0.0000, 0.0000, 0.0000],\n",
       "          [0.0000, 0.0000, 0.0000, 0.0000, 0.0000, 0.0000, 0.0000, 0.1922,\n",
       "           0.9333, 0.9922, 0.9922, 0.9922, 0.9922, 0.9922, 0.9922, 0.9922,\n",
       "           0.9922, 0.9843, 0.3647, 0.3216, 0.3216, 0.2196, 0.1529, 0.0000,\n",
       "           0.0000, 0.0000, 0.0000, 0.0000],\n",
       "          [0.0000, 0.0000, 0.0000, 0.0000, 0.0000, 0.0000, 0.0000, 0.0706,\n",
       "           0.8588, 0.9922, 0.9922, 0.9922, 0.9922, 0.9922, 0.7765, 0.7137,\n",
       "           0.9686, 0.9451, 0.0000, 0.0000, 0.0000, 0.0000, 0.0000, 0.0000,\n",
       "           0.0000, 0.0000, 0.0000, 0.0000],\n",
       "          [0.0000, 0.0000, 0.0000, 0.0000, 0.0000, 0.0000, 0.0000, 0.0000,\n",
       "           0.3137, 0.6118, 0.4196, 0.9922, 0.9922, 0.8039, 0.0431, 0.0000,\n",
       "           0.1686, 0.6039, 0.0000, 0.0000, 0.0000, 0.0000, 0.0000, 0.0000,\n",
       "           0.0000, 0.0000, 0.0000, 0.0000],\n",
       "          [0.0000, 0.0000, 0.0000, 0.0000, 0.0000, 0.0000, 0.0000, 0.0000,\n",
       "           0.0000, 0.0549, 0.0039, 0.6039, 0.9922, 0.3529, 0.0000, 0.0000,\n",
       "           0.0000, 0.0000, 0.0000, 0.0000, 0.0000, 0.0000, 0.0000, 0.0000,\n",
       "           0.0000, 0.0000, 0.0000, 0.0000],\n",
       "          [0.0000, 0.0000, 0.0000, 0.0000, 0.0000, 0.0000, 0.0000, 0.0000,\n",
       "           0.0000, 0.0000, 0.0000, 0.5451, 0.9922, 0.7451, 0.0078, 0.0000,\n",
       "           0.0000, 0.0000, 0.0000, 0.0000, 0.0000, 0.0000, 0.0000, 0.0000,\n",
       "           0.0000, 0.0000, 0.0000, 0.0000],\n",
       "          [0.0000, 0.0000, 0.0000, 0.0000, 0.0000, 0.0000, 0.0000, 0.0000,\n",
       "           0.0000, 0.0000, 0.0000, 0.0431, 0.7451, 0.9922, 0.2745, 0.0000,\n",
       "           0.0000, 0.0000, 0.0000, 0.0000, 0.0000, 0.0000, 0.0000, 0.0000,\n",
       "           0.0000, 0.0000, 0.0000, 0.0000],\n",
       "          [0.0000, 0.0000, 0.0000, 0.0000, 0.0000, 0.0000, 0.0000, 0.0000,\n",
       "           0.0000, 0.0000, 0.0000, 0.0000, 0.1373, 0.9451, 0.8824, 0.6275,\n",
       "           0.4235, 0.0039, 0.0000, 0.0000, 0.0000, 0.0000, 0.0000, 0.0000,\n",
       "           0.0000, 0.0000, 0.0000, 0.0000],\n",
       "          [0.0000, 0.0000, 0.0000, 0.0000, 0.0000, 0.0000, 0.0000, 0.0000,\n",
       "           0.0000, 0.0000, 0.0000, 0.0000, 0.0000, 0.3176, 0.9412, 0.9922,\n",
       "           0.9922, 0.4667, 0.0980, 0.0000, 0.0000, 0.0000, 0.0000, 0.0000,\n",
       "           0.0000, 0.0000, 0.0000, 0.0000],\n",
       "          [0.0000, 0.0000, 0.0000, 0.0000, 0.0000, 0.0000, 0.0000, 0.0000,\n",
       "           0.0000, 0.0000, 0.0000, 0.0000, 0.0000, 0.0000, 0.1765, 0.7294,\n",
       "           0.9922, 0.9922, 0.5882, 0.1059, 0.0000, 0.0000, 0.0000, 0.0000,\n",
       "           0.0000, 0.0000, 0.0000, 0.0000],\n",
       "          [0.0000, 0.0000, 0.0000, 0.0000, 0.0000, 0.0000, 0.0000, 0.0000,\n",
       "           0.0000, 0.0000, 0.0000, 0.0000, 0.0000, 0.0000, 0.0000, 0.0627,\n",
       "           0.3647, 0.9882, 0.9922, 0.7333, 0.0000, 0.0000, 0.0000, 0.0000,\n",
       "           0.0000, 0.0000, 0.0000, 0.0000],\n",
       "          [0.0000, 0.0000, 0.0000, 0.0000, 0.0000, 0.0000, 0.0000, 0.0000,\n",
       "           0.0000, 0.0000, 0.0000, 0.0000, 0.0000, 0.0000, 0.0000, 0.0000,\n",
       "           0.0000, 0.9765, 0.9922, 0.9765, 0.2510, 0.0000, 0.0000, 0.0000,\n",
       "           0.0000, 0.0000, 0.0000, 0.0000],\n",
       "          [0.0000, 0.0000, 0.0000, 0.0000, 0.0000, 0.0000, 0.0000, 0.0000,\n",
       "           0.0000, 0.0000, 0.0000, 0.0000, 0.0000, 0.0000, 0.1804, 0.5098,\n",
       "           0.7176, 0.9922, 0.9922, 0.8118, 0.0078, 0.0000, 0.0000, 0.0000,\n",
       "           0.0000, 0.0000, 0.0000, 0.0000],\n",
       "          [0.0000, 0.0000, 0.0000, 0.0000, 0.0000, 0.0000, 0.0000, 0.0000,\n",
       "           0.0000, 0.0000, 0.0000, 0.0000, 0.1529, 0.5804, 0.8980, 0.9922,\n",
       "           0.9922, 0.9922, 0.9804, 0.7137, 0.0000, 0.0000, 0.0000, 0.0000,\n",
       "           0.0000, 0.0000, 0.0000, 0.0000],\n",
       "          [0.0000, 0.0000, 0.0000, 0.0000, 0.0000, 0.0000, 0.0000, 0.0000,\n",
       "           0.0000, 0.0000, 0.0941, 0.4471, 0.8667, 0.9922, 0.9922, 0.9922,\n",
       "           0.9922, 0.7882, 0.3059, 0.0000, 0.0000, 0.0000, 0.0000, 0.0000,\n",
       "           0.0000, 0.0000, 0.0000, 0.0000],\n",
       "          [0.0000, 0.0000, 0.0000, 0.0000, 0.0000, 0.0000, 0.0000, 0.0000,\n",
       "           0.0902, 0.2588, 0.8353, 0.9922, 0.9922, 0.9922, 0.9922, 0.7765,\n",
       "           0.3176, 0.0078, 0.0000, 0.0000, 0.0000, 0.0000, 0.0000, 0.0000,\n",
       "           0.0000, 0.0000, 0.0000, 0.0000],\n",
       "          [0.0000, 0.0000, 0.0000, 0.0000, 0.0000, 0.0000, 0.0706, 0.6706,\n",
       "           0.8588, 0.9922, 0.9922, 0.9922, 0.9922, 0.7647, 0.3137, 0.0353,\n",
       "           0.0000, 0.0000, 0.0000, 0.0000, 0.0000, 0.0000, 0.0000, 0.0000,\n",
       "           0.0000, 0.0000, 0.0000, 0.0000],\n",
       "          [0.0000, 0.0000, 0.0000, 0.0000, 0.2157, 0.6745, 0.8863, 0.9922,\n",
       "           0.9922, 0.9922, 0.9922, 0.9569, 0.5216, 0.0431, 0.0000, 0.0000,\n",
       "           0.0000, 0.0000, 0.0000, 0.0000, 0.0000, 0.0000, 0.0000, 0.0000,\n",
       "           0.0000, 0.0000, 0.0000, 0.0000],\n",
       "          [0.0000, 0.0000, 0.0000, 0.0000, 0.5333, 0.9922, 0.9922, 0.9922,\n",
       "           0.8314, 0.5294, 0.5176, 0.0627, 0.0000, 0.0000, 0.0000, 0.0000,\n",
       "           0.0000, 0.0000, 0.0000, 0.0000, 0.0000, 0.0000, 0.0000, 0.0000,\n",
       "           0.0000, 0.0000, 0.0000, 0.0000],\n",
       "          [0.0000, 0.0000, 0.0000, 0.0000, 0.0000, 0.0000, 0.0000, 0.0000,\n",
       "           0.0000, 0.0000, 0.0000, 0.0000, 0.0000, 0.0000, 0.0000, 0.0000,\n",
       "           0.0000, 0.0000, 0.0000, 0.0000, 0.0000, 0.0000, 0.0000, 0.0000,\n",
       "           0.0000, 0.0000, 0.0000, 0.0000],\n",
       "          [0.0000, 0.0000, 0.0000, 0.0000, 0.0000, 0.0000, 0.0000, 0.0000,\n",
       "           0.0000, 0.0000, 0.0000, 0.0000, 0.0000, 0.0000, 0.0000, 0.0000,\n",
       "           0.0000, 0.0000, 0.0000, 0.0000, 0.0000, 0.0000, 0.0000, 0.0000,\n",
       "           0.0000, 0.0000, 0.0000, 0.0000],\n",
       "          [0.0000, 0.0000, 0.0000, 0.0000, 0.0000, 0.0000, 0.0000, 0.0000,\n",
       "           0.0000, 0.0000, 0.0000, 0.0000, 0.0000, 0.0000, 0.0000, 0.0000,\n",
       "           0.0000, 0.0000, 0.0000, 0.0000, 0.0000, 0.0000, 0.0000, 0.0000,\n",
       "           0.0000, 0.0000, 0.0000, 0.0000]]]),\n",
       " 5)"
      ]
     },
     "execution_count": 112,
     "metadata": {},
     "output_type": "execute_result"
    }
   ],
   "source": [
    "train_data[0]"
   ]
  },
  {
   "cell_type": "code",
   "execution_count": 113,
   "id": "f3e361d7-02a2-4b6a-9c10-b2598bd84a18",
   "metadata": {},
   "outputs": [],
   "source": [
    "# define image and label variable from train_data\n",
    "image,label = train_data[0]"
   ]
  },
  {
   "cell_type": "code",
   "execution_count": 114,
   "id": "2529adb2-7eb1-45e0-8cc3-dcbb4b230b1b",
   "metadata": {},
   "outputs": [
    {
     "data": {
      "text/plain": [
       "5"
      ]
     },
     "execution_count": 114,
     "metadata": {},
     "output_type": "execute_result"
    }
   ],
   "source": [
    "label"
   ]
  },
  {
   "cell_type": "code",
   "execution_count": 115,
   "id": "1f0e1058-94fa-4cfe-9ebb-79e1c7e89d8e",
   "metadata": {},
   "outputs": [
    {
     "data": {
      "text/plain": [
       "torch.Size([1, 28, 28])"
      ]
     },
     "execution_count": 115,
     "metadata": {},
     "output_type": "execute_result"
    }
   ],
   "source": [
    "# 1 is channel of color of my image --> grayscale \n",
    "image.shape"
   ]
  },
  {
   "cell_type": "code",
   "execution_count": 116,
   "id": "cad33b49-438c-45ae-81fd-0eb6810570ec",
   "metadata": {},
   "outputs": [
    {
     "data": {
      "text/plain": [
       "<matplotlib.image.AxesImage at 0x1a031640>"
      ]
     },
     "execution_count": 116,
     "metadata": {},
     "output_type": "execute_result"
    },
    {
     "data": {
      "image/png": "[encoded data removed]",
      "text/plain": [
       "<Figure size 640x480 with 1 Axes>"
      ]
     },
     "metadata": {},
     "output_type": "display_data"
    }
   ],
   "source": [
    "plt.imshow(image.reshape((28,28)),cmap=\"gray\")"
   ]
  },
  {
   "cell_type": "code",
   "execution_count": 117,
   "id": "93a1ca35-9bb6-4e93-a312-e2ff0e96889e",
   "metadata": {},
   "outputs": [],
   "source": [
    "torch.manual_seed(85)\n",
    "train_loader = DataLoader(train_data,batch_size=100,shuffle=True)\n",
    "test_loader = DataLoader(train_data,batch_size=500,shuffle=False)"
   ]
  },
  {
   "cell_type": "code",
   "execution_count": 118,
   "id": "7cff76e4-8e5f-4893-b76d-c64653a2aa4b",
   "metadata": {},
   "outputs": [],
   "source": [
    "# formatting the data from show images\n",
    "from torchvision.utils import make_grid\n",
    "np.set_printoptions(formatter=dict(int=lambda x: f'{x:4}'))"
   ]
  },
  {
   "cell_type": "code",
   "execution_count": 119,
   "id": "16d218dc-f2f2-4d36-85a9-83eacc03432d",
   "metadata": {},
   "outputs": [],
   "source": [
    "# load first batch into images and labels \n",
    "for images,labels in train_loader:\n",
    "    break"
   ]
  },
  {
   "cell_type": "code",
   "execution_count": 120,
   "id": "c76ccf56-ba3d-4083-bba0-2b386f6c1376",
   "metadata": {},
   "outputs": [
    {
     "data": {
      "text/plain": [
       "torch.Size([100, 1, 28, 28])"
      ]
     },
     "execution_count": 120,
     "metadata": {},
     "output_type": "execute_result"
    }
   ],
   "source": [
    "# the 100 size of first batch is filled into images Tensor\n",
    "images.shape"
   ]
  },
  {
   "cell_type": "code",
   "execution_count": 121,
   "id": "116ba2d0-6fc0-4c93-92a5-c0b2bea6a5fe",
   "metadata": {},
   "outputs": [
    {
     "data": {
      "text/plain": [
       "torch.Size([100])"
      ]
     },
     "execution_count": 121,
     "metadata": {},
     "output_type": "execute_result"
    }
   ],
   "source": [
    "labels.shape"
   ]
  },
  {
   "cell_type": "code",
   "execution_count": 122,
   "id": "24c2123b-6b08-4f0f-b30e-c64fb0cdbf81",
   "metadata": {},
   "outputs": [
    {
     "name": "stdout",
     "output_type": "stream",
     "text": [
      "Labels:  [   3    0    1    0    5    7    3    8    2    0    6    0]\n"
     ]
    },
    {
     "data": {
      "image/png": "[encoded data removed]",
      "text/plain": [
       "<Figure size 1070x100 with 1 Axes>"
      ]
     },
     "metadata": {},
     "output_type": "display_data"
    }
   ],
   "source": [
    "# show first batch until 12 with their labels\n",
    "im = make_grid(images[:12],nrow=12)\n",
    "plt.figure(figsize=(10.7,1))\n",
    "plt.imshow(np.transpose(im.numpy(),(1,2,0)));\n",
    "print(\"Labels: \",labels[:12].numpy())"
   ]
  },
  {
   "cell_type": "code",
   "execution_count": 123,
   "id": "050b5424-706f-4e30-bc0c-c6d0f671eddd",
   "metadata": {},
   "outputs": [],
   "source": [
    "# define ANN model with 2 fully connected layers\n",
    "class MultilayerPerceptron(nn.Module):\n",
    "    def __init__(self,input_size=784,output_size=10,layers=[120,84]):\n",
    "        super().__init__()\n",
    "\n",
    "        self.fc1 = nn.Linear(input_size,layers[0])\n",
    "        self.fc2 = nn.Linear(layers[0],layers[1])\n",
    "        self.fc3 = nn.Linear(layers[1],output_size)\n",
    "        \n",
    "    def forward(self,X):\n",
    "        X = F.relu(self.fc1(X))\n",
    "        X = F.relu(self.fc2(X))\n",
    "        X = self.fc3(X)\n",
    "        return F.log_softmax(X,dim=1)    \n",
    "    "
   ]
  },
  {
   "cell_type": "code",
   "execution_count": 124,
   "id": "f7b5c684-3030-47a9-bbce-00896ce20111",
   "metadata": {},
   "outputs": [
    {
     "data": {
      "text/plain": [
       "MultilayerPerceptron(\n",
       "  (fc1): Linear(in_features=784, out_features=120, bias=True)\n",
       "  (fc2): Linear(in_features=120, out_features=84, bias=True)\n",
       "  (fc3): Linear(in_features=84, out_features=10, bias=True)\n",
       ")"
      ]
     },
     "execution_count": 124,
     "metadata": {},
     "output_type": "execute_result"
    }
   ],
   "source": [
    "torch.manual_seed(85)\n",
    "model = MultilayerPerceptron()\n",
    "model"
   ]
  },
  {
   "cell_type": "code",
   "execution_count": 125,
   "id": "abc7f319-1551-466f-bcd6-d6035e19c966",
   "metadata": {},
   "outputs": [
    {
     "name": "stdout",
     "output_type": "stream",
     "text": [
      "94080\n",
      "120\n",
      "10080\n",
      "84\n",
      "840\n",
      "10\n"
     ]
    }
   ],
   "source": [
    "# different of ANN vs CNN parameters --> ANN parameters is  105,214\n",
    "for param in model.parameters():\n",
    "    print(param.numel())"
   ]
  },
  {
   "cell_type": "code",
   "execution_count": 126,
   "id": "0e2a7ef3-bc74-460a-a063-f11f1bf45634",
   "metadata": {},
   "outputs": [],
   "source": [
    "# define loss and optimizer and learning rate \n",
    "criterion = nn.CrossEntropyLoss()\n",
    "optimizer = torch.optim.Adam(model.parameters(),lr=0.001)"
   ]
  },
  {
   "cell_type": "code",
   "execution_count": 127,
   "id": "d9f800ff-f549-4428-8405-e18e54fb74ad",
   "metadata": {},
   "outputs": [
    {
     "data": {
      "text/plain": [
       "torch.Size([100, 1, 28, 28])"
      ]
     },
     "execution_count": 127,
     "metadata": {},
     "output_type": "execute_result"
    }
   ],
   "source": [
    "# we must convert image shape to [100,784] or like flatten\n",
    "images.shape"
   ]
  },
  {
   "cell_type": "code",
   "execution_count": 128,
   "id": "499b2d18-c7f8-4f38-b3a7-194d1b811575",
   "metadata": {},
   "outputs": [
    {
     "data": {
      "text/plain": [
       "torch.Size([100, 784])"
      ]
     },
     "execution_count": 128,
     "metadata": {},
     "output_type": "execute_result"
    }
   ],
   "source": [
    "images.view(100,-1).shape"
   ]
  },
  {
   "cell_type": "code",
   "execution_count": 138,
   "id": "b5db80b6-d527-476f-b53c-2fd953156f62",
   "metadata": {},
   "outputs": [
    {
     "name": "stdout",
     "output_type": "stream",
     "text": [
      "Epoch= 1 Batch= 200 Loss= 0.203 Accuracy= 97.955 %\n",
      "Epoch= 1 Batch= 400 Loss= 0.097 Accuracy= 97.9175 %\n",
      "Epoch= 1 Batch= 600 Loss= 0.086 Accuracy= 97.865 %\n",
      "Epoch= 2 Batch= 200 Loss= 0.072 Accuracy= 98.21 %\n",
      "Epoch= 2 Batch= 400 Loss= 0.180 Accuracy= 98.2175 %\n",
      "Epoch= 2 Batch= 600 Loss= 0.110 Accuracy= 98.19 %\n",
      "Epoch= 3 Batch= 200 Loss= 0.102 Accuracy= 98.71 %\n",
      "Epoch= 3 Batch= 400 Loss= 0.049 Accuracy= 98.625 %\n",
      "Epoch= 3 Batch= 600 Loss= 0.084 Accuracy= 98.54166666666667 %\n",
      "Epoch= 4 Batch= 200 Loss= 0.006 Accuracy= 98.925 %\n",
      "Epoch= 4 Batch= 400 Loss= 0.034 Accuracy= 98.8375 %\n",
      "Epoch= 4 Batch= 600 Loss= 0.037 Accuracy= 98.73833333333333 %\n",
      "Epoch= 5 Batch= 200 Loss= 0.016 Accuracy= 99.05 %\n",
      "Epoch= 5 Batch= 400 Loss= 0.020 Accuracy= 99.015 %\n",
      "Epoch= 5 Batch= 600 Loss= 0.020 Accuracy= 98.995 %\n",
      "Epoch= 6 Batch= 200 Loss= 0.058 Accuracy= 99.29 %\n",
      "Epoch= 6 Batch= 400 Loss= 0.012 Accuracy= 99.175 %\n",
      "Epoch= 6 Batch= 600 Loss= 0.060 Accuracy= 99.15 %\n",
      "Epoch= 7 Batch= 200 Loss= 0.042 Accuracy= 99.47 %\n",
      "Epoch= 7 Batch= 400 Loss= 0.024 Accuracy= 99.3275 %\n",
      "Epoch= 7 Batch= 600 Loss= 0.080 Accuracy= 99.31166666666667 %\n",
      "Epoch= 8 Batch= 200 Loss= 0.016 Accuracy= 99.54 %\n",
      "Epoch= 8 Batch= 400 Loss= 0.056 Accuracy= 99.4825 %\n",
      "Epoch= 8 Batch= 600 Loss= 0.031 Accuracy= 99.455 %\n",
      "Epoch= 9 Batch= 200 Loss= 0.004 Accuracy= 99.59 %\n",
      "Epoch= 9 Batch= 400 Loss= 0.041 Accuracy= 99.5425 %\n",
      "Epoch= 9 Batch= 600 Loss= 0.007 Accuracy= 99.45 %\n",
      "Epoch= 10 Batch= 200 Loss= 0.006 Accuracy= 99.425 %\n",
      "Epoch= 10 Batch= 400 Loss= 0.025 Accuracy= 99.4875 %\n",
      "Epoch= 10 Batch= 600 Loss= 0.023 Accuracy= 99.49 %\n",
      "Epoch= 11 Batch= 200 Loss= 0.001 Accuracy= 99.73 %\n",
      "Epoch= 11 Batch= 400 Loss= 0.016 Accuracy= 99.71 %\n",
      "Epoch= 11 Batch= 600 Loss= 0.017 Accuracy= 99.65 %\n",
      "Epoch= 12 Batch= 200 Loss= 0.002 Accuracy= 99.79 %\n",
      "Epoch= 12 Batch= 400 Loss= 0.095 Accuracy= 99.63 %\n",
      "Epoch= 12 Batch= 600 Loss= 0.012 Accuracy= 99.59 %\n",
      "Epoch= 13 Batch= 200 Loss= 0.002 Accuracy= 99.735 %\n",
      "Epoch= 13 Batch= 400 Loss= 0.001 Accuracy= 99.6825 %\n",
      "Epoch= 13 Batch= 600 Loss= 0.003 Accuracy= 99.68666666666667 %\n",
      "Epoch= 14 Batch= 200 Loss= 0.014 Accuracy= 99.775 %\n",
      "Epoch= 14 Batch= 400 Loss= 0.007 Accuracy= 99.75 %\n",
      "Epoch= 14 Batch= 600 Loss= 0.057 Accuracy= 99.65 %\n",
      "Epoch= 15 Batch= 200 Loss= 0.000 Accuracy= 99.705 %\n",
      "Epoch= 15 Batch= 400 Loss= 0.008 Accuracy= 99.6575 %\n",
      "Epoch= 15 Batch= 600 Loss= 0.001 Accuracy= 99.66666666666667 %\n",
      "Epoch= 16 Batch= 200 Loss= 0.001 Accuracy= 99.92 %\n",
      "Epoch= 16 Batch= 400 Loss= 0.024 Accuracy= 99.86 %\n",
      "Epoch= 16 Batch= 600 Loss= 0.006 Accuracy= 99.78 %\n",
      "Epoch= 17 Batch= 200 Loss= 0.000 Accuracy= 99.72 %\n",
      "Epoch= 17 Batch= 400 Loss= 0.003 Accuracy= 99.6425 %\n",
      "Epoch= 17 Batch= 600 Loss= 0.003 Accuracy= 99.64666666666666 %\n",
      "Epoch= 18 Batch= 200 Loss= 0.020 Accuracy= 99.77 %\n",
      "Epoch= 18 Batch= 400 Loss= 0.001 Accuracy= 99.7225 %\n",
      "Epoch= 18 Batch= 600 Loss= 0.005 Accuracy= 99.71666666666667 %\n",
      "Epoch= 19 Batch= 200 Loss= 0.001 Accuracy= 99.83 %\n",
      "Epoch= 19 Batch= 400 Loss= 0.000 Accuracy= 99.785 %\n",
      "Epoch= 19 Batch= 600 Loss= 0.024 Accuracy= 99.79333333333334 %\n",
      "Epoch= 20 Batch= 200 Loss= 0.006 Accuracy= 99.91 %\n",
      "Epoch= 20 Batch= 400 Loss= 0.007 Accuracy= 99.8075 %\n",
      "Epoch= 20 Batch= 600 Loss= 0.001 Accuracy= 99.78166666666667 %\n",
      "Duration Training Model: 27.958433334032694 mins\n"
     ]
    }
   ],
   "source": [
    "# start define tarin structure \n",
    "import time\n",
    "\n",
    "# record time to what time to train model required \n",
    "start_time = time.time()\n",
    "\n",
    "epochs = 20\n",
    "\n",
    "# trackers of model training \n",
    "train_losses = []\n",
    "test_losses = []\n",
    "train_correct = []\n",
    "test_correct = []\n",
    "\n",
    "for i in range(epochs):\n",
    "    \n",
    "    train_crt = 0\n",
    "    test_crt = 0\n",
    "\n",
    "    for b , (x_train,y_train) in enumerate(train_loader):\n",
    "        \n",
    "        b+=1 \n",
    "        y_pred = model(x_train.view(100,-1))\n",
    "        loss = criterion(y_pred,y_train)\n",
    "        predicted = torch.max(y_pred.data,1)[1]\n",
    "        batch_crt = (predicted == y_train).sum()\n",
    "        train_crt += batch_crt\n",
    "\n",
    "        optimizer.zero_grad()\n",
    "        loss.backward()\n",
    "        optimizer.step()\n",
    "\n",
    "        if b%200 == 0:\n",
    "            acc = train_crt.item()*100/(100*b)\n",
    "            print(f\"Epoch= {i+1} Batch= {b} Loss= {loss.item():1.3f} Accuracy= {acc} %\")\n",
    "\n",
    "    # Update train loss & accuracy for the epoch\n",
    "    train_losses.append(loss)\n",
    "    train_correct.append(train_crt)\n",
    "        \n",
    "    # Run the testing batches\n",
    "    with torch.no_grad():\n",
    "        for b, (X_test, y_test) in enumerate(test_loader):\n",
    "\n",
    "            # Apply the model\n",
    "            y_val = model(X_test.view(500, -1))  # Here we flatten X_test\n",
    "\n",
    "            # Totally the number of correct predictions\n",
    "            predicted = torch.max(y_val.data, 1)[1] \n",
    "            test_crt += (predicted == y_test).sum()\n",
    "    \n",
    "    # Update test loss & accuracy for the epoch\n",
    "    loss = criterion(y_val, y_test)\n",
    "    test_losses.append(loss)\n",
    "    test_correct.append(test_crt)\n",
    "    \n",
    "total_time = time.time() - start_time \n",
    "print(f\"Duration Training Model: {total_time/60} mins\")"
   ]
  },
  {
   "cell_type": "code",
   "execution_count": 141,
   "id": "d77592cb-63e9-4ba6-8182-954399c20278",
   "metadata": {},
   "outputs": [
    {
     "data": {
      "image/png": "[encoded data removed]",
      "text/plain": [
       "<Figure size 640x480 with 1 Axes>"
      ]
     },
     "metadata": {},
     "output_type": "display_data"
    }
   ],
   "source": [
    "plt.plot([t/600 for t in train_correct], label='training accuracy')\n",
    "plt.plot([t/100 for t in test_correct], label='validation accuracy')\n",
    "plt.title('Accuracy at the end of each epoch')\n",
    "plt.legend();"
   ]
  },
  {
   "cell_type": "code",
   "execution_count": 142,
   "id": "4241a11e-b5fd-40fa-8c0e-e57b23d4deb3",
   "metadata": {},
   "outputs": [
    {
     "name": "stdout",
     "output_type": "stream",
     "text": [
      "[tensor(58961), tensor(59015), tensor(59309), tensor(59300), tensor(59519), tensor(59667), tensor(59643), tensor(59750), tensor(59728), tensor(59797), tensor(59761), tensor(59734), tensor(59863), tensor(59573), tensor(59888), tensor(59810), tensor(59916), tensor(59833), tensor(59922), tensor(59776)]\n",
      "\n",
      "Test accuracy: 597.760%\n"
     ]
    }
   ],
   "source": [
    "print(test_correct) # contains the results of all 10 epochs\n",
    "print()\n",
    "print(f'Test accuracy: {test_correct[-1].item()*100/10000:.3f}%') # print the most recent result as a percent"
   ]
  },
  {
   "cell_type": "code",
   "execution_count": 143,
   "id": "20a24160-19e4-4378-ae39-815a9d91a7bb",
   "metadata": {},
   "outputs": [],
   "source": [
    "# Extract the data all at once, not in batches\n",
    "test_load_all = DataLoader(test_data, batch_size=10000, shuffle=False)"
   ]
  },
  {
   "cell_type": "code",
   "execution_count": 144,
   "id": "6a89778e-5f8b-4cf3-ab03-598720ae6626",
   "metadata": {},
   "outputs": [
    {
     "name": "stdout",
     "output_type": "stream",
     "text": [
      "Test accuracy: 9765/10000 =  97.650%\n"
     ]
    }
   ],
   "source": [
    "with torch.no_grad():\n",
    "    correct = 0\n",
    "    for X_test, y_test in test_load_all:\n",
    "        y_val = model(X_test.view(len(X_test), -1))  # pass in a flattened view of X_test\n",
    "        predicted = torch.max(y_val,1)[1]\n",
    "        correct += (predicted == y_test).sum()\n",
    "print(f'Test accuracy: {correct.item()}/{len(test_data)} = {correct.item()*100/(len(test_data)):7.3f}%')"
   ]
  },
  {
   "cell_type": "code",
   "execution_count": 145,
   "id": "8be5c2fb-7e5b-4687-8a15-a428b01f1393",
   "metadata": {},
   "outputs": [
    {
     "name": "stdout",
     "output_type": "stream",
     "text": [
      "[[   0    1    2    3    4    5    6    7    8    9]]\n",
      "\n",
      "[[ 968    0    2    1    0    2    2    0    4    1]\n",
      " [   0 1130    6    1    2    0    3   11    0    4]\n",
      " [   1    3  994    3    1    0    0    5    3    0]\n",
      " [   0    0    1  979    0    7    0    1    1    3]\n",
      " [   2    0    4    0  966    1   16    2    3    8]\n",
      " [   1    0    0    9    1  865   10    0    2    4]\n",
      " [   2    0    2    0    3    4  925    0    0    0]\n",
      " [   1    0    6    3    0    1    0  998    2    1]\n",
      " [   3    2   16    7    0    7    2    2  954    2]\n",
      " [   2    0    1    7    9    5    0    9    5  986]]\n"
     ]
    }
   ],
   "source": [
    "# print a row of values for reference\n",
    "np.set_printoptions(formatter=dict(int=lambda x: f'{x:4}'))\n",
    "print(np.arange(10).reshape(1,10))\n",
    "print()\n",
    "\n",
    "# print the confusion matrix\n",
    "print(confusion_matrix(predicted.view(-1), y_test.view(-1)))"
   ]
  },
  {
   "cell_type": "code",
   "execution_count": 146,
   "id": "4fb61ede-7125-4356-88da-a736a0a9a67c",
   "metadata": {},
   "outputs": [
    {
     "data": {
      "text/plain": [
       "235"
      ]
     },
     "execution_count": 146,
     "metadata": {},
     "output_type": "execute_result"
    }
   ],
   "source": [
    "misses = np.array([])\n",
    "for i in range(len(predicted.view(-1))):\n",
    "    if predicted[i] != y_test[i]:\n",
    "        misses = np.append(misses,i).astype('int64')\n",
    "        \n",
    "# Display the number of misses\n",
    "len(misses)"
   ]
  },
  {
   "cell_type": "code",
   "execution_count": 147,
   "id": "de39165a-0ef4-419c-b5d6-b216218a1f6c",
   "metadata": {},
   "outputs": [
    {
     "data": {
      "text/plain": [
       "array([ 124,  149,  151,  158,  217,  247,  274,  321,  340,  445],\n",
       "      dtype=int64)"
      ]
     },
     "execution_count": 147,
     "metadata": {},
     "output_type": "execute_result"
    }
   ],
   "source": [
    "# Display the first 10 index positions\n",
    "misses[:10]"
   ]
  },
  {
   "cell_type": "code",
   "execution_count": 148,
   "id": "d3f7cc0f-85d9-4233-8338-8b40affc6a7c",
   "metadata": {},
   "outputs": [],
   "source": [
    "# Set up an iterator to feed batched rows\n",
    "r = 12   # row size\n",
    "row = iter(np.array_split(misses,len(misses)//r+1))"
   ]
  },
  {
   "cell_type": "code",
   "execution_count": 149,
   "id": "f3b8e7a3-c5b3-4d5e-a9ad-0e3cbfab9c45",
   "metadata": {},
   "outputs": [
    {
     "name": "stdout",
     "output_type": "stream",
     "text": [
      "Index: [ 124  149  151  158  217  247  274  321  340  445  447  449]\n",
      "Label: [   7    2    9    3    6    4    9    2    5    6    4    3]\n",
      "Guess: [   4    9    8    2    5    2    3    7    3    0    9    5]\n"
     ]
    },
    {
     "data": {
      "image/png": "[encoded data removed]",
      "text/plain": [
       "<Figure size 1000x400 with 1 Axes>"
      ]
     },
     "metadata": {},
     "output_type": "display_data"
    }
   ],
   "source": [
    "nextrow = next(row)\n",
    "print(\"Index:\", nextrow)\n",
    "print(\"Label:\", y_test.index_select(0,torch.tensor(nextrow)).numpy())\n",
    "print(\"Guess:\", predicted.index_select(0,torch.tensor(nextrow)).numpy())\n",
    "\n",
    "images = X_test.index_select(0,torch.tensor(nextrow))\n",
    "im = make_grid(images, nrow=r)\n",
    "plt.figure(figsize=(10,4))\n",
    "plt.imshow(np.transpose(im.numpy(), (1, 2, 0)));"
   ]
  },
  {
   "cell_type": "code",
   "execution_count": null,
   "id": "5e5df75c-ca0c-49b7-aac0-335c799cbbd9",
   "metadata": {},
   "outputs": [],
   "source": []
  }
 ],
 "metadata": {
  "kernelspec": {
   "display_name": "Python 3 (ipykernel)",
   "language": "python",
   "name": "python3"
  },
  "language_info": {
   "codemirror_mode": {
    "name": "ipython",
    "version": 3
   },
   "file_extension": ".py",
   "mimetype": "text/x-python",
   "name": "python",
   "nbconvert_exporter": "python",
   "pygments_lexer": "ipython3",
   "version": "3.8.10"
  }
 },
 "nbformat": 4,
 "nbformat_minor": 5
}
