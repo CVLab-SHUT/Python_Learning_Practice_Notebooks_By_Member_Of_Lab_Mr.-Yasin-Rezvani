{
 "cells": [
  {
   "cell_type": "code",
   "execution_count": 9,
   "id": "12ffd64b-2022-4af4-98c8-1ef885cfb370",
   "metadata": {},
   "outputs": [],
   "source": [
    "# add requierment library to define & train model \n",
    "import torch\n",
    "import torch.nn as nn\n",
    "import torch.nn.functional as F\n",
    "from torch.utils.data import DataLoader\n",
    "from torchvision import datasets, transforms\n",
    "from torchvision.utils import make_grid\n",
    "\n",
    "import numpy as np\n",
    "import pandas as pd\n",
    "from sklearn.metrics import confusion_matrix\n",
    "import matplotlib.pyplot as plt"
   ]
  },
  {
   "cell_type": "code",
   "execution_count": 10,
   "id": "69bcc818-49f6-4d5a-85b5-096e39de7df7",
   "metadata": {},
   "outputs": [],
   "source": [
    "# download data train & test MNIST dataset from pytorchvision library \n",
    "transform = transforms.ToTensor()\n",
    "\n",
    "train_data = datasets.MNIST(root='/Data/MNIST_From_Download_Pytorchvision/train', train=True, download=True, transform=transform)\n",
    "test_data = datasets.MNIST(root='/Data/MNIST_From_Download_Pytorchvision/test', train=False, download=True, transform=transform)"
   ]
  },
  {
   "cell_type": "code",
   "execution_count": 12,
   "id": "65553a84-02ae-4961-982c-847bcf2ccc8f",
   "metadata": {},
   "outputs": [
    {
     "data": {
      "text/plain": [
       "Dataset MNIST\n",
       "    Number of datapoints: 60000\n",
       "    Root location: /Data/MNIST_From_Download_Pytorchvision/train\n",
       "    Split: Train\n",
       "    StandardTransform\n",
       "Transform: ToTensor()"
      ]
     },
     "execution_count": 12,
     "metadata": {},
     "output_type": "execute_result"
    }
   ],
   "source": [
    "# check amount of data train dataset\n",
    "train_data"
   ]
  },
  {
   "cell_type": "code",
   "execution_count": 13,
   "id": "9fb190dd-568f-47f9-8e54-c9115f2ce030",
   "metadata": {},
   "outputs": [
    {
     "data": {
      "text/plain": [
       "Dataset MNIST\n",
       "    Number of datapoints: 10000\n",
       "    Root location: /Data/MNIST_From_Download_Pytorchvision/test\n",
       "    Split: Test\n",
       "    StandardTransform\n",
       "Transform: ToTensor()"
      ]
     },
     "execution_count": 13,
     "metadata": {},
     "output_type": "execute_result"
    }
   ],
   "source": [
    "# check amount of data test dataset\n",
    "test_data"
   ]
  },
  {
   "cell_type": "code",
   "execution_count": 8,
   "id": "f1e648cb-a79c-42fa-ae74-5a1bf472ecd2",
   "metadata": {},
   "outputs": [],
   "source": [
    "# define train & test loader to load data to use it into model \n",
    "train_loader = DataLoader(train_data, batch_size=10, shuffle=True)\n",
    "test_loader = DataLoader(test_data, batch_size=10, shuffle=False)"
   ]
  },
  {
   "cell_type": "code",
   "execution_count": null,
   "id": "d5bf3328-2272-4ca1-9805-6664a04f7533",
   "metadata": {},
   "outputs": [],
   "source": []
  }
 ],
 "metadata": {
  "kernelspec": {
   "display_name": "Python 3 (ipykernel)",
   "language": "python",
   "name": "python3"
  },
  "language_info": {
   "codemirror_mode": {
    "name": "ipython",
    "version": 3
   },
   "file_extension": ".py",
   "mimetype": "text/x-python",
   "name": "python",
   "nbconvert_exporter": "python",
   "pygments_lexer": "ipython3",
   "version": "3.8.10"
  }
 },
 "nbformat": 4,
 "nbformat_minor": 5
}
