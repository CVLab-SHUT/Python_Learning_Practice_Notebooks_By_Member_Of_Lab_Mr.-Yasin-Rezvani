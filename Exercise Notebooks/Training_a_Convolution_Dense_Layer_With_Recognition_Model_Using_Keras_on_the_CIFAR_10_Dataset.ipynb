{
  "cells": [
    {
      "cell_type": "code",
      "execution_count": 2,
      "id": "bb3e661f-5c4a-4c95-bc88-564e7850033e",
      "metadata": {
        "id": "bb3e661f-5c4a-4c95-bc88-564e7850033e"
      },
      "outputs": [],
      "source": [
        "from tensorflow import keras\n",
        "import numpy as np\n",
        "from matplotlib import pyplot as plt"
      ]
    },
    {
      "cell_type": "code",
      "execution_count": 3,
      "id": "f00610cd-ab27-4ad4-b42d-cdc3315416e6",
      "metadata": {
        "id": "f00610cd-ab27-4ad4-b42d-cdc3315416e6",
        "outputId": "29527e9a-f3de-4308-b4c1-a89215b54b3c",
        "colab": {
          "base_uri": "https://localhost:8080/"
        }
      },
      "outputs": [
        {
          "output_type": "stream",
          "name": "stdout",
          "text": [
            "Downloading data from https://www.cs.toronto.edu/~kriz/cifar-10-python.tar.gz\n",
            "170498071/170498071 [==============================] - 4s 0us/step\n"
          ]
        }
      ],
      "source": [
        "# load dataset CIFAR-10\n",
        "(x_train, y_train), (x_test, y_test) = keras.datasets.cifar10.load_data()"
      ]
    },
    {
      "cell_type": "code",
      "execution_count": 4,
      "id": "b909cbad-e11f-4c42-8ec1-e8fc2c9d3e39",
      "metadata": {
        "id": "b909cbad-e11f-4c42-8ec1-e8fc2c9d3e39"
      },
      "outputs": [],
      "source": [
        "# Convert class vectors to binary class matrices\n",
        "num_classes = 10\n",
        "y_train = keras.utils.to_categorical(y_train, num_classes)\n",
        "y_test = keras.utils.to_categorical(y_test, num_classes)"
      ]
    },
    {
      "cell_type": "code",
      "execution_count": 5,
      "id": "8177f406-e5b9-417e-a356-27de01f83908",
      "metadata": {
        "id": "8177f406-e5b9-417e-a356-27de01f83908"
      },
      "outputs": [],
      "source": [
        "# preprocessing the dataset to prepairing to compile and train\n",
        "x_train = (x_train).astype(np.float32) / 255\n",
        "x_test = (x_test).astype(np.float32) / 255"
      ]
    },
    {
      "cell_type": "code",
      "execution_count": null,
      "id": "c460a799-f93c-434c-bb4a-6ba8b2b4d374",
      "metadata": {
        "id": "c460a799-f93c-434c-bb4a-6ba8b2b4d374",
        "outputId": "30d98598-498b-4261-a2c1-c899bb6814ae",
        "colab": {
          "base_uri": "https://localhost:8080/"
        }
      },
      "outputs": [
        {
          "output_type": "stream",
          "name": "stdout",
          "text": [
            "Model: \"sequential\"\n",
            "_________________________________________________________________\n",
            " Layer (type)                Output Shape              Param #   \n",
            "=================================================================\n",
            " conv2d (Conv2D)             (None, 30, 30, 128)       3584      \n",
            "                                                                 \n",
            " conv2d_1 (Conv2D)           (None, 28, 28, 128)       147584    \n",
            "                                                                 \n",
            " conv2d_2 (Conv2D)           (None, 26, 26, 128)       147584    \n",
            "                                                                 \n",
            " conv2d_3 (Conv2D)           (None, 24, 24, 128)       147584    \n",
            "                                                                 \n",
            " flatten (Flatten)           (None, 73728)             0         \n",
            "                                                                 \n",
            " dense (Dense)               (None, 10)                737290    \n",
            "                                                                 \n",
            "=================================================================\n",
            "Total params: 1183626 (4.52 MB)\n",
            "Trainable params: 1183626 (4.52 MB)\n",
            "Non-trainable params: 0 (0.00 Byte)\n",
            "_________________________________________________________________\n"
          ]
        }
      ],
      "source": [
        "# define basic model model  and show summary method to check layers\n",
        "model = keras.Sequential()\n",
        "model.add(keras.layers.Input(shape=x_train[0].shape))\n",
        "model.add(keras.layers.Conv2D(filters=128, kernel_size=(3, 3), activation='relu'))\n",
        "model.add(keras.layers.Conv2D(filters=128, kernel_size=(3, 3), activation='relu'))\n",
        "model.add(keras.layers.Conv2D(filters=128, kernel_size=(3, 3), activation='relu'))\n",
        "model.add(keras.layers.Conv2D(filters=128, kernel_size=(3, 3), activation='relu'))\n",
        "model.add(keras.layers.Flatten(input_shape=x_train[0].shape))\n",
        "model.add(keras.layers.Dense(units=num_classes, activation='softmax'))\n",
        "\n",
        "model.summary()"
      ]
    },
    {
      "cell_type": "code",
      "execution_count": null,
      "id": "9a485e2e-a2d2-407b-b9db-627220e387e6",
      "metadata": {
        "id": "9a485e2e-a2d2-407b-b9db-627220e387e6"
      },
      "outputs": [],
      "source": [
        "# compile model to prepairing to next step to start train\n",
        "model.compile(loss='categorical_crossentropy', optimizer='adam', metrics=['accuracy'])"
      ]
    },
    {
      "cell_type": "code",
      "execution_count": null,
      "id": "f061fd9d-845f-4968-b68f-c3afe691a030",
      "metadata": {
        "id": "f061fd9d-845f-4968-b68f-c3afe691a030"
      },
      "outputs": [],
      "source": []
    },
    {
      "cell_type": "code",
      "execution_count": null,
      "id": "a2e8f07b-434e-4378-8fec-b409394cbad6",
      "metadata": {
        "id": "a2e8f07b-434e-4378-8fec-b409394cbad6",
        "outputId": "59d807bb-6335-4722-facc-fe155d396956",
        "colab": {
          "base_uri": "https://localhost:8080/"
        }
      },
      "outputs": [
        {
          "output_type": "stream",
          "name": "stdout",
          "text": [
            "Epoch 1/15\n",
            "500/500 [==============================] - 23s 36ms/step - loss: 1.4829 - accuracy: 0.4688 - val_loss: 1.1899 - val_accuracy: 0.5760\n",
            "Epoch 2/15\n",
            "500/500 [==============================] - 18s 36ms/step - loss: 1.0699 - accuracy: 0.6286 - val_loss: 0.9801 - val_accuracy: 0.6584\n",
            "Epoch 3/15\n",
            "500/500 [==============================] - 18s 36ms/step - loss: 0.8541 - accuracy: 0.7027 - val_loss: 0.8951 - val_accuracy: 0.6929\n",
            "Epoch 4/15\n",
            "500/500 [==============================] - 19s 37ms/step - loss: 0.6987 - accuracy: 0.7603 - val_loss: 0.9448 - val_accuracy: 0.6781\n",
            "Epoch 5/15\n",
            "500/500 [==============================] - 18s 36ms/step - loss: 0.5363 - accuracy: 0.8148 - val_loss: 0.9777 - val_accuracy: 0.6882\n",
            "Epoch 6/15\n",
            "500/500 [==============================] - 18s 36ms/step - loss: 0.3845 - accuracy: 0.8658 - val_loss: 1.1595 - val_accuracy: 0.6705\n",
            "Epoch 7/15\n",
            "500/500 [==============================] - 21s 41ms/step - loss: 0.2480 - accuracy: 0.9132 - val_loss: 1.3333 - val_accuracy: 0.6700\n",
            "Epoch 8/15\n",
            "500/500 [==============================] - 21s 42ms/step - loss: 0.1611 - accuracy: 0.9443 - val_loss: 1.6643 - val_accuracy: 0.6573\n",
            "Epoch 9/15\n",
            "500/500 [==============================] - 18s 37ms/step - loss: 0.1193 - accuracy: 0.9579 - val_loss: 1.7985 - val_accuracy: 0.6592\n",
            "Epoch 10/15\n",
            "500/500 [==============================] - 18s 37ms/step - loss: 0.0915 - accuracy: 0.9685 - val_loss: 2.1342 - val_accuracy: 0.6536\n",
            "Epoch 11/15\n",
            "500/500 [==============================] - 19s 38ms/step - loss: 0.0842 - accuracy: 0.9705 - val_loss: 2.3162 - val_accuracy: 0.6505\n",
            "Epoch 12/15\n",
            "500/500 [==============================] - 19s 37ms/step - loss: 0.0803 - accuracy: 0.9723 - val_loss: 2.3468 - val_accuracy: 0.6478\n",
            "Epoch 13/15\n",
            "500/500 [==============================] - 19s 38ms/step - loss: 0.0644 - accuracy: 0.9782 - val_loss: 2.4535 - val_accuracy: 0.6573\n",
            "Epoch 14/15\n",
            "500/500 [==============================] - 18s 37ms/step - loss: 0.0679 - accuracy: 0.9767 - val_loss: 2.5544 - val_accuracy: 0.6439\n",
            "Epoch 15/15\n",
            "500/500 [==============================] - 18s 36ms/step - loss: 0.0598 - accuracy: 0.9799 - val_loss: 2.8022 - val_accuracy: 0.6454\n"
          ]
        }
      ],
      "source": [
        "# train model\n",
        "history = model.fit(x_train, y_train,\n",
        "                    batch_size=100,\n",
        "                    epochs=15,\n",
        "                    validation_data=(x_test, y_test),\n",
        "                    shuffle=True)"
      ]
    },
    {
      "cell_type": "code",
      "source": [
        "# evaluate models with train and validation  loss & acuuracy rate in any layers\n",
        "train_loss = []\n",
        "valid_loss = []\n",
        "train_acc = []\n",
        "valid_acc = []\n",
        "\n",
        "# append data accuracy and loss rate to lists\n",
        "train_loss.append(history.history['loss'][-1])\n",
        "valid_loss.append(history.history['val_loss'][-1])\n",
        "train_acc.append(history.history['accuracy'][-1])\n",
        "valid_acc.append(history.history['val_accuracy'][-1])\n",
        "\n",
        "# print data from accuracy level in any layer compile\n",
        "print('params = {}, train_acc = {:4f}, val_acc = {:4f}'.format(model.count_params(), train_acc[-1], valid_acc[-1]))\n"
      ],
      "metadata": {
        "colab": {
          "base_uri": "https://localhost:8080/"
        },
        "id": "Gq_xBMUyCgUB",
        "outputId": "7bc5c4b9-470e-4b73-842c-63e115e8499a"
      },
      "id": "Gq_xBMUyCgUB",
      "execution_count": null,
      "outputs": [
        {
          "output_type": "stream",
          "name": "stdout",
          "text": [
            "params = 1183626, train_acc = 0.979880, val_acc = 0.645400\n"
          ]
        }
      ]
    },
    {
      "cell_type": "code",
      "execution_count": null,
      "metadata": {
        "id": "xVabcpYbV3Di",
        "outputId": "c793ff96-2e7b-4bf6-eb5e-e1cd3960d898",
        "colab": {
          "base_uri": "https://localhost:8080/",
          "height": 881
        }
      },
      "outputs": [
        {
          "output_type": "stream",
          "name": "stdout",
          "text": [
            "313/313 [==============================] - 2s 6ms/step\n",
            "\n",
            " \n",
            " $$$$$******** ^_^ Accuracy Base Convulotion Model = 64.54 % ^_^ **********$$$$$\n",
            " \n",
            "\n",
            "[[671  40  57  20  35  10  17  32  76  42]\n",
            " [ 19 837   5   5   2   2   8   9  12 101]\n",
            " [ 66   9 500  62 100  90  83  59  16  15]\n",
            " [ 29  17  93 383  89 215  66  70  17  21]\n",
            " [ 20  10 106  55 535  58  79 120   7  10]\n",
            " [ 19   6  41 157  58 586  29  75   5  24]\n",
            " [  8   9  78  61  49  42 720  15  11   7]\n",
            " [ 16   3  28  44  73  62  12 746   5  11]\n",
            " [ 90  56  22  14  19  15   7  16 720  41]\n",
            " [ 31 123   8  17   8  10   5  24  18 756]]\n",
            "[[0.671 0.04  0.057 0.02  0.035 0.01  0.017 0.032 0.076 0.042]\n",
            " [0.019 0.837 0.005 0.005 0.002 0.002 0.008 0.009 0.012 0.101]\n",
            " [0.066 0.009 0.5   0.062 0.1   0.09  0.083 0.059 0.016 0.015]\n",
            " [0.029 0.017 0.093 0.383 0.089 0.215 0.066 0.07  0.017 0.021]\n",
            " [0.02  0.01  0.106 0.055 0.535 0.058 0.079 0.12  0.007 0.01 ]\n",
            " [0.019 0.006 0.041 0.157 0.058 0.586 0.029 0.075 0.005 0.024]\n",
            " [0.008 0.009 0.078 0.061 0.049 0.042 0.72  0.015 0.011 0.007]\n",
            " [0.016 0.003 0.028 0.044 0.073 0.062 0.012 0.746 0.005 0.011]\n",
            " [0.09  0.056 0.022 0.014 0.019 0.015 0.007 0.016 0.72  0.041]\n",
            " [0.031 0.123 0.008 0.017 0.008 0.01  0.005 0.024 0.018 0.756]]\n"
          ]
        },
        {
          "output_type": "display_data",
          "data": {
            "text/plain": [
              "<Figure size 640x480 with 1 Axes>"
            ],
            "image/png": "[encoded data removed]"
          },
          "metadata": {}
        }
      ],
      "source": [
        "#plot confusion matrix for base model\n",
        "import sklearn.metrics\n",
        "\n",
        "y_pred = model.predict(x_test)\n",
        "y_pred = np.argmax(y_pred, axis=1)\n",
        "y_true = np.argmax(y_test, axis=1)\n",
        "\n",
        "print('\\n \\n $$$$$******** ^_^ Accuracy Base Convulotion Model = {} % ^_^ **********$$$$$\\n \\n'.format(100 * np.sum(y_pred == y_true) / len(y_true)))\n",
        "\n",
        "conf = sklearn.metrics.confusion_matrix(y_true, y_pred, normalize=None)\n",
        "\n",
        "plt.imshow(conf)\n",
        "print(conf)\n",
        "\n",
        "conf_norm = sklearn.metrics.confusion_matrix(y_true, y_pred, normalize='true')\n",
        "print(conf_norm)\n"
      ],
      "id": "xVabcpYbV3Di"
    },
    {
      "cell_type": "code",
      "execution_count": null,
      "metadata": {
        "id": "eRE0eEcN03pj",
        "outputId": "10bd74b0-b65a-433a-a790-18448f4a94e6",
        "colab": {
          "base_uri": "https://localhost:8080/"
        }
      },
      "outputs": [
        {
          "output_type": "stream",
          "name": "stdout",
          "text": [
            "Model: \"sequential_1\"\n",
            "_________________________________________________________________\n",
            " Layer (type)                Output Shape              Param #   \n",
            "=================================================================\n",
            " conv2d_4 (Conv2D)           (None, 30, 30, 128)       3584      \n",
            "                                                                 \n",
            " conv2d_5 (Conv2D)           (None, 28, 28, 128)       147584    \n",
            "                                                                 \n",
            " conv2d_6 (Conv2D)           (None, 26, 26, 128)       147584    \n",
            "                                                                 \n",
            " conv2d_7 (Conv2D)           (None, 12, 12, 128)       147584    \n",
            "                                                                 \n",
            " flatten_1 (Flatten)         (None, 18432)             0         \n",
            "                                                                 \n",
            " dense_1 (Dense)             (None, 10)                184330    \n",
            "                                                                 \n",
            "=================================================================\n",
            "Total params: 630666 (2.41 MB)\n",
            "Trainable params: 630666 (2.41 MB)\n",
            "Non-trainable params: 0 (0.00 Byte)\n",
            "_________________________________________________________________\n"
          ]
        }
      ],
      "source": [
        "# define model with stride\n",
        "model = keras.Sequential()\n",
        "model.add(keras.layers.Input(shape=x_train[0].shape))\n",
        "model.add(keras.layers.Conv2D(filters=128, kernel_size=(3, 3), activation='relu'))\n",
        "model.add(keras.layers.Conv2D(filters=128, kernel_size=(3, 3), activation='relu'))\n",
        "model.add(keras.layers.Conv2D(filters=128, kernel_size=(3, 3), activation='relu'))\n",
        "model.add(keras.layers.Conv2D(filters=128, kernel_size=(3, 3), strides=(2, 2), activation='relu'))\n",
        "model.add(keras.layers.Flatten(input_shape=x_train[0].shape))\n",
        "model.add(keras.layers.Dense(units=num_classes, activation='softmax'))\n",
        "\n",
        "model.summary()"
      ],
      "id": "eRE0eEcN03pj"
    },
    {
      "cell_type": "code",
      "execution_count": null,
      "metadata": {
        "id": "NGxfsrrK1XZg",
        "outputId": "38c481c8-a654-4a1b-87f9-e204c985a5ce",
        "colab": {
          "base_uri": "https://localhost:8080/"
        }
      },
      "outputs": [
        {
          "output_type": "stream",
          "name": "stdout",
          "text": [
            "Epoch 1/15\n",
            "500/500 [==============================] - 19s 34ms/step - loss: 1.4858 - accuracy: 0.4656 - val_loss: 1.1914 - val_accuracy: 0.5761\n",
            "Epoch 2/15\n",
            "500/500 [==============================] - 17s 33ms/step - loss: 1.1047 - accuracy: 0.6148 - val_loss: 1.0002 - val_accuracy: 0.6494\n",
            "Epoch 3/15\n",
            "500/500 [==============================] - 18s 36ms/step - loss: 0.9063 - accuracy: 0.6838 - val_loss: 0.9111 - val_accuracy: 0.6851\n",
            "Epoch 4/15\n",
            "500/500 [==============================] - 16s 33ms/step - loss: 0.7739 - accuracy: 0.7333 - val_loss: 0.9066 - val_accuracy: 0.6877\n",
            "Epoch 5/15\n",
            "500/500 [==============================] - 16s 32ms/step - loss: 0.6700 - accuracy: 0.7690 - val_loss: 0.8766 - val_accuracy: 0.7074\n",
            "Epoch 6/15\n",
            "500/500 [==============================] - 19s 37ms/step - loss: 0.5764 - accuracy: 0.8009 - val_loss: 0.9025 - val_accuracy: 0.7094\n",
            "Epoch 7/15\n",
            "500/500 [==============================] - 17s 34ms/step - loss: 0.4862 - accuracy: 0.8311 - val_loss: 0.9144 - val_accuracy: 0.7052\n",
            "Epoch 8/15\n",
            "500/500 [==============================] - 16s 33ms/step - loss: 0.4006 - accuracy: 0.8603 - val_loss: 0.9901 - val_accuracy: 0.7052\n",
            "Epoch 9/15\n",
            "500/500 [==============================] - 16s 33ms/step - loss: 0.3175 - accuracy: 0.8881 - val_loss: 1.1075 - val_accuracy: 0.7053\n",
            "Epoch 10/15\n",
            "500/500 [==============================] - 18s 35ms/step - loss: 0.2506 - accuracy: 0.9111 - val_loss: 1.3301 - val_accuracy: 0.6875\n",
            "Epoch 11/15\n",
            "500/500 [==============================] - 17s 35ms/step - loss: 0.2050 - accuracy: 0.9274 - val_loss: 1.4357 - val_accuracy: 0.6871\n",
            "Epoch 12/15\n",
            "500/500 [==============================] - 17s 35ms/step - loss: 0.1677 - accuracy: 0.9404 - val_loss: 1.6135 - val_accuracy: 0.6766\n",
            "Epoch 13/15\n",
            "500/500 [==============================] - 17s 34ms/step - loss: 0.1496 - accuracy: 0.9472 - val_loss: 1.5898 - val_accuracy: 0.6818\n",
            "Epoch 14/15\n",
            "500/500 [==============================] - 17s 34ms/step - loss: 0.1225 - accuracy: 0.9564 - val_loss: 1.8164 - val_accuracy: 0.6863\n",
            "Epoch 15/15\n",
            "500/500 [==============================] - 16s 33ms/step - loss: 0.1193 - accuracy: 0.9583 - val_loss: 1.9083 - val_accuracy: 0.6804\n"
          ]
        }
      ],
      "source": [
        "# compile model with stride to improve the accuracy model\n",
        "model.compile(loss='categorical_crossentropy', optimizer='adam', metrics=['accuracy'])\n",
        "\n",
        "# train model\n",
        "history = model.fit(x_train, y_train,\n",
        "                    batch_size=100,\n",
        "                    epochs=15,\n",
        "                    validation_data=(x_test, y_test),\n",
        "                    shuffle=True)"
      ],
      "id": "NGxfsrrK1XZg"
    },
    {
      "cell_type": "code",
      "source": [
        "# evaluate models with train and validation  loss & acuuracy rate in any layers\n",
        "train_loss = []\n",
        "valid_loss = []\n",
        "train_acc = []\n",
        "valid_acc = []\n",
        "\n",
        "# append data accuracy and loss rate to lists\n",
        "train_loss.append(history.history['loss'][-1])\n",
        "valid_loss.append(history.history['val_loss'][-1])\n",
        "train_acc.append(history.history['accuracy'][-1])\n",
        "valid_acc.append(history.history['val_accuracy'][-1])\n",
        "\n",
        "# print data from accuracy level in any layer compile\n",
        "print('params = {}, train_acc = {:4f}, val_acc = {:4f}'.format(model.count_params(), train_acc[-1], valid_acc[-1]))\n"
      ],
      "metadata": {
        "outputId": "b5a21414-eecf-43f1-bf3a-9433a7efa22b",
        "colab": {
          "base_uri": "https://localhost:8080/"
        },
        "id": "IagUpk3IEx4G"
      },
      "execution_count": null,
      "outputs": [
        {
          "output_type": "stream",
          "name": "stdout",
          "text": [
            "params = 630666, train_acc = 0.958260, val_acc = 0.680400\n"
          ]
        }
      ],
      "id": "IagUpk3IEx4G"
    },
    {
      "cell_type": "code",
      "source": [
        "#plot confusion matrix for base model with stride\n",
        "import sklearn.metrics\n",
        "\n",
        "y_pred = model.predict(x_test)\n",
        "y_pred = np.argmax(y_pred, axis=1)\n",
        "y_true = np.argmax(y_test, axis=1)\n",
        "\n",
        "print('\\n \\n $$$$$******** ^_^ Accuracy Base Convulotion Model with use Stride = {} % ^_^ **********$$$$$\\n \\n'.format(100 * np.sum(y_pred == y_true) / len(y_true)))\n",
        "print(\"**********  We have better result of accuracy with use stride :) = 64.54 %   to-->  {} % **********\\n \\n \".format(100 * np.sum(y_pred == y_true) / len(y_true)))\n",
        "\n",
        "conf = sklearn.metrics.confusion_matrix(y_true, y_pred, normalize=None)\n",
        "\n",
        "plt.imshow(conf)\n",
        "print(conf)\n",
        "\n",
        "conf_norm = sklearn.metrics.confusion_matrix(y_true, y_pred, normalize='true')\n",
        "print(conf_norm)"
      ],
      "metadata": {
        "colab": {
          "base_uri": "https://localhost:8080/",
          "height": 933
        },
        "id": "FEvgkgb1E7ag",
        "outputId": "50c9d8d4-2f99-4e8b-d234-3747579b04ef"
      },
      "id": "FEvgkgb1E7ag",
      "execution_count": null,
      "outputs": [
        {
          "output_type": "stream",
          "name": "stdout",
          "text": [
            "313/313 [==============================] - 1s 4ms/step\n",
            "\n",
            " \n",
            " $$$$$******** ^_^ Accuracy Base Convulotion Model with use Stride = 68.86 % ^_^ **********$$$$$\n",
            " \n",
            "\n",
            "**********  We have better result of accuracy with use stride :) = 64.54 %   to-->  68.04 % **********\n",
            " \n",
            " \n",
            "[[737  26  79  29  10   9  12  17  43  38]\n",
            " [ 28 829   8  15   1   6   3   5  19  86]\n",
            " [ 67   3 618 100  59  56  39  41   6  11]\n",
            " [ 26  16  89 574  46 131  57  43   8  10]\n",
            " [ 22   6 140 101 519  55  36 106   8   7]\n",
            " [ 15   4  72 210  24 578  20  65   4   8]\n",
            " [  9   5  81  98  27  33 730   8   3   6]\n",
            " [ 17   6  46  63  47  54   3 753   2   9]\n",
            " [ 83  46  24  22   7  12   6  12 755  33]\n",
            " [ 41  97  13  23   2   5   2  10  14 793]]\n",
            "[[0.737 0.026 0.079 0.029 0.01  0.009 0.012 0.017 0.043 0.038]\n",
            " [0.028 0.829 0.008 0.015 0.001 0.006 0.003 0.005 0.019 0.086]\n",
            " [0.067 0.003 0.618 0.1   0.059 0.056 0.039 0.041 0.006 0.011]\n",
            " [0.026 0.016 0.089 0.574 0.046 0.131 0.057 0.043 0.008 0.01 ]\n",
            " [0.022 0.006 0.14  0.101 0.519 0.055 0.036 0.106 0.008 0.007]\n",
            " [0.015 0.004 0.072 0.21  0.024 0.578 0.02  0.065 0.004 0.008]\n",
            " [0.009 0.005 0.081 0.098 0.027 0.033 0.73  0.008 0.003 0.006]\n",
            " [0.017 0.006 0.046 0.063 0.047 0.054 0.003 0.753 0.002 0.009]\n",
            " [0.083 0.046 0.024 0.022 0.007 0.012 0.006 0.012 0.755 0.033]\n",
            " [0.041 0.097 0.013 0.023 0.002 0.005 0.002 0.01  0.014 0.793]]\n"
          ]
        },
        {
          "output_type": "display_data",
          "data": {
            "text/plain": [
              "<Figure size 640x480 with 1 Axes>"
            ],
            "image/png": "[encoded data removed]"
          },
          "metadata": {}
        }
      ]
    },
    {
      "cell_type": "code",
      "execution_count": 42,
      "metadata": {
        "id": "ypkDHjuIpXfW",
        "outputId": "5679b5f3-09a7-4999-b302-6a51a89741ec",
        "colab": {
          "base_uri": "https://localhost:8080/"
        }
      },
      "outputs": [
        {
          "output_type": "stream",
          "name": "stdout",
          "text": [
            "Model: \"sequential_23\"\n",
            "_________________________________________________________________\n",
            " Layer (type)                Output Shape              Param #   \n",
            "=================================================================\n",
            " conv2d_92 (Conv2D)          (None, 30, 30, 128)       3584      \n",
            "                                                                 \n",
            " conv2d_93 (Conv2D)          (None, 28, 28, 128)       147584    \n",
            "                                                                 \n",
            " conv2d_94 (Conv2D)          (None, 26, 26, 128)       147584    \n",
            "                                                                 \n",
            " conv2d_95 (Conv2D)          (None, 24, 24, 128)       147584    \n",
            "                                                                 \n",
            " max_pooling2d_23 (MaxPooli  (None, 4, 4, 128)         0         \n",
            " ng2D)                                                           \n",
            "                                                                 \n",
            " flatten_22 (Flatten)        (None, 2048)              0         \n",
            "                                                                 \n",
            " dense_22 (Dense)            (None, 10)                20490     \n",
            "                                                                 \n",
            "=================================================================\n",
            "Total params: 466826 (1.78 MB)\n",
            "Trainable params: 466826 (1.78 MB)\n",
            "Non-trainable params: 0 (0.00 Byte)\n",
            "_________________________________________________________________\n"
          ]
        }
      ],
      "source": [
        "# define base model with pooling\n",
        "model = keras.Sequential()\n",
        "model.add(keras.layers.Input(shape=x_train[0].shape))\n",
        "model.add(keras.layers.Conv2D(filters=128, kernel_size=(3, 3), activation='relu'))\n",
        "model.add(keras.layers.Conv2D(filters=128, kernel_size=(3, 3), activation='relu'))\n",
        "model.add(keras.layers.Conv2D(filters=128, kernel_size=(3, 3), activation='relu'))\n",
        "model.add(keras.layers.Conv2D(filters=128, kernel_size=(3, 3), activation='relu'))\n",
        "model.add(keras.layers.MaxPool2D(pool_size=12,strides=4))\n",
        "model.add(keras.layers.Flatten(input_shape=x_train[0].shape))\n",
        "model.add(keras.layers.Dense(units=num_classes, activation='softmax'))\n",
        "\n",
        "model.summary()"
      ],
      "id": "ypkDHjuIpXfW"
    },
    {
      "cell_type": "code",
      "execution_count": 43,
      "metadata": {
        "id": "UrXmXaHu2ULo",
        "outputId": "5fa07ce9-c8c0-4b22-fb47-343f327d7ebb",
        "colab": {
          "base_uri": "https://localhost:8080/"
        }
      },
      "outputs": [
        {
          "output_type": "stream",
          "name": "stdout",
          "text": [
            "Epoch 1/15\n",
            "500/500 [==============================] - 20s 38ms/step - loss: 1.5855 - accuracy: 0.4221 - val_loss: 1.2609 - val_accuracy: 0.5436\n",
            "Epoch 2/15\n",
            "500/500 [==============================] - 19s 38ms/step - loss: 1.1059 - accuracy: 0.6120 - val_loss: 1.0225 - val_accuracy: 0.6498\n",
            "Epoch 3/15\n",
            "500/500 [==============================] - 18s 37ms/step - loss: 0.9326 - accuracy: 0.6748 - val_loss: 0.9212 - val_accuracy: 0.6837\n",
            "Epoch 4/15\n",
            "500/500 [==============================] - 18s 36ms/step - loss: 0.8422 - accuracy: 0.7083 - val_loss: 0.8675 - val_accuracy: 0.7012\n",
            "Epoch 5/15\n",
            "500/500 [==============================] - 18s 36ms/step - loss: 0.7708 - accuracy: 0.7341 - val_loss: 0.8424 - val_accuracy: 0.7120\n",
            "Epoch 6/15\n",
            "500/500 [==============================] - 19s 37ms/step - loss: 0.7163 - accuracy: 0.7542 - val_loss: 0.8325 - val_accuracy: 0.7196\n",
            "Epoch 7/15\n",
            "500/500 [==============================] - 18s 37ms/step - loss: 0.6709 - accuracy: 0.7681 - val_loss: 0.7798 - val_accuracy: 0.7292\n",
            "Epoch 8/15\n",
            "500/500 [==============================] - 18s 36ms/step - loss: 0.6293 - accuracy: 0.7821 - val_loss: 0.8269 - val_accuracy: 0.7268\n",
            "Epoch 9/15\n",
            "500/500 [==============================] - 18s 37ms/step - loss: 0.5873 - accuracy: 0.7967 - val_loss: 0.7790 - val_accuracy: 0.7384\n",
            "Epoch 10/15\n",
            "500/500 [==============================] - 18s 36ms/step - loss: 0.5529 - accuracy: 0.8080 - val_loss: 0.8004 - val_accuracy: 0.7380\n",
            "Epoch 11/15\n",
            "500/500 [==============================] - 18s 36ms/step - loss: 0.5255 - accuracy: 0.8151 - val_loss: 0.9039 - val_accuracy: 0.7024\n",
            "Epoch 12/15\n",
            "500/500 [==============================] - 18s 36ms/step - loss: 0.4908 - accuracy: 0.8297 - val_loss: 0.8630 - val_accuracy: 0.7307\n",
            "Epoch 13/15\n",
            "500/500 [==============================] - 19s 37ms/step - loss: 0.4618 - accuracy: 0.8388 - val_loss: 0.8011 - val_accuracy: 0.7471\n",
            "Epoch 14/15\n",
            "500/500 [==============================] - 18s 37ms/step - loss: 0.4320 - accuracy: 0.8495 - val_loss: 0.8295 - val_accuracy: 0.7411\n",
            "Epoch 15/15\n",
            "500/500 [==============================] - 18s 37ms/step - loss: 0.4012 - accuracy: 0.8611 - val_loss: 0.8473 - val_accuracy: 0.7446\n"
          ]
        }
      ],
      "source": [
        "# compile model\n",
        "model.compile(loss='categorical_crossentropy', optimizer='adam', metrics=['accuracy'])\n",
        "\n",
        "# train model\n",
        "history = model.fit(x_train, y_train,\n",
        "                    batch_size=100,\n",
        "                    epochs=15,\n",
        "                    validation_data=(x_test, y_test),\n",
        "                    shuffle=True)"
      ],
      "id": "UrXmXaHu2ULo"
    },
    {
      "cell_type": "code",
      "source": [
        "#plot confusion matrix for base model with pooling\n",
        "import sklearn.metrics\n",
        "\n",
        "y_pred = model.predict(x_test)\n",
        "y_pred = np.argmax(y_pred, axis=1)\n",
        "y_true = np.argmax(y_test, axis=1)\n",
        "\n",
        "print('\\n \\n $$$$$******** ^_^ Accuracy Base Convulotion Model with use Stride = {} % ^_^ **********$$$$$\\n \\n'.format(100 * np.sum(y_pred == y_true) / len(y_true)))\n",
        "print(\"**********  We have better result of accuracy with use pooling :) = 68.04 %    to-->   {} %   **********\\n \\n \".format(100 * np.sum(y_pred == y_true) / len(y_true)))\n",
        "\n",
        "conf = sklearn.metrics.confusion_matrix(y_true, y_pred, normalize=None)\n",
        "\n",
        "plt.imshow(conf)\n",
        "print(conf)\n",
        "\n",
        "conf_norm = sklearn.metrics.confusion_matrix(y_true, y_pred, normalize='true')\n",
        "print(conf_norm)"
      ],
      "metadata": {
        "outputId": "d74f5966-d310-42b2-c400-8edeca5f0892",
        "colab": {
          "base_uri": "https://localhost:8080/",
          "height": 933
        },
        "id": "aHzEt-a1G1h_"
      },
      "execution_count": 44,
      "outputs": [
        {
          "output_type": "stream",
          "name": "stdout",
          "text": [
            "313/313 [==============================] - 1s 4ms/step\n",
            "\n",
            " \n",
            " $$$$$******** ^_^ Accuracy Base Convulotion Model with use Stride = 74.46 % ^_^ **********$$$$$\n",
            " \n",
            "\n",
            "**********  We have better result of accuracy with use pooling :) = 68.04 %    to-->   74.46 %   **********\n",
            " \n",
            " \n",
            "[[778  19  28   9  24   2  10  16  72  42]\n",
            " [ 16 859   2   3   1   1   4   5  21  88]\n",
            " [ 76   8 606  35 100  43  60  38  24  10]\n",
            " [ 35  10  75 479 104 114  75  53  27  28]\n",
            " [ 18   6  50  28 761  30  41  57   6   3]\n",
            " [ 15   4  42 114  66 639  25  70   7  18]\n",
            " [  8   3  41  38  57   7 815  11  11   9]\n",
            " [ 13   3  29  19  69  42   7 797   2  19]\n",
            " [ 72  22   7   8   8   3   6   8 828  38]\n",
            " [ 24  44   5   1   2   0   6   6  28 884]]\n",
            "[[0.778 0.019 0.028 0.009 0.024 0.002 0.01  0.016 0.072 0.042]\n",
            " [0.016 0.859 0.002 0.003 0.001 0.001 0.004 0.005 0.021 0.088]\n",
            " [0.076 0.008 0.606 0.035 0.1   0.043 0.06  0.038 0.024 0.01 ]\n",
            " [0.035 0.01  0.075 0.479 0.104 0.114 0.075 0.053 0.027 0.028]\n",
            " [0.018 0.006 0.05  0.028 0.761 0.03  0.041 0.057 0.006 0.003]\n",
            " [0.015 0.004 0.042 0.114 0.066 0.639 0.025 0.07  0.007 0.018]\n",
            " [0.008 0.003 0.041 0.038 0.057 0.007 0.815 0.011 0.011 0.009]\n",
            " [0.013 0.003 0.029 0.019 0.069 0.042 0.007 0.797 0.002 0.019]\n",
            " [0.072 0.022 0.007 0.008 0.008 0.003 0.006 0.008 0.828 0.038]\n",
            " [0.024 0.044 0.005 0.001 0.002 0.    0.006 0.006 0.028 0.884]]\n"
          ]
        },
        {
          "output_type": "display_data",
          "data": {
            "text/plain": [
              "<Figure size 640x480 with 1 Axes>"
            ],
            "image/png": "[encoded data removed]"
          },
          "metadata": {}
        }
      ],
      "id": "aHzEt-a1G1h_"
    }
  ],
  "metadata": {
    "kernelspec": {
      "display_name": "Python 3",
      "name": "python3"
    },
    "language_info": {
      "codemirror_mode": {
        "name": "ipython",
        "version": 3
      },
      "file_extension": ".py",
      "mimetype": "text/x-python",
      "name": "python",
      "nbconvert_exporter": "python",
      "pygments_lexer": "ipython3",
      "version": "3.8.10"
    },
    "colab": {
      "provenance": [],
      "gpuType": "T4"
    },
    "accelerator": "GPU"
  },
  "nbformat": 4,
  "nbformat_minor": 5
}